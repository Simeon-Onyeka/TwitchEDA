{
 "cells": [
  {
   "cell_type": "code",
   "execution_count": 1,
   "metadata": {},
   "outputs": [],
   "source": [
    "import pandas as pd\n",
    "import os\n",
    "import numpy as np\n",
    "import matplotlib.pyplot as plt\n",
    "import plotly.express as px\n",
    "import plotly.graph_objects as go\n",
    "from plotly.subplots import make_subplots\n",
    "import seaborn as sns\n",
    "from scipy.stats import chi2_contingency\n",
    "import missingno as msno"
   ]
  },
  {
   "cell_type": "markdown",
   "metadata": {},
   "source": [
    "Import Data Set and make a copy."
   ]
  },
  {
   "cell_type": "code",
   "execution_count": 2,
   "metadata": {},
   "outputs": [
    {
     "data": {
      "text/html": [
       "<div>\n",
       "<style scoped>\n",
       "    .dataframe tbody tr th:only-of-type {\n",
       "        vertical-align: middle;\n",
       "    }\n",
       "\n",
       "    .dataframe tbody tr th {\n",
       "        vertical-align: top;\n",
       "    }\n",
       "\n",
       "    .dataframe thead th {\n",
       "        text-align: right;\n",
       "    }\n",
       "</style>\n",
       "<table border=\"1\" class=\"dataframe\">\n",
       "  <thead>\n",
       "    <tr style=\"text-align: right;\">\n",
       "      <th></th>\n",
       "      <th>Channel</th>\n",
       "      <th>Watch time(Minutes)</th>\n",
       "      <th>Stream time(minutes)</th>\n",
       "      <th>Peak viewers</th>\n",
       "      <th>Average viewers</th>\n",
       "      <th>Followers</th>\n",
       "      <th>Followers gained</th>\n",
       "      <th>Views gained</th>\n",
       "      <th>Partnered</th>\n",
       "      <th>Mature</th>\n",
       "      <th>Language</th>\n",
       "    </tr>\n",
       "  </thead>\n",
       "  <tbody>\n",
       "    <tr>\n",
       "      <th>0</th>\n",
       "      <td>xQcOW</td>\n",
       "      <td>6196161750</td>\n",
       "      <td>215250</td>\n",
       "      <td>222720</td>\n",
       "      <td>27716</td>\n",
       "      <td>3246298</td>\n",
       "      <td>1734810</td>\n",
       "      <td>93036735</td>\n",
       "      <td>True</td>\n",
       "      <td>False</td>\n",
       "      <td>English</td>\n",
       "    </tr>\n",
       "    <tr>\n",
       "      <th>1</th>\n",
       "      <td>summit1g</td>\n",
       "      <td>6091677300</td>\n",
       "      <td>211845</td>\n",
       "      <td>310998</td>\n",
       "      <td>25610</td>\n",
       "      <td>5310163</td>\n",
       "      <td>1370184</td>\n",
       "      <td>89705964</td>\n",
       "      <td>True</td>\n",
       "      <td>False</td>\n",
       "      <td>English</td>\n",
       "    </tr>\n",
       "    <tr>\n",
       "      <th>2</th>\n",
       "      <td>Gaules</td>\n",
       "      <td>5644590915</td>\n",
       "      <td>515280</td>\n",
       "      <td>387315</td>\n",
       "      <td>10976</td>\n",
       "      <td>1767635</td>\n",
       "      <td>1023779</td>\n",
       "      <td>102611607</td>\n",
       "      <td>True</td>\n",
       "      <td>True</td>\n",
       "      <td>Portuguese</td>\n",
       "    </tr>\n",
       "    <tr>\n",
       "      <th>3</th>\n",
       "      <td>ESL_CSGO</td>\n",
       "      <td>3970318140</td>\n",
       "      <td>517740</td>\n",
       "      <td>300575</td>\n",
       "      <td>7714</td>\n",
       "      <td>3944850</td>\n",
       "      <td>703986</td>\n",
       "      <td>106546942</td>\n",
       "      <td>True</td>\n",
       "      <td>False</td>\n",
       "      <td>English</td>\n",
       "    </tr>\n",
       "    <tr>\n",
       "      <th>4</th>\n",
       "      <td>Tfue</td>\n",
       "      <td>3671000070</td>\n",
       "      <td>123660</td>\n",
       "      <td>285644</td>\n",
       "      <td>29602</td>\n",
       "      <td>8938903</td>\n",
       "      <td>2068424</td>\n",
       "      <td>78998587</td>\n",
       "      <td>True</td>\n",
       "      <td>False</td>\n",
       "      <td>English</td>\n",
       "    </tr>\n",
       "    <tr>\n",
       "      <th>...</th>\n",
       "      <td>...</td>\n",
       "      <td>...</td>\n",
       "      <td>...</td>\n",
       "      <td>...</td>\n",
       "      <td>...</td>\n",
       "      <td>...</td>\n",
       "      <td>...</td>\n",
       "      <td>...</td>\n",
       "      <td>...</td>\n",
       "      <td>...</td>\n",
       "      <td>...</td>\n",
       "    </tr>\n",
       "    <tr>\n",
       "      <th>995</th>\n",
       "      <td>LITkillah</td>\n",
       "      <td>122524635</td>\n",
       "      <td>13560</td>\n",
       "      <td>21359</td>\n",
       "      <td>9104</td>\n",
       "      <td>601927</td>\n",
       "      <td>562691</td>\n",
       "      <td>2162107</td>\n",
       "      <td>True</td>\n",
       "      <td>False</td>\n",
       "      <td>Spanish</td>\n",
       "    </tr>\n",
       "    <tr>\n",
       "      <th>996</th>\n",
       "      <td>빅헤드 (bighead033)</td>\n",
       "      <td>122523705</td>\n",
       "      <td>153000</td>\n",
       "      <td>3940</td>\n",
       "      <td>793</td>\n",
       "      <td>213212</td>\n",
       "      <td>52289</td>\n",
       "      <td>4399897</td>\n",
       "      <td>True</td>\n",
       "      <td>False</td>\n",
       "      <td>Korean</td>\n",
       "    </tr>\n",
       "    <tr>\n",
       "      <th>997</th>\n",
       "      <td>마스카 (newmasca)</td>\n",
       "      <td>122452320</td>\n",
       "      <td>217410</td>\n",
       "      <td>6431</td>\n",
       "      <td>567</td>\n",
       "      <td>109068</td>\n",
       "      <td>-4942</td>\n",
       "      <td>3417970</td>\n",
       "      <td>True</td>\n",
       "      <td>False</td>\n",
       "      <td>Korean</td>\n",
       "    </tr>\n",
       "    <tr>\n",
       "      <th>998</th>\n",
       "      <td>AndyMilonakis</td>\n",
       "      <td>122311065</td>\n",
       "      <td>104745</td>\n",
       "      <td>10543</td>\n",
       "      <td>1153</td>\n",
       "      <td>547446</td>\n",
       "      <td>109111</td>\n",
       "      <td>3926918</td>\n",
       "      <td>True</td>\n",
       "      <td>False</td>\n",
       "      <td>English</td>\n",
       "    </tr>\n",
       "    <tr>\n",
       "      <th>999</th>\n",
       "      <td>Remx</td>\n",
       "      <td>122192850</td>\n",
       "      <td>99180</td>\n",
       "      <td>13788</td>\n",
       "      <td>1205</td>\n",
       "      <td>178553</td>\n",
       "      <td>59432</td>\n",
       "      <td>2049420</td>\n",
       "      <td>True</td>\n",
       "      <td>False</td>\n",
       "      <td>French</td>\n",
       "    </tr>\n",
       "  </tbody>\n",
       "</table>\n",
       "<p>1000 rows × 11 columns</p>\n",
       "</div>"
      ],
      "text/plain": [
       "              Channel  Watch time(Minutes)  Stream time(minutes)  \\\n",
       "0               xQcOW           6196161750                215250   \n",
       "1            summit1g           6091677300                211845   \n",
       "2              Gaules           5644590915                515280   \n",
       "3            ESL_CSGO           3970318140                517740   \n",
       "4                Tfue           3671000070                123660   \n",
       "..                ...                  ...                   ...   \n",
       "995         LITkillah            122524635                 13560   \n",
       "996  빅헤드 (bighead033)            122523705                153000   \n",
       "997    마스카 (newmasca)            122452320                217410   \n",
       "998     AndyMilonakis            122311065                104745   \n",
       "999              Remx            122192850                 99180   \n",
       "\n",
       "     Peak viewers  Average viewers  Followers  Followers gained  Views gained  \\\n",
       "0          222720            27716    3246298           1734810      93036735   \n",
       "1          310998            25610    5310163           1370184      89705964   \n",
       "2          387315            10976    1767635           1023779     102611607   \n",
       "3          300575             7714    3944850            703986     106546942   \n",
       "4          285644            29602    8938903           2068424      78998587   \n",
       "..            ...              ...        ...               ...           ...   \n",
       "995         21359             9104     601927            562691       2162107   \n",
       "996          3940              793     213212             52289       4399897   \n",
       "997          6431              567     109068             -4942       3417970   \n",
       "998         10543             1153     547446            109111       3926918   \n",
       "999         13788             1205     178553             59432       2049420   \n",
       "\n",
       "     Partnered  Mature    Language  \n",
       "0         True   False     English  \n",
       "1         True   False     English  \n",
       "2         True    True  Portuguese  \n",
       "3         True   False     English  \n",
       "4         True   False     English  \n",
       "..         ...     ...         ...  \n",
       "995       True   False     Spanish  \n",
       "996       True   False      Korean  \n",
       "997       True   False      Korean  \n",
       "998       True   False     English  \n",
       "999       True   False      French  \n",
       "\n",
       "[1000 rows x 11 columns]"
      ]
     },
     "execution_count": 2,
     "metadata": {},
     "output_type": "execute_result"
    }
   ],
   "source": [
    "pwd = os.getcwd()\n",
    "twitch = pd.read_csv(pwd + '/data-twitchdata-update.csv')\n",
    "twitch_modified = twitch.copy()\n",
    "twitch_modified"
   ]
  },
  {
   "cell_type": "code",
   "execution_count": 6,
   "metadata": {},
   "outputs": [
    {
     "data": {
      "text/plain": [
       "Index(['Channel', 'Watch time(Minutes)', 'Stream time(minutes)',\n",
       "       'Peak viewers', 'Average viewers', 'Followers', 'Followers gained',\n",
       "       'Views gained', 'Partnered', 'Mature', 'Language'],\n",
       "      dtype='object')"
      ]
     },
     "execution_count": 6,
     "metadata": {},
     "output_type": "execute_result"
    }
   ],
   "source": [
    "twitch_modified.columns"
   ]
  },
  {
   "cell_type": "code",
   "execution_count": 3,
   "metadata": {},
   "outputs": [
    {
     "data": {
      "text/html": [
       "<div>\n",
       "<style scoped>\n",
       "    .dataframe tbody tr th:only-of-type {\n",
       "        vertical-align: middle;\n",
       "    }\n",
       "\n",
       "    .dataframe tbody tr th {\n",
       "        vertical-align: top;\n",
       "    }\n",
       "\n",
       "    .dataframe thead th {\n",
       "        text-align: right;\n",
       "    }\n",
       "</style>\n",
       "<table border=\"1\" class=\"dataframe\">\n",
       "  <thead>\n",
       "    <tr style=\"text-align: right;\">\n",
       "      <th></th>\n",
       "      <th>Channel</th>\n",
       "      <th>Watch_Time(Minutes)</th>\n",
       "      <th>Stream_Time(Minutes)</th>\n",
       "      <th>Peak_Viewers</th>\n",
       "      <th>Average_Viewers</th>\n",
       "      <th>Followers</th>\n",
       "      <th>Followers_Gained</th>\n",
       "      <th>Views_Gained</th>\n",
       "      <th>Partnered</th>\n",
       "      <th>Mature</th>\n",
       "      <th>Language</th>\n",
       "    </tr>\n",
       "  </thead>\n",
       "  <tbody>\n",
       "    <tr>\n",
       "      <th>0</th>\n",
       "      <td>xQcOW</td>\n",
       "      <td>6196161750</td>\n",
       "      <td>215250</td>\n",
       "      <td>222720</td>\n",
       "      <td>27716</td>\n",
       "      <td>3246298</td>\n",
       "      <td>1734810</td>\n",
       "      <td>93036735</td>\n",
       "      <td>True</td>\n",
       "      <td>False</td>\n",
       "      <td>English</td>\n",
       "    </tr>\n",
       "    <tr>\n",
       "      <th>1</th>\n",
       "      <td>summit1g</td>\n",
       "      <td>6091677300</td>\n",
       "      <td>211845</td>\n",
       "      <td>310998</td>\n",
       "      <td>25610</td>\n",
       "      <td>5310163</td>\n",
       "      <td>1370184</td>\n",
       "      <td>89705964</td>\n",
       "      <td>True</td>\n",
       "      <td>False</td>\n",
       "      <td>English</td>\n",
       "    </tr>\n",
       "    <tr>\n",
       "      <th>2</th>\n",
       "      <td>Gaules</td>\n",
       "      <td>5644590915</td>\n",
       "      <td>515280</td>\n",
       "      <td>387315</td>\n",
       "      <td>10976</td>\n",
       "      <td>1767635</td>\n",
       "      <td>1023779</td>\n",
       "      <td>102611607</td>\n",
       "      <td>True</td>\n",
       "      <td>True</td>\n",
       "      <td>Portuguese</td>\n",
       "    </tr>\n",
       "    <tr>\n",
       "      <th>3</th>\n",
       "      <td>ESL_CSGO</td>\n",
       "      <td>3970318140</td>\n",
       "      <td>517740</td>\n",
       "      <td>300575</td>\n",
       "      <td>7714</td>\n",
       "      <td>3944850</td>\n",
       "      <td>703986</td>\n",
       "      <td>106546942</td>\n",
       "      <td>True</td>\n",
       "      <td>False</td>\n",
       "      <td>English</td>\n",
       "    </tr>\n",
       "    <tr>\n",
       "      <th>4</th>\n",
       "      <td>Tfue</td>\n",
       "      <td>3671000070</td>\n",
       "      <td>123660</td>\n",
       "      <td>285644</td>\n",
       "      <td>29602</td>\n",
       "      <td>8938903</td>\n",
       "      <td>2068424</td>\n",
       "      <td>78998587</td>\n",
       "      <td>True</td>\n",
       "      <td>False</td>\n",
       "      <td>English</td>\n",
       "    </tr>\n",
       "    <tr>\n",
       "      <th>...</th>\n",
       "      <td>...</td>\n",
       "      <td>...</td>\n",
       "      <td>...</td>\n",
       "      <td>...</td>\n",
       "      <td>...</td>\n",
       "      <td>...</td>\n",
       "      <td>...</td>\n",
       "      <td>...</td>\n",
       "      <td>...</td>\n",
       "      <td>...</td>\n",
       "      <td>...</td>\n",
       "    </tr>\n",
       "    <tr>\n",
       "      <th>995</th>\n",
       "      <td>LITkillah</td>\n",
       "      <td>122524635</td>\n",
       "      <td>13560</td>\n",
       "      <td>21359</td>\n",
       "      <td>9104</td>\n",
       "      <td>601927</td>\n",
       "      <td>562691</td>\n",
       "      <td>2162107</td>\n",
       "      <td>True</td>\n",
       "      <td>False</td>\n",
       "      <td>Spanish</td>\n",
       "    </tr>\n",
       "    <tr>\n",
       "      <th>996</th>\n",
       "      <td>빅헤드 (bighead033)</td>\n",
       "      <td>122523705</td>\n",
       "      <td>153000</td>\n",
       "      <td>3940</td>\n",
       "      <td>793</td>\n",
       "      <td>213212</td>\n",
       "      <td>52289</td>\n",
       "      <td>4399897</td>\n",
       "      <td>True</td>\n",
       "      <td>False</td>\n",
       "      <td>Korean</td>\n",
       "    </tr>\n",
       "    <tr>\n",
       "      <th>997</th>\n",
       "      <td>마스카 (newmasca)</td>\n",
       "      <td>122452320</td>\n",
       "      <td>217410</td>\n",
       "      <td>6431</td>\n",
       "      <td>567</td>\n",
       "      <td>109068</td>\n",
       "      <td>-4942</td>\n",
       "      <td>3417970</td>\n",
       "      <td>True</td>\n",
       "      <td>False</td>\n",
       "      <td>Korean</td>\n",
       "    </tr>\n",
       "    <tr>\n",
       "      <th>998</th>\n",
       "      <td>AndyMilonakis</td>\n",
       "      <td>122311065</td>\n",
       "      <td>104745</td>\n",
       "      <td>10543</td>\n",
       "      <td>1153</td>\n",
       "      <td>547446</td>\n",
       "      <td>109111</td>\n",
       "      <td>3926918</td>\n",
       "      <td>True</td>\n",
       "      <td>False</td>\n",
       "      <td>English</td>\n",
       "    </tr>\n",
       "    <tr>\n",
       "      <th>999</th>\n",
       "      <td>Remx</td>\n",
       "      <td>122192850</td>\n",
       "      <td>99180</td>\n",
       "      <td>13788</td>\n",
       "      <td>1205</td>\n",
       "      <td>178553</td>\n",
       "      <td>59432</td>\n",
       "      <td>2049420</td>\n",
       "      <td>True</td>\n",
       "      <td>False</td>\n",
       "      <td>French</td>\n",
       "    </tr>\n",
       "  </tbody>\n",
       "</table>\n",
       "<p>1000 rows × 11 columns</p>\n",
       "</div>"
      ],
      "text/plain": [
       "              Channel  Watch_Time(Minutes)  Stream_Time(Minutes)  \\\n",
       "0               xQcOW           6196161750                215250   \n",
       "1            summit1g           6091677300                211845   \n",
       "2              Gaules           5644590915                515280   \n",
       "3            ESL_CSGO           3970318140                517740   \n",
       "4                Tfue           3671000070                123660   \n",
       "..                ...                  ...                   ...   \n",
       "995         LITkillah            122524635                 13560   \n",
       "996  빅헤드 (bighead033)            122523705                153000   \n",
       "997    마스카 (newmasca)            122452320                217410   \n",
       "998     AndyMilonakis            122311065                104745   \n",
       "999              Remx            122192850                 99180   \n",
       "\n",
       "     Peak_Viewers  Average_Viewers  Followers  Followers_Gained  Views_Gained  \\\n",
       "0          222720            27716    3246298           1734810      93036735   \n",
       "1          310998            25610    5310163           1370184      89705964   \n",
       "2          387315            10976    1767635           1023779     102611607   \n",
       "3          300575             7714    3944850            703986     106546942   \n",
       "4          285644            29602    8938903           2068424      78998587   \n",
       "..            ...              ...        ...               ...           ...   \n",
       "995         21359             9104     601927            562691       2162107   \n",
       "996          3940              793     213212             52289       4399897   \n",
       "997          6431              567     109068             -4942       3417970   \n",
       "998         10543             1153     547446            109111       3926918   \n",
       "999         13788             1205     178553             59432       2049420   \n",
       "\n",
       "     Partnered  Mature    Language  \n",
       "0         True   False     English  \n",
       "1         True   False     English  \n",
       "2         True    True  Portuguese  \n",
       "3         True   False     English  \n",
       "4         True   False     English  \n",
       "..         ...     ...         ...  \n",
       "995       True   False     Spanish  \n",
       "996       True   False      Korean  \n",
       "997       True   False      Korean  \n",
       "998       True   False     English  \n",
       "999       True   False      French  \n",
       "\n",
       "[1000 rows x 11 columns]"
      ]
     },
     "execution_count": 3,
     "metadata": {},
     "output_type": "execute_result"
    }
   ],
   "source": [
    "twitch_modified = twitch_modified.rename({'Watch time(Minutes)':'Watch_Time(Minutes)', 'Stream time(minutes)':'Stream_Time(Minutes)', 'Peak viewers':'Peak_Viewers', 'Average viewers':'Average_Viewers', 'Followers gained':'Followers_Gained', 'Views gained':'Views_Gained'}, axis=1)\n",
    "twitch_modified"
   ]
  },
  {
   "cell_type": "markdown",
   "metadata": {},
   "source": [
    "<font size= \"6\">Univariate Analysis</font>"
   ]
  },
  {
   "cell_type": "markdown",
   "metadata": {},
   "source": [
    "<font size= \"3\">Common Data Types</font>"
   ]
  },
  {
   "cell_type": "code",
   "execution_count": 15,
   "metadata": {},
   "outputs": [
    {
     "data": {
      "text/plain": [
       "Channel                  object\n",
       "Watch_Time(Minutes)     float64\n",
       "Stream_Time(Minutes)      int64\n",
       "Peak_Viewers              int64\n",
       "Average_Viewers           int64\n",
       "Followers                 int64\n",
       "Followers_Gained          int64\n",
       "Views_Gained              int64\n",
       "Partnered                  bool\n",
       "Mature                     bool\n",
       "Language                 object\n",
       "dtype: object"
      ]
     },
     "execution_count": 15,
     "metadata": {},
     "output_type": "execute_result"
    }
   ],
   "source": [
    "##Data types\n",
    "\n",
    "twitch_modified.dtypes"
   ]
  },
  {
   "cell_type": "markdown",
   "metadata": {},
   "source": [
    "<font size= \"3\">Seeing if there is missing values</font>"
   ]
  },
  {
   "cell_type": "code",
   "execution_count": 16,
   "metadata": {},
   "outputs": [
    {
     "data": {
      "text/plain": [
       "<AxesSubplot:>"
      ]
     },
     "execution_count": 16,
     "metadata": {},
     "output_type": "execute_result"
    },
    {
     "data": {
      "image/png": "[encoded data removed]",
      "text/plain": [
       "<Figure size 1800x720 with 2 Axes>"
      ]
     },
     "metadata": {
      "needs_background": "light"
     },
     "output_type": "display_data"
    }
   ],
   "source": [
    "##Missing Values\n",
    "\n",
    "msno.matrix(twitch_modified)"
   ]
  },
  {
   "cell_type": "code",
   "execution_count": 17,
   "metadata": {},
   "outputs": [
    {
     "name": "stderr",
     "output_type": "stream",
     "text": [
      "/Users/simeononyeka/opt/anaconda3/lib/python3.9/site-packages/seaborn/matrix.py:305: UserWarning: Attempting to set identical left == right == 0 results in singular transformations; automatically expanding.\n",
      "  ax.set(xlim=(0, self.data.shape[1]), ylim=(0, self.data.shape[0]))\n",
      "/Users/simeononyeka/opt/anaconda3/lib/python3.9/site-packages/seaborn/matrix.py:305: UserWarning: Attempting to set identical bottom == top == 0 results in singular transformations; automatically expanding.\n",
      "  ax.set(xlim=(0, self.data.shape[1]), ylim=(0, self.data.shape[0]))\n"
     ]
    },
    {
     "data": {
      "text/plain": [
       "<AxesSubplot:>"
      ]
     },
     "execution_count": 17,
     "metadata": {},
     "output_type": "execute_result"
    },
    {
     "data": {
      "image/png": "[encoded data removed]",
      "text/plain": [
       "<Figure size 1440x864 with 2 Axes>"
      ]
     },
     "metadata": {
      "needs_background": "light"
     },
     "output_type": "display_data"
    }
   ],
   "source": [
    "##Missing variable heatmap\n",
    "\n",
    "msno.heatmap(twitch_modified)"
   ]
  },
  {
   "cell_type": "markdown",
   "metadata": {},
   "source": [
    "<font size= \"3\">Numerical Data Types</font>"
   ]
  },
  {
   "cell_type": "code",
   "execution_count": 18,
   "metadata": {},
   "outputs": [
    {
     "data": {
      "text/html": [
       "<div>\n",
       "<style scoped>\n",
       "    .dataframe tbody tr th:only-of-type {\n",
       "        vertical-align: middle;\n",
       "    }\n",
       "\n",
       "    .dataframe tbody tr th {\n",
       "        vertical-align: top;\n",
       "    }\n",
       "\n",
       "    .dataframe thead th {\n",
       "        text-align: right;\n",
       "    }\n",
       "</style>\n",
       "<table border=\"1\" class=\"dataframe\">\n",
       "  <thead>\n",
       "    <tr style=\"text-align: right;\">\n",
       "      <th></th>\n",
       "      <th>Watch_Time(Minutes)</th>\n",
       "      <th>Stream_Time(Minutes)</th>\n",
       "      <th>Peak_Viewers</th>\n",
       "      <th>Average_Viewers</th>\n",
       "      <th>Followers</th>\n",
       "      <th>Followers_Gained</th>\n",
       "      <th>Views_Gained</th>\n",
       "    </tr>\n",
       "  </thead>\n",
       "  <tbody>\n",
       "    <tr>\n",
       "      <th>count</th>\n",
       "      <td>1.000000e+03</td>\n",
       "      <td>1000.000000</td>\n",
       "      <td>1000.000000</td>\n",
       "      <td>1000.000000</td>\n",
       "      <td>1.000000e+03</td>\n",
       "      <td>1.000000e+03</td>\n",
       "      <td>1.000000e+03</td>\n",
       "    </tr>\n",
       "    <tr>\n",
       "      <th>mean</th>\n",
       "      <td>1.162300e+05</td>\n",
       "      <td>120515.160000</td>\n",
       "      <td>37065.051000</td>\n",
       "      <td>4781.040000</td>\n",
       "      <td>5.700541e+05</td>\n",
       "      <td>2.055185e+05</td>\n",
       "      <td>1.166817e+07</td>\n",
       "    </tr>\n",
       "    <tr>\n",
       "      <th>std</th>\n",
       "      <td>1.526765e+05</td>\n",
       "      <td>85376.201364</td>\n",
       "      <td>60314.307686</td>\n",
       "      <td>8453.684965</td>\n",
       "      <td>8.044134e+05</td>\n",
       "      <td>3.399137e+05</td>\n",
       "      <td>2.490572e+07</td>\n",
       "    </tr>\n",
       "    <tr>\n",
       "      <th>min</th>\n",
       "      <td>3.394246e+04</td>\n",
       "      <td>3465.000000</td>\n",
       "      <td>496.000000</td>\n",
       "      <td>235.000000</td>\n",
       "      <td>3.660000e+03</td>\n",
       "      <td>-1.577200e+04</td>\n",
       "      <td>1.757880e+05</td>\n",
       "    </tr>\n",
       "    <tr>\n",
       "      <th>25%</th>\n",
       "      <td>4.533053e+04</td>\n",
       "      <td>73758.750000</td>\n",
       "      <td>9113.750000</td>\n",
       "      <td>1457.750000</td>\n",
       "      <td>1.705462e+05</td>\n",
       "      <td>4.375825e+04</td>\n",
       "      <td>3.880602e+06</td>\n",
       "    </tr>\n",
       "    <tr>\n",
       "      <th>50%</th>\n",
       "      <td>6.527522e+04</td>\n",
       "      <td>108240.000000</td>\n",
       "      <td>16676.000000</td>\n",
       "      <td>2425.000000</td>\n",
       "      <td>3.180630e+05</td>\n",
       "      <td>9.835200e+04</td>\n",
       "      <td>6.456324e+06</td>\n",
       "    </tr>\n",
       "    <tr>\n",
       "      <th>75%</th>\n",
       "      <td>1.204833e+05</td>\n",
       "      <td>141843.750000</td>\n",
       "      <td>37569.750000</td>\n",
       "      <td>4786.250000</td>\n",
       "      <td>6.243322e+05</td>\n",
       "      <td>2.361308e+05</td>\n",
       "      <td>1.219676e+07</td>\n",
       "    </tr>\n",
       "    <tr>\n",
       "      <th>max</th>\n",
       "      <td>1.721156e+06</td>\n",
       "      <td>521445.000000</td>\n",
       "      <td>639375.000000</td>\n",
       "      <td>147643.000000</td>\n",
       "      <td>8.938903e+06</td>\n",
       "      <td>3.966525e+06</td>\n",
       "      <td>6.701375e+08</td>\n",
       "    </tr>\n",
       "  </tbody>\n",
       "</table>\n",
       "</div>"
      ],
      "text/plain": [
       "       Watch_Time(Minutes)  Stream_Time(Minutes)   Peak_Viewers  \\\n",
       "count         1.000000e+03           1000.000000    1000.000000   \n",
       "mean          1.162300e+05         120515.160000   37065.051000   \n",
       "std           1.526765e+05          85376.201364   60314.307686   \n",
       "min           3.394246e+04           3465.000000     496.000000   \n",
       "25%           4.533053e+04          73758.750000    9113.750000   \n",
       "50%           6.527522e+04         108240.000000   16676.000000   \n",
       "75%           1.204833e+05         141843.750000   37569.750000   \n",
       "max           1.721156e+06         521445.000000  639375.000000   \n",
       "\n",
       "       Average_Viewers     Followers  Followers_Gained  Views_Gained  \n",
       "count      1000.000000  1.000000e+03      1.000000e+03  1.000000e+03  \n",
       "mean       4781.040000  5.700541e+05      2.055185e+05  1.166817e+07  \n",
       "std        8453.684965  8.044134e+05      3.399137e+05  2.490572e+07  \n",
       "min         235.000000  3.660000e+03     -1.577200e+04  1.757880e+05  \n",
       "25%        1457.750000  1.705462e+05      4.375825e+04  3.880602e+06  \n",
       "50%        2425.000000  3.180630e+05      9.835200e+04  6.456324e+06  \n",
       "75%        4786.250000  6.243322e+05      2.361308e+05  1.219676e+07  \n",
       "max      147643.000000  8.938903e+06      3.966525e+06  6.701375e+08  "
      ]
     },
     "execution_count": 18,
     "metadata": {},
     "output_type": "execute_result"
    }
   ],
   "source": [
    "## Quantile / Descriptive Statistics #\n",
    "\n",
    "twitch_modified.describe()"
   ]
  },
  {
   "cell_type": "code",
   "execution_count": 5,
   "metadata": {},
   "outputs": [
    {
     "data": {
      "text/html": [
       "<div>\n",
       "<style scoped>\n",
       "    .dataframe tbody tr th:only-of-type {\n",
       "        vertical-align: middle;\n",
       "    }\n",
       "\n",
       "    .dataframe tbody tr th {\n",
       "        vertical-align: top;\n",
       "    }\n",
       "\n",
       "    .dataframe thead th {\n",
       "        text-align: right;\n",
       "    }\n",
       "</style>\n",
       "<table border=\"1\" class=\"dataframe\">\n",
       "  <thead>\n",
       "    <tr style=\"text-align: right;\">\n",
       "      <th></th>\n",
       "      <th>Channel</th>\n",
       "      <th>Watch_Time(Minutes)</th>\n",
       "      <th>Stream_Time(Minutes)</th>\n",
       "      <th>Peak_Viewers</th>\n",
       "      <th>Average_Viewers</th>\n",
       "      <th>Followers</th>\n",
       "      <th>Followers_Gained</th>\n",
       "      <th>Views_Gained</th>\n",
       "      <th>Partnered</th>\n",
       "      <th>Mature</th>\n",
       "      <th>Language</th>\n",
       "    </tr>\n",
       "  </thead>\n",
       "  <tbody>\n",
       "    <tr>\n",
       "      <th>0</th>\n",
       "      <td>xQcOW</td>\n",
       "      <td>1.032694e+08</td>\n",
       "      <td>3587.50</td>\n",
       "      <td>222720</td>\n",
       "      <td>27716</td>\n",
       "      <td>3246298</td>\n",
       "      <td>1734810</td>\n",
       "      <td>93036735</td>\n",
       "      <td>True</td>\n",
       "      <td>False</td>\n",
       "      <td>English</td>\n",
       "    </tr>\n",
       "    <tr>\n",
       "      <th>1</th>\n",
       "      <td>summit1g</td>\n",
       "      <td>1.015280e+08</td>\n",
       "      <td>3530.75</td>\n",
       "      <td>310998</td>\n",
       "      <td>25610</td>\n",
       "      <td>5310163</td>\n",
       "      <td>1370184</td>\n",
       "      <td>89705964</td>\n",
       "      <td>True</td>\n",
       "      <td>False</td>\n",
       "      <td>English</td>\n",
       "    </tr>\n",
       "    <tr>\n",
       "      <th>2</th>\n",
       "      <td>Gaules</td>\n",
       "      <td>9.407652e+07</td>\n",
       "      <td>8588.00</td>\n",
       "      <td>387315</td>\n",
       "      <td>10976</td>\n",
       "      <td>1767635</td>\n",
       "      <td>1023779</td>\n",
       "      <td>102611607</td>\n",
       "      <td>True</td>\n",
       "      <td>True</td>\n",
       "      <td>Portuguese</td>\n",
       "    </tr>\n",
       "    <tr>\n",
       "      <th>3</th>\n",
       "      <td>ESL_CSGO</td>\n",
       "      <td>6.617197e+07</td>\n",
       "      <td>8629.00</td>\n",
       "      <td>300575</td>\n",
       "      <td>7714</td>\n",
       "      <td>3944850</td>\n",
       "      <td>703986</td>\n",
       "      <td>106546942</td>\n",
       "      <td>True</td>\n",
       "      <td>False</td>\n",
       "      <td>English</td>\n",
       "    </tr>\n",
       "    <tr>\n",
       "      <th>4</th>\n",
       "      <td>Tfue</td>\n",
       "      <td>6.118333e+07</td>\n",
       "      <td>2061.00</td>\n",
       "      <td>285644</td>\n",
       "      <td>29602</td>\n",
       "      <td>8938903</td>\n",
       "      <td>2068424</td>\n",
       "      <td>78998587</td>\n",
       "      <td>True</td>\n",
       "      <td>False</td>\n",
       "      <td>English</td>\n",
       "    </tr>\n",
       "    <tr>\n",
       "      <th>...</th>\n",
       "      <td>...</td>\n",
       "      <td>...</td>\n",
       "      <td>...</td>\n",
       "      <td>...</td>\n",
       "      <td>...</td>\n",
       "      <td>...</td>\n",
       "      <td>...</td>\n",
       "      <td>...</td>\n",
       "      <td>...</td>\n",
       "      <td>...</td>\n",
       "      <td>...</td>\n",
       "    </tr>\n",
       "    <tr>\n",
       "      <th>995</th>\n",
       "      <td>LITkillah</td>\n",
       "      <td>2.042077e+06</td>\n",
       "      <td>226.00</td>\n",
       "      <td>21359</td>\n",
       "      <td>9104</td>\n",
       "      <td>601927</td>\n",
       "      <td>562691</td>\n",
       "      <td>2162107</td>\n",
       "      <td>True</td>\n",
       "      <td>False</td>\n",
       "      <td>Spanish</td>\n",
       "    </tr>\n",
       "    <tr>\n",
       "      <th>996</th>\n",
       "      <td>빅헤드 (bighead033)</td>\n",
       "      <td>2.042062e+06</td>\n",
       "      <td>2550.00</td>\n",
       "      <td>3940</td>\n",
       "      <td>793</td>\n",
       "      <td>213212</td>\n",
       "      <td>52289</td>\n",
       "      <td>4399897</td>\n",
       "      <td>True</td>\n",
       "      <td>False</td>\n",
       "      <td>Korean</td>\n",
       "    </tr>\n",
       "    <tr>\n",
       "      <th>997</th>\n",
       "      <td>마스카 (newmasca)</td>\n",
       "      <td>2.040872e+06</td>\n",
       "      <td>3623.50</td>\n",
       "      <td>6431</td>\n",
       "      <td>567</td>\n",
       "      <td>109068</td>\n",
       "      <td>-4942</td>\n",
       "      <td>3417970</td>\n",
       "      <td>True</td>\n",
       "      <td>False</td>\n",
       "      <td>Korean</td>\n",
       "    </tr>\n",
       "    <tr>\n",
       "      <th>998</th>\n",
       "      <td>AndyMilonakis</td>\n",
       "      <td>2.038518e+06</td>\n",
       "      <td>1745.75</td>\n",
       "      <td>10543</td>\n",
       "      <td>1153</td>\n",
       "      <td>547446</td>\n",
       "      <td>109111</td>\n",
       "      <td>3926918</td>\n",
       "      <td>True</td>\n",
       "      <td>False</td>\n",
       "      <td>English</td>\n",
       "    </tr>\n",
       "    <tr>\n",
       "      <th>999</th>\n",
       "      <td>Remx</td>\n",
       "      <td>2.036548e+06</td>\n",
       "      <td>1653.00</td>\n",
       "      <td>13788</td>\n",
       "      <td>1205</td>\n",
       "      <td>178553</td>\n",
       "      <td>59432</td>\n",
       "      <td>2049420</td>\n",
       "      <td>True</td>\n",
       "      <td>False</td>\n",
       "      <td>French</td>\n",
       "    </tr>\n",
       "  </tbody>\n",
       "</table>\n",
       "<p>1000 rows × 11 columns</p>\n",
       "</div>"
      ],
      "text/plain": [
       "              Channel  Watch_Time(Minutes)  Stream_Time(Minutes)  \\\n",
       "0               xQcOW         1.032694e+08               3587.50   \n",
       "1            summit1g         1.015280e+08               3530.75   \n",
       "2              Gaules         9.407652e+07               8588.00   \n",
       "3            ESL_CSGO         6.617197e+07               8629.00   \n",
       "4                Tfue         6.118333e+07               2061.00   \n",
       "..                ...                  ...                   ...   \n",
       "995         LITkillah         2.042077e+06                226.00   \n",
       "996  빅헤드 (bighead033)         2.042062e+06               2550.00   \n",
       "997    마스카 (newmasca)         2.040872e+06               3623.50   \n",
       "998     AndyMilonakis         2.038518e+06               1745.75   \n",
       "999              Remx         2.036548e+06               1653.00   \n",
       "\n",
       "     Peak_Viewers  Average_Viewers  Followers  Followers_Gained  Views_Gained  \\\n",
       "0          222720            27716    3246298           1734810      93036735   \n",
       "1          310998            25610    5310163           1370184      89705964   \n",
       "2          387315            10976    1767635           1023779     102611607   \n",
       "3          300575             7714    3944850            703986     106546942   \n",
       "4          285644            29602    8938903           2068424      78998587   \n",
       "..            ...              ...        ...               ...           ...   \n",
       "995         21359             9104     601927            562691       2162107   \n",
       "996          3940              793     213212             52289       4399897   \n",
       "997          6431              567     109068             -4942       3417970   \n",
       "998         10543             1153     547446            109111       3926918   \n",
       "999         13788             1205     178553             59432       2049420   \n",
       "\n",
       "     Partnered  Mature    Language  \n",
       "0         True   False     English  \n",
       "1         True   False     English  \n",
       "2         True    True  Portuguese  \n",
       "3         True   False     English  \n",
       "4         True   False     English  \n",
       "..         ...     ...         ...  \n",
       "995       True   False     Spanish  \n",
       "996       True   False      Korean  \n",
       "997       True   False      Korean  \n",
       "998       True   False     English  \n",
       "999       True   False      French  \n",
       "\n",
       "[1000 rows x 11 columns]"
      ]
     },
     "execution_count": 5,
     "metadata": {},
     "output_type": "execute_result"
    }
   ],
   "source": [
    "## convert watch time and stream time to hours\n",
    "\n",
    "twitch_modified['Watch_Time(Minutes)'] = twitch_modified['Watch_Time(Minutes)'] / 60\n",
    "twitch_modified['Stream_Time(Minutes)'] = twitch_modified['Stream_Time(Minutes)'] / 60\n",
    "twitch_modified"
   ]
  },
  {
   "cell_type": "code",
   "execution_count": 6,
   "metadata": {},
   "outputs": [
    {
     "data": {
      "text/html": [
       "<div>\n",
       "<style scoped>\n",
       "    .dataframe tbody tr th:only-of-type {\n",
       "        vertical-align: middle;\n",
       "    }\n",
       "\n",
       "    .dataframe tbody tr th {\n",
       "        vertical-align: top;\n",
       "    }\n",
       "\n",
       "    .dataframe thead th {\n",
       "        text-align: right;\n",
       "    }\n",
       "</style>\n",
       "<table border=\"1\" class=\"dataframe\">\n",
       "  <thead>\n",
       "    <tr style=\"text-align: right;\">\n",
       "      <th></th>\n",
       "      <th>Channel</th>\n",
       "      <th>Watch_Time(Hours)</th>\n",
       "      <th>Stream_Time(Hours)</th>\n",
       "      <th>Peak_Viewers</th>\n",
       "      <th>Average_Viewers</th>\n",
       "      <th>Followers</th>\n",
       "      <th>Followers_Gained</th>\n",
       "      <th>Views_Gained</th>\n",
       "      <th>Partnered</th>\n",
       "      <th>Mature</th>\n",
       "      <th>Language</th>\n",
       "    </tr>\n",
       "  </thead>\n",
       "  <tbody>\n",
       "    <tr>\n",
       "      <th>0</th>\n",
       "      <td>xQcOW</td>\n",
       "      <td>1.032694e+08</td>\n",
       "      <td>3587.50</td>\n",
       "      <td>222720</td>\n",
       "      <td>27716</td>\n",
       "      <td>3246298</td>\n",
       "      <td>1734810</td>\n",
       "      <td>93036735</td>\n",
       "      <td>True</td>\n",
       "      <td>False</td>\n",
       "      <td>English</td>\n",
       "    </tr>\n",
       "    <tr>\n",
       "      <th>1</th>\n",
       "      <td>summit1g</td>\n",
       "      <td>1.015280e+08</td>\n",
       "      <td>3530.75</td>\n",
       "      <td>310998</td>\n",
       "      <td>25610</td>\n",
       "      <td>5310163</td>\n",
       "      <td>1370184</td>\n",
       "      <td>89705964</td>\n",
       "      <td>True</td>\n",
       "      <td>False</td>\n",
       "      <td>English</td>\n",
       "    </tr>\n",
       "    <tr>\n",
       "      <th>2</th>\n",
       "      <td>Gaules</td>\n",
       "      <td>9.407652e+07</td>\n",
       "      <td>8588.00</td>\n",
       "      <td>387315</td>\n",
       "      <td>10976</td>\n",
       "      <td>1767635</td>\n",
       "      <td>1023779</td>\n",
       "      <td>102611607</td>\n",
       "      <td>True</td>\n",
       "      <td>True</td>\n",
       "      <td>Portuguese</td>\n",
       "    </tr>\n",
       "    <tr>\n",
       "      <th>3</th>\n",
       "      <td>ESL_CSGO</td>\n",
       "      <td>6.617197e+07</td>\n",
       "      <td>8629.00</td>\n",
       "      <td>300575</td>\n",
       "      <td>7714</td>\n",
       "      <td>3944850</td>\n",
       "      <td>703986</td>\n",
       "      <td>106546942</td>\n",
       "      <td>True</td>\n",
       "      <td>False</td>\n",
       "      <td>English</td>\n",
       "    </tr>\n",
       "    <tr>\n",
       "      <th>4</th>\n",
       "      <td>Tfue</td>\n",
       "      <td>6.118333e+07</td>\n",
       "      <td>2061.00</td>\n",
       "      <td>285644</td>\n",
       "      <td>29602</td>\n",
       "      <td>8938903</td>\n",
       "      <td>2068424</td>\n",
       "      <td>78998587</td>\n",
       "      <td>True</td>\n",
       "      <td>False</td>\n",
       "      <td>English</td>\n",
       "    </tr>\n",
       "    <tr>\n",
       "      <th>...</th>\n",
       "      <td>...</td>\n",
       "      <td>...</td>\n",
       "      <td>...</td>\n",
       "      <td>...</td>\n",
       "      <td>...</td>\n",
       "      <td>...</td>\n",
       "      <td>...</td>\n",
       "      <td>...</td>\n",
       "      <td>...</td>\n",
       "      <td>...</td>\n",
       "      <td>...</td>\n",
       "    </tr>\n",
       "    <tr>\n",
       "      <th>995</th>\n",
       "      <td>LITkillah</td>\n",
       "      <td>2.042077e+06</td>\n",
       "      <td>226.00</td>\n",
       "      <td>21359</td>\n",
       "      <td>9104</td>\n",
       "      <td>601927</td>\n",
       "      <td>562691</td>\n",
       "      <td>2162107</td>\n",
       "      <td>True</td>\n",
       "      <td>False</td>\n",
       "      <td>Spanish</td>\n",
       "    </tr>\n",
       "    <tr>\n",
       "      <th>996</th>\n",
       "      <td>빅헤드 (bighead033)</td>\n",
       "      <td>2.042062e+06</td>\n",
       "      <td>2550.00</td>\n",
       "      <td>3940</td>\n",
       "      <td>793</td>\n",
       "      <td>213212</td>\n",
       "      <td>52289</td>\n",
       "      <td>4399897</td>\n",
       "      <td>True</td>\n",
       "      <td>False</td>\n",
       "      <td>Korean</td>\n",
       "    </tr>\n",
       "    <tr>\n",
       "      <th>997</th>\n",
       "      <td>마스카 (newmasca)</td>\n",
       "      <td>2.040872e+06</td>\n",
       "      <td>3623.50</td>\n",
       "      <td>6431</td>\n",
       "      <td>567</td>\n",
       "      <td>109068</td>\n",
       "      <td>-4942</td>\n",
       "      <td>3417970</td>\n",
       "      <td>True</td>\n",
       "      <td>False</td>\n",
       "      <td>Korean</td>\n",
       "    </tr>\n",
       "    <tr>\n",
       "      <th>998</th>\n",
       "      <td>AndyMilonakis</td>\n",
       "      <td>2.038518e+06</td>\n",
       "      <td>1745.75</td>\n",
       "      <td>10543</td>\n",
       "      <td>1153</td>\n",
       "      <td>547446</td>\n",
       "      <td>109111</td>\n",
       "      <td>3926918</td>\n",
       "      <td>True</td>\n",
       "      <td>False</td>\n",
       "      <td>English</td>\n",
       "    </tr>\n",
       "    <tr>\n",
       "      <th>999</th>\n",
       "      <td>Remx</td>\n",
       "      <td>2.036548e+06</td>\n",
       "      <td>1653.00</td>\n",
       "      <td>13788</td>\n",
       "      <td>1205</td>\n",
       "      <td>178553</td>\n",
       "      <td>59432</td>\n",
       "      <td>2049420</td>\n",
       "      <td>True</td>\n",
       "      <td>False</td>\n",
       "      <td>French</td>\n",
       "    </tr>\n",
       "  </tbody>\n",
       "</table>\n",
       "<p>1000 rows × 11 columns</p>\n",
       "</div>"
      ],
      "text/plain": [
       "              Channel  Watch_Time(Hours)  Stream_Time(Hours)  Peak_Viewers  \\\n",
       "0               xQcOW       1.032694e+08             3587.50        222720   \n",
       "1            summit1g       1.015280e+08             3530.75        310998   \n",
       "2              Gaules       9.407652e+07             8588.00        387315   \n",
       "3            ESL_CSGO       6.617197e+07             8629.00        300575   \n",
       "4                Tfue       6.118333e+07             2061.00        285644   \n",
       "..                ...                ...                 ...           ...   \n",
       "995         LITkillah       2.042077e+06              226.00         21359   \n",
       "996  빅헤드 (bighead033)       2.042062e+06             2550.00          3940   \n",
       "997    마스카 (newmasca)       2.040872e+06             3623.50          6431   \n",
       "998     AndyMilonakis       2.038518e+06             1745.75         10543   \n",
       "999              Remx       2.036548e+06             1653.00         13788   \n",
       "\n",
       "     Average_Viewers  Followers  Followers_Gained  Views_Gained  Partnered  \\\n",
       "0              27716    3246298           1734810      93036735       True   \n",
       "1              25610    5310163           1370184      89705964       True   \n",
       "2              10976    1767635           1023779     102611607       True   \n",
       "3               7714    3944850            703986     106546942       True   \n",
       "4              29602    8938903           2068424      78998587       True   \n",
       "..               ...        ...               ...           ...        ...   \n",
       "995             9104     601927            562691       2162107       True   \n",
       "996              793     213212             52289       4399897       True   \n",
       "997              567     109068             -4942       3417970       True   \n",
       "998             1153     547446            109111       3926918       True   \n",
       "999             1205     178553             59432       2049420       True   \n",
       "\n",
       "     Mature    Language  \n",
       "0     False     English  \n",
       "1     False     English  \n",
       "2      True  Portuguese  \n",
       "3     False     English  \n",
       "4     False     English  \n",
       "..      ...         ...  \n",
       "995   False     Spanish  \n",
       "996   False      Korean  \n",
       "997   False      Korean  \n",
       "998   False     English  \n",
       "999   False      French  \n",
       "\n",
       "[1000 rows x 11 columns]"
      ]
     },
     "execution_count": 6,
     "metadata": {},
     "output_type": "execute_result"
    }
   ],
   "source": [
    "twitch_modified = twitch_modified.rename({'Watch_Time(Minutes)':'Watch_Time(Hours)', 'Stream_Time(Minutes)':'Stream_Time(Hours)'}, axis=1)\n",
    "twitch_modified"
   ]
  },
  {
   "cell_type": "code",
   "execution_count": 7,
   "metadata": {},
   "outputs": [
    {
     "data": {
      "text/html": [
       "<div>\n",
       "<style scoped>\n",
       "    .dataframe tbody tr th:only-of-type {\n",
       "        vertical-align: middle;\n",
       "    }\n",
       "\n",
       "    .dataframe tbody tr th {\n",
       "        vertical-align: top;\n",
       "    }\n",
       "\n",
       "    .dataframe thead th {\n",
       "        text-align: right;\n",
       "    }\n",
       "</style>\n",
       "<table border=\"1\" class=\"dataframe\">\n",
       "  <thead>\n",
       "    <tr style=\"text-align: right;\">\n",
       "      <th></th>\n",
       "      <th>Watch_Time(Hours)</th>\n",
       "      <th>Stream_Time(Hours)</th>\n",
       "      <th>Peak_Viewers</th>\n",
       "      <th>Average_Viewers</th>\n",
       "      <th>Followers</th>\n",
       "      <th>Followers_Gained</th>\n",
       "      <th>Views_Gained</th>\n",
       "    </tr>\n",
       "  </thead>\n",
       "  <tbody>\n",
       "    <tr>\n",
       "      <th>count</th>\n",
       "      <td>1.000000e+03</td>\n",
       "      <td>1000.000000</td>\n",
       "      <td>1000.000000</td>\n",
       "      <td>1000.000000</td>\n",
       "      <td>1.000000e+03</td>\n",
       "      <td>1.000000e+03</td>\n",
       "      <td>1.000000e+03</td>\n",
       "    </tr>\n",
       "    <tr>\n",
       "      <th>mean</th>\n",
       "      <td>6.973799e+06</td>\n",
       "      <td>2008.586000</td>\n",
       "      <td>37065.051000</td>\n",
       "      <td>4781.040000</td>\n",
       "      <td>5.700541e+05</td>\n",
       "      <td>2.055185e+05</td>\n",
       "      <td>1.166817e+07</td>\n",
       "    </tr>\n",
       "    <tr>\n",
       "      <th>std</th>\n",
       "      <td>9.160592e+06</td>\n",
       "      <td>1422.936689</td>\n",
       "      <td>60314.307686</td>\n",
       "      <td>8453.684965</td>\n",
       "      <td>8.044134e+05</td>\n",
       "      <td>3.399137e+05</td>\n",
       "      <td>2.490572e+07</td>\n",
       "    </tr>\n",
       "    <tr>\n",
       "      <th>min</th>\n",
       "      <td>2.036548e+06</td>\n",
       "      <td>57.750000</td>\n",
       "      <td>496.000000</td>\n",
       "      <td>235.000000</td>\n",
       "      <td>3.660000e+03</td>\n",
       "      <td>-1.577200e+04</td>\n",
       "      <td>1.757880e+05</td>\n",
       "    </tr>\n",
       "    <tr>\n",
       "      <th>25%</th>\n",
       "      <td>2.719832e+06</td>\n",
       "      <td>1229.312500</td>\n",
       "      <td>9113.750000</td>\n",
       "      <td>1457.750000</td>\n",
       "      <td>1.705462e+05</td>\n",
       "      <td>4.375825e+04</td>\n",
       "      <td>3.880602e+06</td>\n",
       "    </tr>\n",
       "    <tr>\n",
       "      <th>50%</th>\n",
       "      <td>3.916513e+06</td>\n",
       "      <td>1804.000000</td>\n",
       "      <td>16676.000000</td>\n",
       "      <td>2425.000000</td>\n",
       "      <td>3.180630e+05</td>\n",
       "      <td>9.835200e+04</td>\n",
       "      <td>6.456324e+06</td>\n",
       "    </tr>\n",
       "    <tr>\n",
       "      <th>75%</th>\n",
       "      <td>7.228999e+06</td>\n",
       "      <td>2364.062500</td>\n",
       "      <td>37569.750000</td>\n",
       "      <td>4786.250000</td>\n",
       "      <td>6.243322e+05</td>\n",
       "      <td>2.361308e+05</td>\n",
       "      <td>1.219676e+07</td>\n",
       "    </tr>\n",
       "    <tr>\n",
       "      <th>max</th>\n",
       "      <td>1.032694e+08</td>\n",
       "      <td>8690.750000</td>\n",
       "      <td>639375.000000</td>\n",
       "      <td>147643.000000</td>\n",
       "      <td>8.938903e+06</td>\n",
       "      <td>3.966525e+06</td>\n",
       "      <td>6.701375e+08</td>\n",
       "    </tr>\n",
       "  </tbody>\n",
       "</table>\n",
       "</div>"
      ],
      "text/plain": [
       "       Watch_Time(Hours)  Stream_Time(Hours)   Peak_Viewers  Average_Viewers  \\\n",
       "count       1.000000e+03         1000.000000    1000.000000      1000.000000   \n",
       "mean        6.973799e+06         2008.586000   37065.051000      4781.040000   \n",
       "std         9.160592e+06         1422.936689   60314.307686      8453.684965   \n",
       "min         2.036548e+06           57.750000     496.000000       235.000000   \n",
       "25%         2.719832e+06         1229.312500    9113.750000      1457.750000   \n",
       "50%         3.916513e+06         1804.000000   16676.000000      2425.000000   \n",
       "75%         7.228999e+06         2364.062500   37569.750000      4786.250000   \n",
       "max         1.032694e+08         8690.750000  639375.000000    147643.000000   \n",
       "\n",
       "          Followers  Followers_Gained  Views_Gained  \n",
       "count  1.000000e+03      1.000000e+03  1.000000e+03  \n",
       "mean   5.700541e+05      2.055185e+05  1.166817e+07  \n",
       "std    8.044134e+05      3.399137e+05  2.490572e+07  \n",
       "min    3.660000e+03     -1.577200e+04  1.757880e+05  \n",
       "25%    1.705462e+05      4.375825e+04  3.880602e+06  \n",
       "50%    3.180630e+05      9.835200e+04  6.456324e+06  \n",
       "75%    6.243322e+05      2.361308e+05  1.219676e+07  \n",
       "max    8.938903e+06      3.966525e+06  6.701375e+08  "
      ]
     },
     "execution_count": 7,
     "metadata": {},
     "output_type": "execute_result"
    }
   ],
   "source": [
    "twitch_modified.describe()"
   ]
  },
  {
   "cell_type": "code",
   "execution_count": 20,
   "metadata": {},
   "outputs": [
    {
     "data": {
      "text/html": [
       "<div>\n",
       "<style scoped>\n",
       "    .dataframe tbody tr th:only-of-type {\n",
       "        vertical-align: middle;\n",
       "    }\n",
       "\n",
       "    .dataframe tbody tr th {\n",
       "        vertical-align: top;\n",
       "    }\n",
       "\n",
       "    .dataframe thead th {\n",
       "        text-align: right;\n",
       "    }\n",
       "</style>\n",
       "<table border=\"1\" class=\"dataframe\">\n",
       "  <thead>\n",
       "    <tr style=\"text-align: right;\">\n",
       "      <th></th>\n",
       "      <th>mean</th>\n",
       "      <th>50%</th>\n",
       "    </tr>\n",
       "  </thead>\n",
       "  <tbody>\n",
       "    <tr>\n",
       "      <th>Watch_Time(Hours)</th>\n",
       "      <td>6.973799e+06</td>\n",
       "      <td>3916513.125</td>\n",
       "    </tr>\n",
       "    <tr>\n",
       "      <th>Stream_Time(Hours)</th>\n",
       "      <td>2.008586e+03</td>\n",
       "      <td>1804.000</td>\n",
       "    </tr>\n",
       "    <tr>\n",
       "      <th>Peak_Viewers</th>\n",
       "      <td>3.706505e+04</td>\n",
       "      <td>16676.000</td>\n",
       "    </tr>\n",
       "    <tr>\n",
       "      <th>Average_Viewers</th>\n",
       "      <td>4.781040e+03</td>\n",
       "      <td>2425.000</td>\n",
       "    </tr>\n",
       "    <tr>\n",
       "      <th>Followers</th>\n",
       "      <td>5.700541e+05</td>\n",
       "      <td>318063.000</td>\n",
       "    </tr>\n",
       "    <tr>\n",
       "      <th>Followers_Gained</th>\n",
       "      <td>2.055185e+05</td>\n",
       "      <td>98352.000</td>\n",
       "    </tr>\n",
       "    <tr>\n",
       "      <th>Views_Gained</th>\n",
       "      <td>1.166817e+07</td>\n",
       "      <td>6456323.500</td>\n",
       "    </tr>\n",
       "  </tbody>\n",
       "</table>\n",
       "</div>"
      ],
      "text/plain": [
       "                            mean          50%\n",
       "Watch_Time(Hours)   6.973799e+06  3916513.125\n",
       "Stream_Time(Hours)  2.008586e+03     1804.000\n",
       "Peak_Viewers        3.706505e+04    16676.000\n",
       "Average_Viewers     4.781040e+03     2425.000\n",
       "Followers           5.700541e+05   318063.000\n",
       "Followers_Gained    2.055185e+05    98352.000\n",
       "Views_Gained        1.166817e+07  6456323.500"
      ]
     },
     "execution_count": 20,
     "metadata": {},
     "output_type": "execute_result"
    }
   ],
   "source": [
    "# Mean and Median of Data\n",
    "\n",
    "middle_describe = twitch_modified.describe().loc[['mean', '50%'], :]\n",
    "middle_describe.transpose()"
   ]
  },
  {
   "cell_type": "code",
   "execution_count": 21,
   "metadata": {},
   "outputs": [
    {
     "data": {
      "application/vnd.plotly.v1+json": {
       "config": {
        "plotlyServerURL": "https://plot.ly"
       },
       "data": [
        {
         "alignmentgroup": "True",
         "box": {
          "visible": true
         },
         "hovertemplate": "Watch_Time(Hours)=%{x}<extra></extra>",
         "legendgroup": "",
         "marker": {
          "color": "#636efa"
         },
         "name": "",
         "offsetgroup": "",
         "orientation": "h",
         "points": "all",
         "scalegroup": "True",
         "showlegend": false,
         "type": "violin",
         "x": [
          103269362.5,
          101527955,
          94076515.25,
          66171969,
          61183334.5,
          61146651.25,
          56011253.25,
          55031124.75,
          48805949,
          47757165.25,
          47240616.5,
          47215504.75,
          44577445.25,
          43143877.25,
          40167042.5,
          40141016.5,
          38824007,
          36444374.5,
          34250064.5,
          33820209.5,
          32388317.25,
          31939431,
          30752618,
          30664707.75,
          30194935,
          29290112.5,
          28170618.5,
          27662350.25,
          27027798.75,
          26985735,
          25776623,
          25641855.25,
          25464715.75,
          25293533.5,
          24720131.5,
          24653576.25,
          24579037,
          24514962,
          24507198.75,
          24411386.25,
          24402997,
          24355169,
          23928928.75,
          23548554.75,
          23238548.25,
          22683747.25,
          22529308.75,
          22456873.75,
          22322415.75,
          22318291.5,
          22177090.5,
          22075322,
          22040808,
          21816131,
          20944118.5,
          20878530.5,
          20699955.75,
          20576120.75,
          20476885.5,
          20469499,
          20389159.25,
          19952172.25,
          19810766.5,
          19782362.5,
          19735916.25,
          19549483.75,
          19153497,
          19135240,
          18858489.75,
          18594171.25,
          18515875,
          18446350.75,
          18425424,
          18147213.5,
          17936324.75,
          17548412,
          17534132.25,
          17183519.5,
          17159061,
          17055278.5,
          17028332,
          16959626.75,
          16959072.25,
          16940836,
          16850217.25,
          16776811.5,
          16711351.75,
          16315786,
          16216027.5,
          16205292,
          16072234.25,
          15922447.25,
          15646941,
          15085126,
          14986930.75,
          14815649,
          14808419.5,
          14803521,
          14739230,
          14402628.25,
          14328642,
          14299194.75,
          14222077.25,
          14217489.75,
          14177271.75,
          14151388.75,
          14043021.75,
          13790874.75,
          13622899.25,
          13542301.5,
          13539368.75,
          13419389.5,
          13243687.75,
          13167024,
          13161635.25,
          13140352.5,
          12997790.5,
          12563470,
          12467053.75,
          12410349.5,
          12142518,
          12106324.75,
          12100000.75,
          12042711.25,
          12025814.75,
          11951605.5,
          11927411,
          11864410.5,
          11747050,
          11440948.5,
          11132963,
          11053099.25,
          11041713.5,
          11017919.5,
          11017486.5,
          10939421.75,
          10886353.5,
          10878084.25,
          10848508.75,
          10839411.75,
          10829359.5,
          10772217.75,
          10743010.5,
          10657432.75,
          10467987,
          10431548.25,
          10419035.5,
          10373736.25,
          10369997.25,
          10339925.25,
          10320790.25,
          10312588,
          10301130,
          10257871.25,
          10210288.75,
          10209902.75,
          10176832,
          10031769.75,
          10015181.25,
          10014710.75,
          9997508.25,
          9954599.25,
          9939468.25,
          9928466.25,
          9811033.5,
          9782097.5,
          9706685.75,
          9702093.75,
          9683905,
          9679799.25,
          9675697.5,
          9635381.25,
          9620678.5,
          9599976.25,
          9585636.25,
          9493351.5,
          9456238.25,
          9436273.75,
          9366624,
          9360272.25,
          9331917.25,
          9314726.5,
          9309792.25,
          9302847.25,
          9279017,
          9260631.5,
          9237499.25,
          9227730,
          9221395.75,
          9182520.25,
          9154079.25,
          9134023.75,
          9085135.75,
          9078438.75,
          9065909.5,
          9009275.75,
          8991585.75,
          8949818,
          8882827.5,
          8840937.75,
          8777676.5,
          8764728.25,
          8762290.75,
          8717620.75,
          8692812.5,
          8691858.75,
          8657642.75,
          8601894.5,
          8600157,
          8596882.75,
          8516402.75,
          8505395.25,
          8494065.75,
          8484206.25,
          8447315.5,
          8422217.5,
          8353476.25,
          8323690.25,
          8259393,
          8213928.5,
          8212233.25,
          8170508.5,
          8121357.5,
          8064917.5,
          8039786.5,
          7965820,
          7943289.5,
          7885963.5,
          7879773.25,
          7873433.25,
          7813202,
          7807785.5,
          7693421.25,
          7675330.5,
          7672209.5,
          7651275.5,
          7648054.25,
          7620708.5,
          7558125,
          7541328,
          7531840.25,
          7487053.25,
          7388816.5,
          7381175.5,
          7338859,
          7307678,
          7302397.5,
          7289222.5,
          7270725.5,
          7249527.25,
          7222155.75,
          7153557,
          7137986,
          7137788,
          7105422.5,
          7084077.75,
          7037972.5,
          7023943.75,
          7005281,
          6986460,
          6973550.25,
          6918197,
          6878631.25,
          6865008.75,
          6856910,
          6854567.5,
          6843688.25,
          6833087,
          6814766.5,
          6807978.75,
          6797166,
          6786911.25,
          6786471.25,
          6785944.25,
          6730806.5,
          6713941,
          6707807.75,
          6690654.25,
          6680367,
          6677262.5,
          6662435.5,
          6638165,
          6515373.5,
          6498180,
          6461952.75,
          6429260.25,
          6428988,
          6419609,
          6412441.75,
          6337530.5,
          6332851.25,
          6330001,
          6328037.25,
          6327233.25,
          6322432.25,
          6312248.75,
          6288543.25,
          6273849.25,
          6272646.75,
          6270155.25,
          6212783.75,
          6190285.5,
          6166188.5,
          6152772.25,
          6042536.75,
          6029027.75,
          6014300.5,
          6004647.25,
          5987890.75,
          5984928.75,
          5966105.25,
          5948463.5,
          5944957,
          5923160.5,
          5918191.75,
          5902405.25,
          5889944,
          5889684,
          5884101,
          5878345.75,
          5850423.5,
          5835344,
          5771272.75,
          5769532,
          5752774.25,
          5704563.75,
          5702711,
          5697904.5,
          5673624.25,
          5668258.5,
          5636899,
          5634742.5,
          5594920.25,
          5588531,
          5564494.5,
          5551623.5,
          5532751.25,
          5528769.25,
          5521816,
          5502675.25,
          5490811,
          5482252.5,
          5461628,
          5454046.5,
          5441469.25,
          5428850.25,
          5427287,
          5416968.5,
          5407225.25,
          5387084.25,
          5380691.5,
          5335356.75,
          5319907,
          5317533.25,
          5273960.75,
          5272773.25,
          5270057,
          5260230,
          5256642.75,
          5244271,
          5217968.25,
          5214978.75,
          5192002.25,
          5188764,
          5186981.25,
          5184883.5,
          5164877.75,
          5159319.5,
          5151955.25,
          5130395.5,
          5122190.75,
          5116693.25,
          5115347.25,
          5101276.75,
          5100168,
          5099466.25,
          5076651.5,
          5070370,
          5057265.75,
          5031953.75,
          5029840.75,
          4991155.75,
          4987266.5,
          4980469.5,
          4980198.5,
          4978217.5,
          4977807.75,
          4933320.75,
          4914467.25,
          4911063.75,
          4899208,
          4894804.5,
          4893051.25,
          4883568.5,
          4881358.5,
          4878311,
          4852415.75,
          4849850.75,
          4841653.75,
          4841027,
          4825521.75,
          4822829.75,
          4818514.25,
          4818385,
          4814297.5,
          4807350.25,
          4796070.75,
          4780653.5,
          4780332.5,
          4779015.5,
          4765536.75,
          4744099.25,
          4739247.75,
          4724656.75,
          4723313.75,
          4712558,
          4692229.75,
          4689417.25,
          4680177.25,
          4679967.75,
          4678463.5,
          4671600.75,
          4669615.25,
          4661527,
          4637062.75,
          4628265.75,
          4605219.25,
          4581496,
          4566067.5,
          4565344.5,
          4546894.5,
          4530261,
          4497956.75,
          4491982.75,
          4489543,
          4487163.25,
          4477206,
          4440657.25,
          4423768.75,
          4420493,
          4377182.5,
          4376879,
          4374875.5,
          4371276.25,
          4369333.75,
          4360298.75,
          4360181.25,
          4354213.5,
          4347423.25,
          4300196.5,
          4263683.25,
          4251460.25,
          4247537.75,
          4246202.25,
          4245294,
          4239089.25,
          4224981.25,
          4207538.75,
          4205760.75,
          4193799.75,
          4191620,
          4184464.75,
          4177072.5,
          4171617.75,
          4163691.25,
          4158148,
          4157938.25,
          4131047.5,
          4128835,
          4126887.75,
          4125592.5,
          4124689.75,
          4116239.5,
          4112698,
          4111876.5,
          4105713.75,
          4098908.25,
          4089996.5,
          4080906.25,
          4077260.75,
          4075037.25,
          4073545.25,
          4071038.25,
          4061858.25,
          4059645.5,
          4057754.25,
          4047219,
          4026942.5,
          4026924.5,
          4013914.75,
          4011053,
          3983646.5,
          3983232.25,
          3970285.75,
          3962786,
          3945130.5,
          3936982,
          3928151.75,
          3921719.5,
          3920925,
          3912101.25,
          3905129,
          3901746.75,
          3900971.5,
          3889932.5,
          3886836.75,
          3880266,
          3870402.75,
          3869000.25,
          3866431.75,
          3857541,
          3850429.25,
          3850196,
          3842549.25,
          3830094.5,
          3829382.5,
          3829150.75,
          3823858,
          3810667,
          3806281.75,
          3801294,
          3794596.75,
          3791324.25,
          3790977.5,
          3774555.75,
          3765663.25,
          3756694,
          3754057.75,
          3746047,
          3709106.5,
          3706284,
          3702695.5,
          3697285,
          3697062.25,
          3681760.25,
          3666636.25,
          3648138.75,
          3645129,
          3642947.5,
          3641817.75,
          3640257,
          3638633.5,
          3630550.25,
          3624599,
          3622390,
          3616156.75,
          3615859,
          3613204,
          3605269.5,
          3601214.25,
          3596771,
          3595448.5,
          3587223.25,
          3585376.75,
          3578321.75,
          3575074,
          3568836.25,
          3563650.5,
          3542365,
          3540831.75,
          3538636.5,
          3535688.5,
          3535241.5,
          3526960.75,
          3521798.5,
          3514987,
          3491665.5,
          3476075.5,
          3467675.25,
          3465643,
          3459335.25,
          3444905.75,
          3441451.25,
          3440782.25,
          3437597,
          3429876,
          3429867.5,
          3429135.5,
          3429100.25,
          3424039.5,
          3420426.75,
          3416954.5,
          3414818.75,
          3407345.25,
          3405515,
          3401947,
          3400499.5,
          3398468.25,
          3397567.5,
          3385294.25,
          3385040.75,
          3380969.75,
          3380710.25,
          3377255,
          3376523.75,
          3374799.25,
          3363718.75,
          3353898,
          3343040,
          3342538.25,
          3337611.25,
          3332666.75,
          3330485,
          3330437,
          3330358.25,
          3325027.5,
          3304212.75,
          3301389,
          3288594.25,
          3279060.75,
          3276419.25,
          3265727,
          3263339.5,
          3258757.75,
          3257472.25,
          3256644.25,
          3255739.5,
          3254505.5,
          3249351.5,
          3239607.75,
          3237702.75,
          3234570.5,
          3231869.25,
          3231131,
          3226229,
          3224346.75,
          3210164.75,
          3207138.5,
          3192057.75,
          3174142.75,
          3164836,
          3162605,
          3153442.75,
          3151355,
          3146072.5,
          3145838,
          3128716.25,
          3127649.5,
          3124957.5,
          3118331,
          3116994,
          3113340.5,
          3109955,
          3109378.5,
          3101006.5,
          3099709.5,
          3098433,
          3096595.5,
          3089913.5,
          3080341,
          3070555,
          3051110.75,
          3039837.25,
          3039305.75,
          3038490,
          3032159.75,
          3031802,
          3028823.5,
          3023856,
          3020868.75,
          3017921.5,
          3016314.25,
          3014170.5,
          3011235,
          3006005,
          3002780.5,
          2998995.5,
          2998008.75,
          2993032.5,
          2987705.5,
          2984718.25,
          2982430.25,
          2978824.25,
          2978794.5,
          2978641,
          2976050.75,
          2975619.25,
          2973650.5,
          2970760.75,
          2965793.25,
          2963338.75,
          2962434.25,
          2958508.75,
          2952653.25,
          2943470.5,
          2934546,
          2933424,
          2920924.5,
          2920600,
          2914036,
          2913735.5,
          2903815.25,
          2901450.5,
          2897052.25,
          2896333.25,
          2894548,
          2893792.75,
          2893463.5,
          2891416.5,
          2890721.25,
          2883590.5,
          2874990.25,
          2871935.75,
          2868106.5,
          2863706.75,
          2860041.25,
          2854887,
          2853718,
          2851925.75,
          2850224.5,
          2841078,
          2835273.25,
          2831426.5,
          2830974,
          2825030.75,
          2824277,
          2822764.5,
          2820258,
          2817112.5,
          2815716.75,
          2814354,
          2813870,
          2812791.5,
          2812273.25,
          2806938.75,
          2805666.25,
          2798308,
          2797920.5,
          2796244,
          2792239.25,
          2788765.5,
          2788487,
          2786437.5,
          2781534,
          2780845.25,
          2776460.75,
          2773716,
          2772535.25,
          2759834.75,
          2758946,
          2750265.25,
          2749686,
          2745995.5,
          2744558.25,
          2728941.75,
          2727822,
          2726489.5,
          2723022.25,
          2721783.5,
          2720148.75,
          2718880,
          2714796,
          2713617.5,
          2712307,
          2712058.5,
          2711915.5,
          2710305.25,
          2709320.5,
          2708511,
          2703882.25,
          2702306.75,
          2696972.25,
          2691487,
          2691144.75,
          2689527.75,
          2686812.5,
          2686431.5,
          2677871,
          2669398,
          2664591.75,
          2662698.5,
          2660919.25,
          2660786.25,
          2659296.25,
          2658423.25,
          2657484.25,
          2652868,
          2652337.25,
          2651185.75,
          2649984.5,
          2649917.75,
          2649187.75,
          2633925.5,
          2631369.5,
          2630877,
          2630794,
          2622098.75,
          2615030,
          2613699,
          2609077.25,
          2603945.5,
          2603516.75,
          2600074.75,
          2595532,
          2593219,
          2586459.5,
          2583042.5,
          2578795.5,
          2576597.5,
          2575402.75,
          2572201,
          2571289.5,
          2568765.75,
          2566473,
          2566062.75,
          2564294.25,
          2563078.25,
          2546125.75,
          2545907.75,
          2541572,
          2541161.75,
          2541019.25,
          2539059.75,
          2533887.5,
          2533694.75,
          2528989.5,
          2521198.25,
          2518805.75,
          2511638,
          2509650.75,
          2504442.5,
          2503019,
          2502505.5,
          2499585.5,
          2496103.25,
          2490122.75,
          2486047.75,
          2484206.25,
          2481668.5,
          2478625,
          2476603,
          2472851.75,
          2469870.25,
          2465814.5,
          2465304.75,
          2461071.5,
          2454062,
          2447763.5,
          2446168.5,
          2440201.25,
          2437432,
          2436663.25,
          2426836,
          2424585.75,
          2421528.25,
          2419893.25,
          2414315.75,
          2412723.25,
          2410144,
          2409998,
          2408280.25,
          2406022.5,
          2405130,
          2402789.75,
          2401908,
          2397352.5,
          2390822.5,
          2390246.5,
          2386522.75,
          2378281.25,
          2375796.25,
          2374071.5,
          2372044.25,
          2370233,
          2369476,
          2368247.5,
          2362270.5,
          2357585.5,
          2357102.75,
          2353653.75,
          2353093.75,
          2353057.25,
          2350358.25,
          2349595.75,
          2346873.25,
          2341881,
          2341679.75,
          2340442.25,
          2338412.5,
          2337383.75,
          2336169.25,
          2336134.5,
          2334743,
          2331554.5,
          2328738.75,
          2325938.75,
          2321220,
          2320967.5,
          2320824,
          2317790.25,
          2315594.5,
          2299932.25,
          2292139.5,
          2288418,
          2287635.5,
          2287497,
          2282405,
          2276623.75,
          2264050,
          2259848.75,
          2259011.5,
          2254173.5,
          2253019.5,
          2252818.25,
          2250960,
          2248538.5,
          2246020.5,
          2240520.5,
          2232938,
          2230275.5,
          2227492,
          2217985.25,
          2217977.25,
          2216272.75,
          2208896.25,
          2208129,
          2206452.5,
          2205337.25,
          2201379.75,
          2200911.5,
          2199295,
          2197028.5,
          2193696.25,
          2190137.5,
          2189021.25,
          2184548.75,
          2182894.5,
          2182316,
          2173305.25,
          2173176.5,
          2170336.5,
          2169659.5,
          2169324.5,
          2166565.25,
          2165938.5,
          2165064.25,
          2164968,
          2159460.5,
          2152160.25,
          2151723.75,
          2148801.75,
          2148476.25,
          2147431.5,
          2146390.25,
          2145781.75,
          2143107.25,
          2139494.25,
          2138575.5,
          2136190.75,
          2128507.75,
          2127500.25,
          2127443.5,
          2125844,
          2123316.5,
          2121520.75,
          2120327,
          2118628,
          2114764.25,
          2113477,
          2112988.5,
          2111741,
          2107278.75,
          2104013.5,
          2102211.25,
          2100438.75,
          2097872.5,
          2096872.5,
          2094680.75,
          2091290.25,
          2087497,
          2082273.25,
          2082109,
          2081302.75,
          2081277.75,
          2080204,
          2078013.5,
          2077013.25,
          2076597,
          2075426.75,
          2070683.5,
          2070409.25,
          2069668.75,
          2068892.5,
          2067970,
          2067649.75,
          2067609.25,
          2064987.75,
          2063770.5,
          2058104,
          2056634.75,
          2056098.25,
          2054657.25,
          2054565.5,
          2052089,
          2043810.5,
          2042077.25,
          2042061.75,
          2040872,
          2038517.75,
          2036547.5
         ],
         "x0": " ",
         "xaxis": "x",
         "y0": " ",
         "yaxis": "y"
        }
       ],
       "layout": {
        "legend": {
         "tracegroupgap": 0
        },
        "margin": {
         "t": 60
        },
        "template": {
         "data": {
          "bar": [
           {
            "error_x": {
             "color": "#2a3f5f"
            },
            "error_y": {
             "color": "#2a3f5f"
            },
            "marker": {
             "line": {
              "color": "#E5ECF6",
              "width": 0.5
             },
             "pattern": {
              "fillmode": "overlay",
              "size": 10,
              "solidity": 0.2
             }
            },
            "type": "bar"
           }
          ],
          "barpolar": [
           {
            "marker": {
             "line": {
              "color": "#E5ECF6",
              "width": 0.5
             },
             "pattern": {
              "fillmode": "overlay",
              "size": 10,
              "solidity": 0.2
             }
            },
            "type": "barpolar"
           }
          ],
          "carpet": [
           {
            "aaxis": {
             "endlinecolor": "#2a3f5f",
             "gridcolor": "white",
             "linecolor": "white",
             "minorgridcolor": "white",
             "startlinecolor": "#2a3f5f"
            },
            "baxis": {
             "endlinecolor": "#2a3f5f",
             "gridcolor": "white",
             "linecolor": "white",
             "minorgridcolor": "white",
             "startlinecolor": "#2a3f5f"
            },
            "type": "carpet"
           }
          ],
          "choropleth": [
           {
            "colorbar": {
             "outlinewidth": 0,
             "ticks": ""
            },
            "type": "choropleth"
           }
          ],
          "contour": [
           {
            "colorbar": {
             "outlinewidth": 0,
             "ticks": ""
            },
            "colorscale": [
             [
              0,
              "#0d0887"
             ],
             [
              0.1111111111111111,
              "#46039f"
             ],
             [
              0.2222222222222222,
              "#7201a8"
             ],
             [
              0.3333333333333333,
              "#9c179e"
             ],
             [
              0.4444444444444444,
              "#bd3786"
             ],
             [
              0.5555555555555556,
              "#d8576b"
             ],
             [
              0.6666666666666666,
              "#ed7953"
             ],
             [
              0.7777777777777778,
              "#fb9f3a"
             ],
             [
              0.8888888888888888,
              "#fdca26"
             ],
             [
              1,
              "#f0f921"
             ]
            ],
            "type": "contour"
           }
          ],
          "contourcarpet": [
           {
            "colorbar": {
             "outlinewidth": 0,
             "ticks": ""
            },
            "type": "contourcarpet"
           }
          ],
          "heatmap": [
           {
            "colorbar": {
             "outlinewidth": 0,
             "ticks": ""
            },
            "colorscale": [
             [
              0,
              "#0d0887"
             ],
             [
              0.1111111111111111,
              "#46039f"
             ],
             [
              0.2222222222222222,
              "#7201a8"
             ],
             [
              0.3333333333333333,
              "#9c179e"
             ],
             [
              0.4444444444444444,
              "#bd3786"
             ],
             [
              0.5555555555555556,
              "#d8576b"
             ],
             [
              0.6666666666666666,
              "#ed7953"
             ],
             [
              0.7777777777777778,
              "#fb9f3a"
             ],
             [
              0.8888888888888888,
              "#fdca26"
             ],
             [
              1,
              "#f0f921"
             ]
            ],
            "type": "heatmap"
           }
          ],
          "heatmapgl": [
           {
            "colorbar": {
             "outlinewidth": 0,
             "ticks": ""
            },
            "colorscale": [
             [
              0,
              "#0d0887"
             ],
             [
              0.1111111111111111,
              "#46039f"
             ],
             [
              0.2222222222222222,
              "#7201a8"
             ],
             [
              0.3333333333333333,
              "#9c179e"
             ],
             [
              0.4444444444444444,
              "#bd3786"
             ],
             [
              0.5555555555555556,
              "#d8576b"
             ],
             [
              0.6666666666666666,
              "#ed7953"
             ],
             [
              0.7777777777777778,
              "#fb9f3a"
             ],
             [
              0.8888888888888888,
              "#fdca26"
             ],
             [
              1,
              "#f0f921"
             ]
            ],
            "type": "heatmapgl"
           }
          ],
          "histogram": [
           {
            "marker": {
             "pattern": {
              "fillmode": "overlay",
              "size": 10,
              "solidity": 0.2
             }
            },
            "type": "histogram"
           }
          ],
          "histogram2d": [
           {
            "colorbar": {
             "outlinewidth": 0,
             "ticks": ""
            },
            "colorscale": [
             [
              0,
              "#0d0887"
             ],
             [
              0.1111111111111111,
              "#46039f"
             ],
             [
              0.2222222222222222,
              "#7201a8"
             ],
             [
              0.3333333333333333,
              "#9c179e"
             ],
             [
              0.4444444444444444,
              "#bd3786"
             ],
             [
              0.5555555555555556,
              "#d8576b"
             ],
             [
              0.6666666666666666,
              "#ed7953"
             ],
             [
              0.7777777777777778,
              "#fb9f3a"
             ],
             [
              0.8888888888888888,
              "#fdca26"
             ],
             [
              1,
              "#f0f921"
             ]
            ],
            "type": "histogram2d"
           }
          ],
          "histogram2dcontour": [
           {
            "colorbar": {
             "outlinewidth": 0,
             "ticks": ""
            },
            "colorscale": [
             [
              0,
              "#0d0887"
             ],
             [
              0.1111111111111111,
              "#46039f"
             ],
             [
              0.2222222222222222,
              "#7201a8"
             ],
             [
              0.3333333333333333,
              "#9c179e"
             ],
             [
              0.4444444444444444,
              "#bd3786"
             ],
             [
              0.5555555555555556,
              "#d8576b"
             ],
             [
              0.6666666666666666,
              "#ed7953"
             ],
             [
              0.7777777777777778,
              "#fb9f3a"
             ],
             [
              0.8888888888888888,
              "#fdca26"
             ],
             [
              1,
              "#f0f921"
             ]
            ],
            "type": "histogram2dcontour"
           }
          ],
          "mesh3d": [
           {
            "colorbar": {
             "outlinewidth": 0,
             "ticks": ""
            },
            "type": "mesh3d"
           }
          ],
          "parcoords": [
           {
            "line": {
             "colorbar": {
              "outlinewidth": 0,
              "ticks": ""
             }
            },
            "type": "parcoords"
           }
          ],
          "pie": [
           {
            "automargin": true,
            "type": "pie"
           }
          ],
          "scatter": [
           {
            "marker": {
             "colorbar": {
              "outlinewidth": 0,
              "ticks": ""
             }
            },
            "type": "scatter"
           }
          ],
          "scatter3d": [
           {
            "line": {
             "colorbar": {
              "outlinewidth": 0,
              "ticks": ""
             }
            },
            "marker": {
             "colorbar": {
              "outlinewidth": 0,
              "ticks": ""
             }
            },
            "type": "scatter3d"
           }
          ],
          "scattercarpet": [
           {
            "marker": {
             "colorbar": {
              "outlinewidth": 0,
              "ticks": ""
             }
            },
            "type": "scattercarpet"
           }
          ],
          "scattergeo": [
           {
            "marker": {
             "colorbar": {
              "outlinewidth": 0,
              "ticks": ""
             }
            },
            "type": "scattergeo"
           }
          ],
          "scattergl": [
           {
            "marker": {
             "colorbar": {
              "outlinewidth": 0,
              "ticks": ""
             }
            },
            "type": "scattergl"
           }
          ],
          "scattermapbox": [
           {
            "marker": {
             "colorbar": {
              "outlinewidth": 0,
              "ticks": ""
             }
            },
            "type": "scattermapbox"
           }
          ],
          "scatterpolar": [
           {
            "marker": {
             "colorbar": {
              "outlinewidth": 0,
              "ticks": ""
             }
            },
            "type": "scatterpolar"
           }
          ],
          "scatterpolargl": [
           {
            "marker": {
             "colorbar": {
              "outlinewidth": 0,
              "ticks": ""
             }
            },
            "type": "scatterpolargl"
           }
          ],
          "scatterternary": [
           {
            "marker": {
             "colorbar": {
              "outlinewidth": 0,
              "ticks": ""
             }
            },
            "type": "scatterternary"
           }
          ],
          "surface": [
           {
            "colorbar": {
             "outlinewidth": 0,
             "ticks": ""
            },
            "colorscale": [
             [
              0,
              "#0d0887"
             ],
             [
              0.1111111111111111,
              "#46039f"
             ],
             [
              0.2222222222222222,
              "#7201a8"
             ],
             [
              0.3333333333333333,
              "#9c179e"
             ],
             [
              0.4444444444444444,
              "#bd3786"
             ],
             [
              0.5555555555555556,
              "#d8576b"
             ],
             [
              0.6666666666666666,
              "#ed7953"
             ],
             [
              0.7777777777777778,
              "#fb9f3a"
             ],
             [
              0.8888888888888888,
              "#fdca26"
             ],
             [
              1,
              "#f0f921"
             ]
            ],
            "type": "surface"
           }
          ],
          "table": [
           {
            "cells": {
             "fill": {
              "color": "#EBF0F8"
             },
             "line": {
              "color": "white"
             }
            },
            "header": {
             "fill": {
              "color": "#C8D4E3"
             },
             "line": {
              "color": "white"
             }
            },
            "type": "table"
           }
          ]
         },
         "layout": {
          "annotationdefaults": {
           "arrowcolor": "#2a3f5f",
           "arrowhead": 0,
           "arrowwidth": 1
          },
          "autotypenumbers": "strict",
          "coloraxis": {
           "colorbar": {
            "outlinewidth": 0,
            "ticks": ""
           }
          },
          "colorscale": {
           "diverging": [
            [
             0,
             "#8e0152"
            ],
            [
             0.1,
             "#c51b7d"
            ],
            [
             0.2,
             "#de77ae"
            ],
            [
             0.3,
             "#f1b6da"
            ],
            [
             0.4,
             "#fde0ef"
            ],
            [
             0.5,
             "#f7f7f7"
            ],
            [
             0.6,
             "#e6f5d0"
            ],
            [
             0.7,
             "#b8e186"
            ],
            [
             0.8,
             "#7fbc41"
            ],
            [
             0.9,
             "#4d9221"
            ],
            [
             1,
             "#276419"
            ]
           ],
           "sequential": [
            [
             0,
             "#0d0887"
            ],
            [
             0.1111111111111111,
             "#46039f"
            ],
            [
             0.2222222222222222,
             "#7201a8"
            ],
            [
             0.3333333333333333,
             "#9c179e"
            ],
            [
             0.4444444444444444,
             "#bd3786"
            ],
            [
             0.5555555555555556,
             "#d8576b"
            ],
            [
             0.6666666666666666,
             "#ed7953"
            ],
            [
             0.7777777777777778,
             "#fb9f3a"
            ],
            [
             0.8888888888888888,
             "#fdca26"
            ],
            [
             1,
             "#f0f921"
            ]
           ],
           "sequentialminus": [
            [
             0,
             "#0d0887"
            ],
            [
             0.1111111111111111,
             "#46039f"
            ],
            [
             0.2222222222222222,
             "#7201a8"
            ],
            [
             0.3333333333333333,
             "#9c179e"
            ],
            [
             0.4444444444444444,
             "#bd3786"
            ],
            [
             0.5555555555555556,
             "#d8576b"
            ],
            [
             0.6666666666666666,
             "#ed7953"
            ],
            [
             0.7777777777777778,
             "#fb9f3a"
            ],
            [
             0.8888888888888888,
             "#fdca26"
            ],
            [
             1,
             "#f0f921"
            ]
           ]
          },
          "colorway": [
           "#636efa",
           "#EF553B",
           "#00cc96",
           "#ab63fa",
           "#FFA15A",
           "#19d3f3",
           "#FF6692",
           "#B6E880",
           "#FF97FF",
           "#FECB52"
          ],
          "font": {
           "color": "#2a3f5f"
          },
          "geo": {
           "bgcolor": "white",
           "lakecolor": "white",
           "landcolor": "#E5ECF6",
           "showlakes": true,
           "showland": true,
           "subunitcolor": "white"
          },
          "hoverlabel": {
           "align": "left"
          },
          "hovermode": "closest",
          "mapbox": {
           "style": "light"
          },
          "paper_bgcolor": "white",
          "plot_bgcolor": "#E5ECF6",
          "polar": {
           "angularaxis": {
            "gridcolor": "white",
            "linecolor": "white",
            "ticks": ""
           },
           "bgcolor": "#E5ECF6",
           "radialaxis": {
            "gridcolor": "white",
            "linecolor": "white",
            "ticks": ""
           }
          },
          "scene": {
           "xaxis": {
            "backgroundcolor": "#E5ECF6",
            "gridcolor": "white",
            "gridwidth": 2,
            "linecolor": "white",
            "showbackground": true,
            "ticks": "",
            "zerolinecolor": "white"
           },
           "yaxis": {
            "backgroundcolor": "#E5ECF6",
            "gridcolor": "white",
            "gridwidth": 2,
            "linecolor": "white",
            "showbackground": true,
            "ticks": "",
            "zerolinecolor": "white"
           },
           "zaxis": {
            "backgroundcolor": "#E5ECF6",
            "gridcolor": "white",
            "gridwidth": 2,
            "linecolor": "white",
            "showbackground": true,
            "ticks": "",
            "zerolinecolor": "white"
           }
          },
          "shapedefaults": {
           "line": {
            "color": "#2a3f5f"
           }
          },
          "ternary": {
           "aaxis": {
            "gridcolor": "white",
            "linecolor": "white",
            "ticks": ""
           },
           "baxis": {
            "gridcolor": "white",
            "linecolor": "white",
            "ticks": ""
           },
           "bgcolor": "#E5ECF6",
           "caxis": {
            "gridcolor": "white",
            "linecolor": "white",
            "ticks": ""
           }
          },
          "title": {
           "x": 0.05
          },
          "xaxis": {
           "automargin": true,
           "gridcolor": "white",
           "linecolor": "white",
           "ticks": "",
           "title": {
            "standoff": 15
           },
           "zerolinecolor": "white",
           "zerolinewidth": 2
          },
          "yaxis": {
           "automargin": true,
           "gridcolor": "white",
           "linecolor": "white",
           "ticks": "",
           "title": {
            "standoff": 15
           },
           "zerolinecolor": "white",
           "zerolinewidth": 2
          }
         }
        },
        "violinmode": "group",
        "xaxis": {
         "anchor": "y",
         "domain": [
          0,
          1
         ],
         "title": {
          "text": "Watch_Time(Hours)"
         }
        },
        "yaxis": {
         "anchor": "x",
         "domain": [
          0,
          1
         ]
        }
       }
      }
     },
     "metadata": {},
     "output_type": "display_data"
    }
   ],
   "source": [
    "# Violin Plot of Watch time Data\n",
    "\n",
    "\n",
    "\n",
    "px.violin(\n",
    "    twitch_modified,\n",
    "    x= 'Watch_Time(Hours)',\n",
    "    box=True,\n",
    "    points='all'\n",
    ")"
   ]
  },
  {
   "cell_type": "code",
   "execution_count": 22,
   "metadata": {},
   "outputs": [
    {
     "data": {
      "text/html": [
       "<div>\n",
       "<style scoped>\n",
       "    .dataframe tbody tr th:only-of-type {\n",
       "        vertical-align: middle;\n",
       "    }\n",
       "\n",
       "    .dataframe tbody tr th {\n",
       "        vertical-align: top;\n",
       "    }\n",
       "\n",
       "    .dataframe thead th {\n",
       "        text-align: right;\n",
       "    }\n",
       "</style>\n",
       "<table border=\"1\" class=\"dataframe\">\n",
       "  <thead>\n",
       "    <tr style=\"text-align: right;\">\n",
       "      <th></th>\n",
       "      <th>Channel</th>\n",
       "      <th>Watch_Time(Hours)</th>\n",
       "      <th>Stream_Time(Hours)</th>\n",
       "      <th>Peak_Viewers</th>\n",
       "      <th>Average_Viewers</th>\n",
       "      <th>Followers</th>\n",
       "      <th>Followers_Gained</th>\n",
       "      <th>Views_Gained</th>\n",
       "      <th>Partnered</th>\n",
       "      <th>Mature</th>\n",
       "      <th>Language</th>\n",
       "    </tr>\n",
       "  </thead>\n",
       "  <tbody>\n",
       "    <tr>\n",
       "      <th>0</th>\n",
       "      <td>xQcOW</td>\n",
       "      <td>103269362.5</td>\n",
       "      <td>3587.5</td>\n",
       "      <td>222720</td>\n",
       "      <td>27716</td>\n",
       "      <td>3246298</td>\n",
       "      <td>1734810</td>\n",
       "      <td>93036735</td>\n",
       "      <td>True</td>\n",
       "      <td>False</td>\n",
       "      <td>English</td>\n",
       "    </tr>\n",
       "  </tbody>\n",
       "</table>\n",
       "</div>"
      ],
      "text/plain": [
       "  Channel  Watch_Time(Hours)  Stream_Time(Hours)  Peak_Viewers  \\\n",
       "0   xQcOW        103269362.5              3587.5        222720   \n",
       "\n",
       "   Average_Viewers  Followers  Followers_Gained  Views_Gained  Partnered  \\\n",
       "0            27716    3246298           1734810      93036735       True   \n",
       "\n",
       "   Mature Language  \n",
       "0   False  English  "
      ]
     },
     "execution_count": 22,
     "metadata": {},
     "output_type": "execute_result"
    }
   ],
   "source": [
    "# highest value in the Watch_Time column\n",
    "\n",
    "twitch_modified[twitch_modified['Watch_Time(Hours)'] == twitch_modified['Watch_Time(Hours)'].max()]"
   ]
  },
  {
   "cell_type": "code",
   "execution_count": 24,
   "metadata": {},
   "outputs": [
    {
     "data": {
      "application/vnd.plotly.v1+json": {
       "config": {
        "plotlyServerURL": "https://plot.ly"
       },
       "data": [
        {
         "alignmentgroup": "True",
         "box": {
          "visible": true
         },
         "hovertemplate": "Average_Viewers=%{x}<extra></extra>",
         "legendgroup": "",
         "marker": {
          "color": "#636efa"
         },
         "name": "",
         "offsetgroup": "",
         "orientation": "h",
         "points": "all",
         "scalegroup": "True",
         "showlegend": false,
         "type": "violin",
         "x": [
          27716,
          25610,
          10976,
          7714,
          29602,
          42414,
          24181,
          18985,
          22381,
          12377,
          25664,
          21739,
          20960,
          42948,
          53986,
          33514,
          19659,
          12201,
          19560,
          11343,
          12367,
          39848,
          17779,
          23794,
          24595,
          28887,
          12868,
          8481,
          12869,
          6734,
          3187,
          10750,
          11220,
          8311,
          3020,
          9396,
          16422,
          9256,
          28830,
          19495,
          9728,
          46459,
          11717,
          22837,
          9117,
          8066,
          36030,
          10531,
          6543,
          2635,
          13189,
          12982,
          36086,
          17020,
          12996,
          8683,
          6681,
          8479,
          25918,
          10053,
          3180,
          4134,
          8152,
          6616,
          10735,
          5013,
          6775,
          9702,
          5195,
          12947,
          5913,
          10080,
          8546,
          29956,
          7327,
          5001,
          7899,
          11535,
          8485,
          9235,
          7134,
          147643,
          17860,
          6553,
          10516,
          10618,
          5573,
          7112,
          10290,
          6198,
          16026,
          3652,
          8255,
          4135,
          7234,
          4393,
          29612,
          22070,
          14195,
          6060,
          9229,
          7173,
          8627,
          7699,
          17573,
          6039,
          5333,
          1802,
          8264,
          126232,
          3683,
          33132,
          7180,
          6309,
          4410,
          3688,
          4642,
          24689,
          6743,
          6328,
          2217,
          13224,
          4922,
          4919,
          3836,
          4463,
          6249,
          4534,
          6127,
          5163,
          19260,
          1361,
          11423,
          13154,
          4714,
          7394,
          3270,
          5303,
          3894,
          4100,
          4420,
          10626,
          1384,
          5332,
          8165,
          1397,
          5216,
          8919,
          5856,
          3846,
          5512,
          5941,
          2560,
          3247,
          3197,
          3429,
          6073,
          5843,
          1196,
          4560,
          5948,
          4710,
          3478,
          4167,
          4403,
          1588,
          3336,
          7438,
          3199,
          14423,
          13089,
          17488,
          2168,
          3581,
          6091,
          3607,
          9583,
          8929,
          3953,
          7083,
          2844,
          1941,
          4150,
          2175,
          3024,
          4040,
          7155,
          3875,
          5632,
          3430,
          4062,
          4629,
          2801,
          4378,
          2779,
          5044,
          17689,
          6125,
          9633,
          4990,
          5172,
          5368,
          3953,
          5268,
          4985,
          5767,
          3756,
          14509,
          3105,
          2483,
          2957,
          3152,
          24739,
          3766,
          6789,
          3859,
          3059,
          6328,
          3507,
          29414,
          18180,
          5107,
          2741,
          3992,
          5032,
          8407,
          6627,
          1802,
          2914,
          3312,
          3519,
          7554,
          900,
          2552,
          5621,
          3550,
          15405,
          2825,
          2392,
          3131,
          3365,
          4207,
          884,
          4591,
          7985,
          3184,
          3088,
          2348,
          3084,
          6394,
          1460,
          6767,
          8405,
          6829,
          2540,
          3247,
          9306,
          7165,
          3414,
          2244,
          5772,
          3977,
          4731,
          5671,
          1751,
          4632,
          2733,
          1753,
          4319,
          4221,
          2492,
          3352,
          3203,
          4193,
          2791,
          2326,
          3410,
          2549,
          3276,
          7656,
          2876,
          2635,
          13675,
          1061,
          4147,
          2772,
          2523,
          1891,
          2431,
          4939,
          3311,
          3791,
          2228,
          1931,
          2796,
          4826,
          2153,
          4991,
          2717,
          3969,
          2154,
          2650,
          2391,
          28584,
          5123,
          4841,
          696,
          1892,
          1258,
          2269,
          6530,
          2311,
          1801,
          1782,
          3043,
          1953,
          2717,
          2484,
          6795,
          19753,
          2260,
          1584,
          3563,
          2735,
          3889,
          1696,
          3344,
          3711,
          5695,
          3402,
          2653,
          2034,
          3054,
          2202,
          3735,
          12723,
          6210,
          2189,
          5711,
          5165,
          2519,
          2761,
          785,
          2176,
          2663,
          2984,
          5114,
          1516,
          2652,
          5331,
          3846,
          1595,
          2038,
          5620,
          2668,
          1858,
          5660,
          4496,
          1660,
          2566,
          24395,
          4288,
          2478,
          11713,
          1696,
          2934,
          2004,
          3680,
          3893,
          1515,
          5158,
          1560,
          2079,
          3838,
          4159,
          1830,
          12171,
          2072,
          3109,
          13364,
          2403,
          1243,
          4926,
          1149,
          2912,
          3401,
          1254,
          2834,
          2843,
          1460,
          2279,
          1756,
          562,
          1744,
          9722,
          1796,
          3073,
          571,
          2840,
          2465,
          2375,
          4281,
          2726,
          3828,
          1886,
          9062,
          1989,
          2164,
          3073,
          2795,
          1983,
          1904,
          4426,
          1985,
          2557,
          807,
          3046,
          543,
          1649,
          2322,
          1914,
          3150,
          2401,
          3379,
          2045,
          9892,
          3620,
          5858,
          22130,
          1601,
          2530,
          2013,
          1844,
          520,
          4773,
          3948,
          2196,
          3926,
          2999,
          1418,
          2205,
          3287,
          1906,
          1110,
          12843,
          2331,
          2530,
          2012,
          2124,
          1593,
          2207,
          1692,
          9301,
          3252,
          3748,
          2204,
          547,
          3292,
          1678,
          6883,
          8010,
          4087,
          2882,
          3884,
          1615,
          2284,
          2655,
          1524,
          2217,
          476,
          2336,
          3599,
          1808,
          2249,
          4021,
          1838,
          1297,
          9086,
          3502,
          2526,
          1363,
          2757,
          1422,
          12058,
          1569,
          2602,
          3968,
          1537,
          2247,
          19681,
          2762,
          1851,
          4219,
          3964,
          2947,
          3173,
          8075,
          644,
          3827,
          2764,
          1414,
          4415,
          3011,
          1104,
          2410,
          1333,
          1668,
          3302,
          1022,
          1268,
          2103,
          1353,
          2230,
          1961,
          1659,
          2012,
          2178,
          1572,
          3310,
          1166,
          13435,
          3337,
          2227,
          1816,
          1959,
          2146,
          2318,
          1786,
          1603,
          2387,
          2369,
          1814,
          3746,
          1205,
          780,
          2318,
          2256,
          5792,
          2317,
          2441,
          2104,
          1347,
          2683,
          1749,
          1087,
          2863,
          1412,
          7522,
          2115,
          10161,
          1735,
          1027,
          1647,
          2185,
          3678,
          1486,
          1284,
          2239,
          1389,
          1828,
          1816,
          4269,
          2239,
          1119,
          1865,
          2095,
          6524,
          898,
          8673,
          978,
          1603,
          1105,
          1466,
          2688,
          1443,
          2612,
          2675,
          2597,
          422,
          1407,
          1139,
          1503,
          2184,
          1728,
          5295,
          4455,
          1559,
          2779,
          1502,
          1243,
          5459,
          1343,
          1403,
          1586,
          2991,
          1543,
          2149,
          1205,
          1608,
          2714,
          2039,
          1589,
          4111,
          1208,
          1933,
          402,
          1377,
          9190,
          1037,
          1670,
          1402,
          1323,
          1374,
          937,
          2181,
          5401,
          2045,
          1401,
          1008,
          10170,
          1373,
          971,
          1475,
          4440,
          2712,
          992,
          1828,
          1363,
          1659,
          1213,
          1416,
          4215,
          4445,
          1052,
          2061,
          1671,
          2296,
          1111,
          2900,
          1820,
          1236,
          375,
          2004,
          1317,
          2092,
          2090,
          1917,
          1715,
          1291,
          987,
          1879,
          479,
          1768,
          2452,
          2023,
          1788,
          913,
          636,
          1534,
          5684,
          2122,
          1357,
          5300,
          1349,
          1313,
          1250,
          1029,
          8383,
          10173,
          18906,
          1288,
          5300,
          2913,
          1802,
          1394,
          2061,
          1183,
          1127,
          2504,
          4015,
          1133,
          7414,
          910,
          1105,
          1793,
          2419,
          1569,
          1824,
          2124,
          1500,
          1279,
          1711,
          1248,
          735,
          4264,
          4473,
          1929,
          3082,
          465,
          1706,
          1669,
          1544,
          2027,
          939,
          1697,
          4538,
          1255,
          4576,
          1876,
          1713,
          1264,
          6469,
          1176,
          996,
          1397,
          1081,
          1885,
          1096,
          1475,
          2338,
          5485,
          4259,
          1466,
          1259,
          2210,
          2399,
          15483,
          1076,
          908,
          1432,
          4103,
          1475,
          879,
          1064,
          4663,
          1150,
          909,
          1821,
          1333,
          1237,
          2488,
          1534,
          2809,
          3449,
          1332,
          1118,
          313,
          4365,
          1886,
          4293,
          4586,
          974,
          2431,
          1481,
          1383,
          1586,
          925,
          2028,
          314,
          5305,
          1727,
          3006,
          1023,
          2177,
          1115,
          3141,
          1312,
          1812,
          1638,
          971,
          1186,
          1388,
          796,
          1681,
          2997,
          5697,
          1233,
          4647,
          1263,
          1123,
          2638,
          1630,
          897,
          1748,
          1692,
          1790,
          955,
          1205,
          2256,
          1400,
          1541,
          1302,
          6728,
          2690,
          1169,
          2647,
          1711,
          1605,
          1777,
          1216,
          5864,
          1759,
          2106,
          1787,
          1281,
          2286,
          1093,
          1229,
          980,
          2669,
          2240,
          22356,
          1101,
          706,
          1378,
          1329,
          5296,
          1243,
          1070,
          4083,
          1180,
          4886,
          1010,
          1845,
          1116,
          5070,
          1270,
          849,
          297,
          1138,
          2885,
          1641,
          1462,
          1142,
          1171,
          1090,
          1074,
          642,
          1260,
          1185,
          719,
          5739,
          1635,
          1563,
          2268,
          1309,
          4427,
          1192,
          1157,
          1107,
          3024,
          1937,
          2413,
          11696,
          737,
          1153,
          1137,
          1458,
          1796,
          2103,
          1505,
          1220,
          1121,
          992,
          1889,
          1169,
          1234,
          3700,
          1572,
          1085,
          1724,
          2225,
          975,
          2533,
          4621,
          1068,
          1739,
          1149,
          1159,
          2571,
          7265,
          728,
          2902,
          1674,
          1531,
          2140,
          1072,
          4037,
          839,
          1522,
          271,
          1101,
          1643,
          964,
          789,
          656,
          1592,
          1190,
          7141,
          683,
          2777,
          1557,
          1235,
          779,
          1273,
          1122,
          1484,
          1075,
          569,
          824,
          1589,
          1434,
          1351,
          991,
          4355,
          529,
          3076,
          1030,
          4680,
          1685,
          1282,
          1293,
          1027,
          756,
          8717,
          2051,
          1070,
          19897,
          1400,
          1012,
          829,
          3107,
          6636,
          3069,
          872,
          954,
          315,
          1053,
          915,
          918,
          1165,
          1207,
          1936,
          1457,
          1347,
          2603,
          1737,
          1444,
          1304,
          1017,
          3045,
          13741,
          897,
          1584,
          980,
          1467,
          979,
          793,
          2052,
          2174,
          1674,
          1136,
          1666,
          1878,
          2570,
          1237,
          1891,
          976,
          798,
          1427,
          1400,
          872,
          786,
          4159,
          4530,
          1124,
          924,
          1951,
          2434,
          1247,
          875,
          1736,
          1470,
          326,
          850,
          2289,
          1118,
          4016,
          8208,
          1227,
          35333,
          644,
          235,
          725,
          1190,
          9104,
          793,
          567,
          1153,
          1205
         ],
         "x0": " ",
         "xaxis": "x",
         "y0": " ",
         "yaxis": "y"
        }
       ],
       "layout": {
        "legend": {
         "tracegroupgap": 0
        },
        "margin": {
         "t": 60
        },
        "template": {
         "data": {
          "bar": [
           {
            "error_x": {
             "color": "#2a3f5f"
            },
            "error_y": {
             "color": "#2a3f5f"
            },
            "marker": {
             "line": {
              "color": "#E5ECF6",
              "width": 0.5
             },
             "pattern": {
              "fillmode": "overlay",
              "size": 10,
              "solidity": 0.2
             }
            },
            "type": "bar"
           }
          ],
          "barpolar": [
           {
            "marker": {
             "line": {
              "color": "#E5ECF6",
              "width": 0.5
             },
             "pattern": {
              "fillmode": "overlay",
              "size": 10,
              "solidity": 0.2
             }
            },
            "type": "barpolar"
           }
          ],
          "carpet": [
           {
            "aaxis": {
             "endlinecolor": "#2a3f5f",
             "gridcolor": "white",
             "linecolor": "white",
             "minorgridcolor": "white",
             "startlinecolor": "#2a3f5f"
            },
            "baxis": {
             "endlinecolor": "#2a3f5f",
             "gridcolor": "white",
             "linecolor": "white",
             "minorgridcolor": "white",
             "startlinecolor": "#2a3f5f"
            },
            "type": "carpet"
           }
          ],
          "choropleth": [
           {
            "colorbar": {
             "outlinewidth": 0,
             "ticks": ""
            },
            "type": "choropleth"
           }
          ],
          "contour": [
           {
            "colorbar": {
             "outlinewidth": 0,
             "ticks": ""
            },
            "colorscale": [
             [
              0,
              "#0d0887"
             ],
             [
              0.1111111111111111,
              "#46039f"
             ],
             [
              0.2222222222222222,
              "#7201a8"
             ],
             [
              0.3333333333333333,
              "#9c179e"
             ],
             [
              0.4444444444444444,
              "#bd3786"
             ],
             [
              0.5555555555555556,
              "#d8576b"
             ],
             [
              0.6666666666666666,
              "#ed7953"
             ],
             [
              0.7777777777777778,
              "#fb9f3a"
             ],
             [
              0.8888888888888888,
              "#fdca26"
             ],
             [
              1,
              "#f0f921"
             ]
            ],
            "type": "contour"
           }
          ],
          "contourcarpet": [
           {
            "colorbar": {
             "outlinewidth": 0,
             "ticks": ""
            },
            "type": "contourcarpet"
           }
          ],
          "heatmap": [
           {
            "colorbar": {
             "outlinewidth": 0,
             "ticks": ""
            },
            "colorscale": [
             [
              0,
              "#0d0887"
             ],
             [
              0.1111111111111111,
              "#46039f"
             ],
             [
              0.2222222222222222,
              "#7201a8"
             ],
             [
              0.3333333333333333,
              "#9c179e"
             ],
             [
              0.4444444444444444,
              "#bd3786"
             ],
             [
              0.5555555555555556,
              "#d8576b"
             ],
             [
              0.6666666666666666,
              "#ed7953"
             ],
             [
              0.7777777777777778,
              "#fb9f3a"
             ],
             [
              0.8888888888888888,
              "#fdca26"
             ],
             [
              1,
              "#f0f921"
             ]
            ],
            "type": "heatmap"
           }
          ],
          "heatmapgl": [
           {
            "colorbar": {
             "outlinewidth": 0,
             "ticks": ""
            },
            "colorscale": [
             [
              0,
              "#0d0887"
             ],
             [
              0.1111111111111111,
              "#46039f"
             ],
             [
              0.2222222222222222,
              "#7201a8"
             ],
             [
              0.3333333333333333,
              "#9c179e"
             ],
             [
              0.4444444444444444,
              "#bd3786"
             ],
             [
              0.5555555555555556,
              "#d8576b"
             ],
             [
              0.6666666666666666,
              "#ed7953"
             ],
             [
              0.7777777777777778,
              "#fb9f3a"
             ],
             [
              0.8888888888888888,
              "#fdca26"
             ],
             [
              1,
              "#f0f921"
             ]
            ],
            "type": "heatmapgl"
           }
          ],
          "histogram": [
           {
            "marker": {
             "pattern": {
              "fillmode": "overlay",
              "size": 10,
              "solidity": 0.2
             }
            },
            "type": "histogram"
           }
          ],
          "histogram2d": [
           {
            "colorbar": {
             "outlinewidth": 0,
             "ticks": ""
            },
            "colorscale": [
             [
              0,
              "#0d0887"
             ],
             [
              0.1111111111111111,
              "#46039f"
             ],
             [
              0.2222222222222222,
              "#7201a8"
             ],
             [
              0.3333333333333333,
              "#9c179e"
             ],
             [
              0.4444444444444444,
              "#bd3786"
             ],
             [
              0.5555555555555556,
              "#d8576b"
             ],
             [
              0.6666666666666666,
              "#ed7953"
             ],
             [
              0.7777777777777778,
              "#fb9f3a"
             ],
             [
              0.8888888888888888,
              "#fdca26"
             ],
             [
              1,
              "#f0f921"
             ]
            ],
            "type": "histogram2d"
           }
          ],
          "histogram2dcontour": [
           {
            "colorbar": {
             "outlinewidth": 0,
             "ticks": ""
            },
            "colorscale": [
             [
              0,
              "#0d0887"
             ],
             [
              0.1111111111111111,
              "#46039f"
             ],
             [
              0.2222222222222222,
              "#7201a8"
             ],
             [
              0.3333333333333333,
              "#9c179e"
             ],
             [
              0.4444444444444444,
              "#bd3786"
             ],
             [
              0.5555555555555556,
              "#d8576b"
             ],
             [
              0.6666666666666666,
              "#ed7953"
             ],
             [
              0.7777777777777778,
              "#fb9f3a"
             ],
             [
              0.8888888888888888,
              "#fdca26"
             ],
             [
              1,
              "#f0f921"
             ]
            ],
            "type": "histogram2dcontour"
           }
          ],
          "mesh3d": [
           {
            "colorbar": {
             "outlinewidth": 0,
             "ticks": ""
            },
            "type": "mesh3d"
           }
          ],
          "parcoords": [
           {
            "line": {
             "colorbar": {
              "outlinewidth": 0,
              "ticks": ""
             }
            },
            "type": "parcoords"
           }
          ],
          "pie": [
           {
            "automargin": true,
            "type": "pie"
           }
          ],
          "scatter": [
           {
            "marker": {
             "colorbar": {
              "outlinewidth": 0,
              "ticks": ""
             }
            },
            "type": "scatter"
           }
          ],
          "scatter3d": [
           {
            "line": {
             "colorbar": {
              "outlinewidth": 0,
              "ticks": ""
             }
            },
            "marker": {
             "colorbar": {
              "outlinewidth": 0,
              "ticks": ""
             }
            },
            "type": "scatter3d"
           }
          ],
          "scattercarpet": [
           {
            "marker": {
             "colorbar": {
              "outlinewidth": 0,
              "ticks": ""
             }
            },
            "type": "scattercarpet"
           }
          ],
          "scattergeo": [
           {
            "marker": {
             "colorbar": {
              "outlinewidth": 0,
              "ticks": ""
             }
            },
            "type": "scattergeo"
           }
          ],
          "scattergl": [
           {
            "marker": {
             "colorbar": {
              "outlinewidth": 0,
              "ticks": ""
             }
            },
            "type": "scattergl"
           }
          ],
          "scattermapbox": [
           {
            "marker": {
             "colorbar": {
              "outlinewidth": 0,
              "ticks": ""
             }
            },
            "type": "scattermapbox"
           }
          ],
          "scatterpolar": [
           {
            "marker": {
             "colorbar": {
              "outlinewidth": 0,
              "ticks": ""
             }
            },
            "type": "scatterpolar"
           }
          ],
          "scatterpolargl": [
           {
            "marker": {
             "colorbar": {
              "outlinewidth": 0,
              "ticks": ""
             }
            },
            "type": "scatterpolargl"
           }
          ],
          "scatterternary": [
           {
            "marker": {
             "colorbar": {
              "outlinewidth": 0,
              "ticks": ""
             }
            },
            "type": "scatterternary"
           }
          ],
          "surface": [
           {
            "colorbar": {
             "outlinewidth": 0,
             "ticks": ""
            },
            "colorscale": [
             [
              0,
              "#0d0887"
             ],
             [
              0.1111111111111111,
              "#46039f"
             ],
             [
              0.2222222222222222,
              "#7201a8"
             ],
             [
              0.3333333333333333,
              "#9c179e"
             ],
             [
              0.4444444444444444,
              "#bd3786"
             ],
             [
              0.5555555555555556,
              "#d8576b"
             ],
             [
              0.6666666666666666,
              "#ed7953"
             ],
             [
              0.7777777777777778,
              "#fb9f3a"
             ],
             [
              0.8888888888888888,
              "#fdca26"
             ],
             [
              1,
              "#f0f921"
             ]
            ],
            "type": "surface"
           }
          ],
          "table": [
           {
            "cells": {
             "fill": {
              "color": "#EBF0F8"
             },
             "line": {
              "color": "white"
             }
            },
            "header": {
             "fill": {
              "color": "#C8D4E3"
             },
             "line": {
              "color": "white"
             }
            },
            "type": "table"
           }
          ]
         },
         "layout": {
          "annotationdefaults": {
           "arrowcolor": "#2a3f5f",
           "arrowhead": 0,
           "arrowwidth": 1
          },
          "autotypenumbers": "strict",
          "coloraxis": {
           "colorbar": {
            "outlinewidth": 0,
            "ticks": ""
           }
          },
          "colorscale": {
           "diverging": [
            [
             0,
             "#8e0152"
            ],
            [
             0.1,
             "#c51b7d"
            ],
            [
             0.2,
             "#de77ae"
            ],
            [
             0.3,
             "#f1b6da"
            ],
            [
             0.4,
             "#fde0ef"
            ],
            [
             0.5,
             "#f7f7f7"
            ],
            [
             0.6,
             "#e6f5d0"
            ],
            [
             0.7,
             "#b8e186"
            ],
            [
             0.8,
             "#7fbc41"
            ],
            [
             0.9,
             "#4d9221"
            ],
            [
             1,
             "#276419"
            ]
           ],
           "sequential": [
            [
             0,
             "#0d0887"
            ],
            [
             0.1111111111111111,
             "#46039f"
            ],
            [
             0.2222222222222222,
             "#7201a8"
            ],
            [
             0.3333333333333333,
             "#9c179e"
            ],
            [
             0.4444444444444444,
             "#bd3786"
            ],
            [
             0.5555555555555556,
             "#d8576b"
            ],
            [
             0.6666666666666666,
             "#ed7953"
            ],
            [
             0.7777777777777778,
             "#fb9f3a"
            ],
            [
             0.8888888888888888,
             "#fdca26"
            ],
            [
             1,
             "#f0f921"
            ]
           ],
           "sequentialminus": [
            [
             0,
             "#0d0887"
            ],
            [
             0.1111111111111111,
             "#46039f"
            ],
            [
             0.2222222222222222,
             "#7201a8"
            ],
            [
             0.3333333333333333,
             "#9c179e"
            ],
            [
             0.4444444444444444,
             "#bd3786"
            ],
            [
             0.5555555555555556,
             "#d8576b"
            ],
            [
             0.6666666666666666,
             "#ed7953"
            ],
            [
             0.7777777777777778,
             "#fb9f3a"
            ],
            [
             0.8888888888888888,
             "#fdca26"
            ],
            [
             1,
             "#f0f921"
            ]
           ]
          },
          "colorway": [
           "#636efa",
           "#EF553B",
           "#00cc96",
           "#ab63fa",
           "#FFA15A",
           "#19d3f3",
           "#FF6692",
           "#B6E880",
           "#FF97FF",
           "#FECB52"
          ],
          "font": {
           "color": "#2a3f5f"
          },
          "geo": {
           "bgcolor": "white",
           "lakecolor": "white",
           "landcolor": "#E5ECF6",
           "showlakes": true,
           "showland": true,
           "subunitcolor": "white"
          },
          "hoverlabel": {
           "align": "left"
          },
          "hovermode": "closest",
          "mapbox": {
           "style": "light"
          },
          "paper_bgcolor": "white",
          "plot_bgcolor": "#E5ECF6",
          "polar": {
           "angularaxis": {
            "gridcolor": "white",
            "linecolor": "white",
            "ticks": ""
           },
           "bgcolor": "#E5ECF6",
           "radialaxis": {
            "gridcolor": "white",
            "linecolor": "white",
            "ticks": ""
           }
          },
          "scene": {
           "xaxis": {
            "backgroundcolor": "#E5ECF6",
            "gridcolor": "white",
            "gridwidth": 2,
            "linecolor": "white",
            "showbackground": true,
            "ticks": "",
            "zerolinecolor": "white"
           },
           "yaxis": {
            "backgroundcolor": "#E5ECF6",
            "gridcolor": "white",
            "gridwidth": 2,
            "linecolor": "white",
            "showbackground": true,
            "ticks": "",
            "zerolinecolor": "white"
           },
           "zaxis": {
            "backgroundcolor": "#E5ECF6",
            "gridcolor": "white",
            "gridwidth": 2,
            "linecolor": "white",
            "showbackground": true,
            "ticks": "",
            "zerolinecolor": "white"
           }
          },
          "shapedefaults": {
           "line": {
            "color": "#2a3f5f"
           }
          },
          "ternary": {
           "aaxis": {
            "gridcolor": "white",
            "linecolor": "white",
            "ticks": ""
           },
           "baxis": {
            "gridcolor": "white",
            "linecolor": "white",
            "ticks": ""
           },
           "bgcolor": "#E5ECF6",
           "caxis": {
            "gridcolor": "white",
            "linecolor": "white",
            "ticks": ""
           }
          },
          "title": {
           "x": 0.05
          },
          "xaxis": {
           "automargin": true,
           "gridcolor": "white",
           "linecolor": "white",
           "ticks": "",
           "title": {
            "standoff": 15
           },
           "zerolinecolor": "white",
           "zerolinewidth": 2
          },
          "yaxis": {
           "automargin": true,
           "gridcolor": "white",
           "linecolor": "white",
           "ticks": "",
           "title": {
            "standoff": 15
           },
           "zerolinecolor": "white",
           "zerolinewidth": 2
          }
         }
        },
        "violinmode": "group",
        "xaxis": {
         "anchor": "y",
         "domain": [
          0,
          1
         ],
         "title": {
          "text": "Average_Viewers"
         }
        },
        "yaxis": {
         "anchor": "x",
         "domain": [
          0,
          1
         ]
        }
       }
      }
     },
     "metadata": {},
     "output_type": "display_data"
    }
   ],
   "source": [
    "# Violin Plot of Average Viewers Data\n",
    "\n",
    "px.violin(\n",
    "    twitch_modified,\n",
    "    x= 'Average_Viewers',\n",
    "    box=True,\n",
    "    points='all'\n",
    ")"
   ]
  },
  {
   "cell_type": "code",
   "execution_count": 32,
   "metadata": {},
   "outputs": [
    {
     "data": {
      "text/html": [
       "<div>\n",
       "<style scoped>\n",
       "    .dataframe tbody tr th:only-of-type {\n",
       "        vertical-align: middle;\n",
       "    }\n",
       "\n",
       "    .dataframe tbody tr th {\n",
       "        vertical-align: top;\n",
       "    }\n",
       "\n",
       "    .dataframe thead th {\n",
       "        text-align: right;\n",
       "    }\n",
       "</style>\n",
       "<table border=\"1\" class=\"dataframe\">\n",
       "  <thead>\n",
       "    <tr style=\"text-align: right;\">\n",
       "      <th></th>\n",
       "      <th>Channel</th>\n",
       "      <th>Watch_Time(Hours)</th>\n",
       "      <th>Stream_Time(Hours)</th>\n",
       "      <th>Peak_Viewers</th>\n",
       "      <th>Average_Viewers</th>\n",
       "      <th>Followers</th>\n",
       "      <th>Followers_Gained</th>\n",
       "      <th>Views_Gained</th>\n",
       "      <th>Partnered</th>\n",
       "      <th>Mature</th>\n",
       "      <th>Language</th>\n",
       "    </tr>\n",
       "  </thead>\n",
       "  <tbody>\n",
       "    <tr>\n",
       "      <th>81</th>\n",
       "      <td>dota2ti</td>\n",
       "      <td>16959626.75</td>\n",
       "      <td>105.25</td>\n",
       "      <td>483530</td>\n",
       "      <td>147643</td>\n",
       "      <td>663297</td>\n",
       "      <td>121422</td>\n",
       "      <td>16228039</td>\n",
       "      <td>True</td>\n",
       "      <td>False</td>\n",
       "      <td>English</td>\n",
       "    </tr>\n",
       "  </tbody>\n",
       "</table>\n",
       "</div>"
      ],
      "text/plain": [
       "    Channel  Watch_Time(Hours)  Stream_Time(Hours)  Peak_Viewers  \\\n",
       "81  dota2ti        16959626.75              105.25        483530   \n",
       "\n",
       "    Average_Viewers  Followers  Followers_Gained  Views_Gained  Partnered  \\\n",
       "81           147643     663297            121422      16228039       True   \n",
       "\n",
       "    Mature Language  \n",
       "81   False  English  "
      ]
     },
     "execution_count": 32,
     "metadata": {},
     "output_type": "execute_result"
    }
   ],
   "source": [
    "#highest value in the Average_Views columns\n",
    "\n",
    "twitch_modified[twitch_modified['Average_Viewers'] == twitch_modified['Average_Viewers'].max()]"
   ]
  },
  {
   "cell_type": "code",
   "execution_count": 26,
   "metadata": {},
   "outputs": [
    {
     "data": {
      "application/vnd.plotly.v1+json": {
       "config": {
        "plotlyServerURL": "https://plot.ly"
       },
       "data": [
        {
         "alignmentgroup": "True",
         "box": {
          "visible": true
         },
         "hovertemplate": "Views_Gained=%{x}<extra></extra>",
         "legendgroup": "",
         "marker": {
          "color": "#636efa"
         },
         "name": "",
         "offsetgroup": "",
         "orientation": "h",
         "points": "all",
         "scalegroup": "True",
         "showlegend": false,
         "type": "violin",
         "x": [
          93036735,
          89705964,
          102611607,
          106546942,
          78998587,
          61715781,
          46084211,
          670137548,
          51349926,
          36350662,
          50119786,
          50504526,
          56855694,
          58599449,
          41514854,
          37189666,
          39334821,
          34405975,
          46515698,
          38718674,
          19645967,
          76225485,
          22672980,
          43919410,
          25342894,
          47094362,
          38499423,
          24029726,
          30610352,
          43345080,
          48799554,
          39591707,
          13505898,
          47295386,
          71583995,
          37384058,
          47400543,
          20034033,
          25924096,
          38774178,
          25341820,
          28313058,
          17836875,
          44178173,
          35978104,
          32261961,
          28970100,
          32362117,
          14154952,
          42403593,
          43831479,
          49441744,
          57189129,
          42952835,
          33286370,
          20882507,
          30550147,
          23037239,
          33796768,
          13890640,
          26737542,
          22820310,
          12853095,
          19512632,
          21254933,
          7422911,
          17820367,
          39439261,
          21331882,
          51523747,
          11535871,
          18534278,
          23472239,
          29821162,
          18756705,
          28759226,
          13585178,
          16786627,
          20638084,
          15517436,
          12449595,
          16228039,
          16800930,
          26996445,
          31456198,
          27464678,
          60194490,
          18504106,
          23738903,
          17095676,
          45579002,
          25815105,
          16237397,
          22813009,
          19181711,
          24144005,
          30621257,
          6781403,
          37351933,
          15626904,
          19412227,
          17151766,
          28789066,
          14789437,
          31029241,
          12708431,
          24523589,
          10445269,
          18105470,
          12068376,
          20715640,
          27099682,
          15548337,
          7527027,
          17102146,
          8815201,
          20334558,
          21104122,
          14533643,
          15894732,
          18572922,
          20881140,
          12800182,
          15136396,
          23271722,
          23586902,
          32228705,
          15586820,
          17857171,
          20714971,
          21128175,
          55639770,
          23040428,
          28719610,
          14784068,
          8392545,
          13757678,
          20520762,
          8579344,
          18626351,
          14109245,
          25254350,
          20999649,
          17248420,
          19915875,
          13670649,
          13181386,
          19438119,
          12089717,
          17922897,
          17854413,
          18366224,
          48015117,
          7518457,
          12391816,
          10831070,
          6034891,
          18265409,
          6544645,
          14071951,
          7831334,
          9977487,
          13182700,
          15264996,
          18161823,
          8305604,
          7251200,
          25333548,
          6176254,
          20411553,
          21525216,
          9965787,
          7493491,
          13401489,
          12984472,
          15165872,
          17629667,
          18410268,
          13159849,
          12441822,
          12736000,
          6626543,
          9851921,
          7491995,
          6777975,
          9518923,
          20086431,
          13901197,
          17980307,
          13683195,
          14188002,
          8434367,
          7844435,
          20264128,
          9290817,
          23271913,
          7827030,
          5560969,
          9294132,
          24222810,
          13289271,
          8508355,
          7653194,
          11106951,
          44675247,
          84500786,
          12051692,
          71159574,
          18201933,
          11386166,
          20688501,
          8448691,
          11648873,
          8983449,
          8661072,
          10969148,
          5692219,
          13724263,
          11009240,
          26508938,
          19515587,
          13076008,
          9556065,
          14452008,
          9640983,
          14729189,
          12959273,
          14247514,
          6445996,
          9570639,
          17845821,
          10630158,
          19054606,
          16917944,
          8610645,
          8907366,
          5377506,
          6606894,
          17009119,
          10569192,
          12249560,
          11787544,
          11142208,
          8695968,
          7844647,
          6326808,
          6321235,
          13001718,
          13297850,
          14755893,
          32500708,
          8859183,
          12225523,
          11805401,
          7404102,
          6298662,
          9798569,
          14369324,
          7906425,
          4822422,
          13364167,
          7780736,
          7575905,
          6201733,
          7424007,
          8151140,
          8093220,
          9812812,
          7944645,
          10731565,
          4368785,
          5999354,
          7967420,
          7374161,
          7743238,
          12693893,
          9957496,
          17013239,
          10008765,
          4198232,
          7427189,
          19024045,
          9101692,
          6933788,
          11483357,
          11672019,
          5464553,
          7215989,
          6207063,
          14339774,
          14221498,
          10605782,
          5794763,
          11489901,
          6547592,
          6981248,
          7803917,
          8969210,
          17822170,
          12351240,
          5367772,
          8688676,
          4803076,
          21509520,
          18694298,
          5746209,
          5973152,
          4962556,
          4541683,
          10882318,
          9173781,
          8203617,
          12187175,
          6900666,
          13687141,
          5500067,
          9971842,
          12873339,
          5134322,
          6832561,
          18596656,
          8471746,
          8920133,
          6526670,
          12888906,
          7245324,
          16648694,
          5503882,
          16290334,
          4409296,
          9889442,
          5554989,
          6132895,
          7631326,
          11325781,
          20277843,
          10207313,
          3365340,
          10562872,
          8279834,
          9003037,
          23682775,
          4620985,
          4068823,
          6226900,
          4331397,
          13742820,
          12070678,
          10000927,
          8378248,
          4008897,
          4176079,
          3665065,
          5587147,
          7091125,
          6805829,
          11440074,
          13030325,
          6449741,
          8381945,
          11286667,
          12461610,
          9675073,
          27828448,
          7005761,
          4921311,
          9020762,
          10608507,
          4202354,
          11705657,
          13417924,
          5065635,
          10677522,
          13548535,
          7744943,
          8191116,
          11452750,
          8585834,
          6099521,
          7617972,
          7546887,
          4900030,
          2743587,
          60922719,
          10900480,
          4072337,
          2208405,
          4158704,
          5976634,
          4232938,
          3964166,
          8120712,
          3313465,
          12258152,
          17259602,
          3476636,
          11561585,
          4509671,
          10802748,
          90310969,
          7920696,
          13227099,
          3836302,
          12487303,
          5965543,
          8120275,
          8666012,
          5190502,
          8050871,
          8955254,
          5185473,
          8015709,
          11106574,
          12851602,
          5308302,
          9694977,
          8864009,
          3524088,
          8660860,
          2786097,
          7628946,
          3334788,
          7582522,
          6886631,
          12048648,
          5928269,
          58418224,
          9284513,
          7818029,
          10626908,
          5285377,
          9070954,
          10306828,
          1641644,
          3411872,
          5731570,
          16902968,
          3527460,
          4266359,
          5390604,
          8619663,
          7809170,
          12690137,
          18709302,
          5405191,
          2955403,
          6839587,
          7609872,
          5387428,
          6927865,
          5642381,
          3858228,
          6513197,
          4098475,
          4540889,
          6614948,
          15776556,
          5623906,
          4106827,
          9931629,
          7036771,
          5676686,
          3406472,
          1799471,
          5979126,
          11128490,
          6950267,
          3080537,
          11041262,
          2117741,
          4228405,
          9947455,
          2533119,
          5353692,
          5855733,
          5658271,
          5923710,
          5176805,
          9377658,
          3551440,
          8390437,
          4459178,
          3133396,
          8767404,
          6752832,
          8544093,
          3384340,
          8232442,
          5087052,
          3776042,
          3298202,
          3225407,
          6539837,
          6778234,
          6608568,
          5439874,
          1901665,
          7982996,
          3460437,
          4237993,
          5674624,
          5764214,
          5973378,
          3489772,
          9883708,
          2944974,
          5392597,
          7901792,
          5838039,
          3880798,
          3295029,
          7798628,
          3877237,
          4148542,
          8373012,
          6477747,
          6019198,
          8647522,
          6671227,
          5384623,
          3651549,
          5471250,
          5135340,
          3115313,
          5487693,
          5574448,
          5373229,
          6565757,
          5801449,
          3176930,
          6606649,
          6632006,
          6944929,
          6891131,
          9980766,
          3549865,
          5969221,
          3349456,
          5243404,
          13908506,
          2240586,
          8847646,
          3473483,
          4356099,
          2383295,
          5298356,
          8174656,
          2016920,
          3406743,
          8333671,
          4581141,
          10284627,
          2609837,
          6233611,
          4545514,
          3531376,
          7976244,
          4345817,
          6296155,
          3593487,
          10477877,
          5351294,
          3260166,
          3673955,
          63847323,
          7212835,
          12694726,
          6742783,
          4893535,
          9000160,
          20337169,
          7225371,
          5571500,
          9512134,
          4236933,
          3312084,
          2200922,
          5979215,
          2424188,
          3017013,
          4794915,
          4548052,
          4364008,
          3425022,
          4449212,
          5349508,
          7584329,
          5075885,
          8936320,
          9831952,
          2378245,
          2534023,
          3077795,
          4997073,
          5158370,
          2485867,
          2037389,
          3760730,
          1563033,
          7000112,
          4001304,
          4789098,
          10940319,
          1645770,
          16923320,
          2800864,
          6222094,
          46395022,
          7453572,
          3970743,
          5114165,
          6142647,
          3975842,
          4415937,
          2409670,
          4197860,
          2776587,
          5913454,
          8091070,
          6373471,
          6005834,
          3380440,
          2871081,
          5338943,
          6462906,
          6183865,
          7444967,
          9240202,
          6445684,
          5099767,
          4298260,
          16598800,
          2303521,
          6381664,
          5857325,
          7822019,
          14210392,
          3079327,
          5846971,
          7464390,
          52155951,
          13863239,
          4766495,
          4702541,
          2855592,
          6466352,
          8679867,
          3333965,
          2355559,
          4878552,
          2451110,
          3569807,
          6668409,
          5240516,
          5444952,
          2795325,
          6370949,
          4795414,
          5491154,
          12878708,
          4566171,
          3381154,
          36484452,
          2460689,
          7004305,
          3924344,
          2471382,
          2700751,
          5141210,
          5835029,
          4978021,
          2863254,
          6685553,
          3657348,
          5304936,
          5057048,
          2779740,
          1450208,
          7152158,
          1623230,
          3248586,
          9998277,
          7336811,
          6201998,
          13183429,
          5222867,
          1947938,
          2995202,
          6831650,
          4198030,
          3081725,
          1353428,
          5543661,
          2219053,
          67586924,
          5635774,
          3970603,
          5048873,
          5330221,
          5014047,
          5266599,
          5627155,
          2778565,
          115312954,
          4016790,
          5691145,
          10528149,
          1637792,
          6693148,
          5117439,
          7127552,
          3744461,
          4537952,
          3448935,
          5125402,
          2807619,
          2168664,
          4182011,
          5862326,
          7610128,
          2668187,
          3736356,
          3755880,
          2313340,
          6013389,
          5349362,
          2268382,
          2149900,
          3055373,
          3880016,
          5508199,
          2220313,
          3006979,
          2852825,
          2419659,
          1614843,
          3022408,
          2695198,
          5069397,
          3954958,
          6966348,
          3983662,
          2147906,
          3424139,
          3970888,
          3739750,
          4084222,
          6210317,
          6092699,
          8254877,
          5283711,
          3786059,
          6156791,
          5465173,
          2964244,
          10222790,
          3906784,
          2352357,
          4001475,
          2041776,
          2326058,
          8549523,
          2372907,
          10310607,
          5389852,
          7887006,
          3152805,
          4991368,
          5107789,
          7067999,
          2431075,
          3279762,
          4834852,
          6694660,
          4572893,
          5152605,
          5210466,
          4783744,
          2546439,
          3724340,
          3178181,
          4835861,
          2723926,
          11207571,
          3731059,
          10361325,
          3579571,
          4585217,
          8056327,
          3877756,
          4273193,
          5576914,
          3300371,
          7927278,
          175788,
          4071398,
          3621969,
          3059244,
          3446723,
          2812219,
          8255635,
          3019137,
          4832180,
          4345590,
          1449834,
          3921702,
          5070320,
          3418935,
          4175567,
          2516244,
          2737155,
          3637232,
          4216188,
          4554443,
          9915656,
          4838617,
          5771575,
          1410877,
          4424196,
          2221662,
          5639711,
          5878239,
          1552234,
          2185519,
          3846703,
          3159593,
          2907888,
          6715483,
          981536,
          2319131,
          2373012,
          2433739,
          3537808,
          2468122,
          2691775,
          2451118,
          1772816,
          1747381,
          4780580,
          7888629,
          3609065,
          4110592,
          2283772,
          2106144,
          3185925,
          3022192,
          5606593,
          3959878,
          5777172,
          2614773,
          3577064,
          9335252,
          11129949,
          2273737,
          2920832,
          3727211,
          3136101,
          1753517,
          3865293,
          2713787,
          2909149,
          3438208,
          1866513,
          2169921,
          1311402,
          4989684,
          3012949,
          5234400,
          4521040,
          1896110,
          4212219,
          4166521,
          7886426,
          7336341,
          5978117,
          2973636,
          9765341,
          1512076,
          3556031,
          2530852,
          1443848,
          4755073,
          3514645,
          3037728,
          7804776,
          2495558,
          4569358,
          8457221,
          2725303,
          1940922,
          1272641,
          1037346,
          5719244,
          1628826,
          6792456,
          1502917,
          5711063,
          4018240,
          2560454,
          2481667,
          6936235,
          3488587,
          4102026,
          3011205,
          1874494,
          4895500,
          5226901,
          2322578,
          3105118,
          1615269,
          2180691,
          3677360,
          1776974,
          2671995,
          2567198,
          4618003,
          8437414,
          8078109,
          41833833,
          4880209,
          2948954,
          4933908,
          5787660,
          4337476,
          2874860,
          1715466,
          1965274,
          5423366,
          5971819,
          9213152,
          2855045,
          2582911,
          4110003,
          44291541,
          2344895,
          2167760,
          3070308,
          30889814,
          1829062,
          4621526,
          5018006,
          7008648,
          3598696,
          3050489,
          3057045,
          6731111,
          14078099,
          3163399,
          3590048,
          5800110,
          5321664,
          6635421,
          3254805,
          8960383,
          6213041,
          5418113,
          4241970,
          2955093,
          2486535,
          3821231,
          6185689,
          1958787,
          3379601,
          3790423,
          4124889,
          4933531,
          3095942,
          1867494,
          1334161,
          5009610,
          3923343,
          5126434,
          2506556,
          2969471,
          21322548,
          2561302,
          1027960,
          3707623,
          4276695,
          7654224,
          1942552,
          3292645,
          956614,
          1338301,
          3156265,
          2066041,
          1530401,
          2316908,
          3533199,
          4249580,
          7139253,
          1889696,
          1094850,
          2310313,
          87603521,
          2162107,
          4399897,
          3417970,
          3926918,
          2049420
         ],
         "x0": " ",
         "xaxis": "x",
         "y0": " ",
         "yaxis": "y"
        }
       ],
       "layout": {
        "legend": {
         "tracegroupgap": 0
        },
        "margin": {
         "t": 60
        },
        "template": {
         "data": {
          "bar": [
           {
            "error_x": {
             "color": "#2a3f5f"
            },
            "error_y": {
             "color": "#2a3f5f"
            },
            "marker": {
             "line": {
              "color": "#E5ECF6",
              "width": 0.5
             },
             "pattern": {
              "fillmode": "overlay",
              "size": 10,
              "solidity": 0.2
             }
            },
            "type": "bar"
           }
          ],
          "barpolar": [
           {
            "marker": {
             "line": {
              "color": "#E5ECF6",
              "width": 0.5
             },
             "pattern": {
              "fillmode": "overlay",
              "size": 10,
              "solidity": 0.2
             }
            },
            "type": "barpolar"
           }
          ],
          "carpet": [
           {
            "aaxis": {
             "endlinecolor": "#2a3f5f",
             "gridcolor": "white",
             "linecolor": "white",
             "minorgridcolor": "white",
             "startlinecolor": "#2a3f5f"
            },
            "baxis": {
             "endlinecolor": "#2a3f5f",
             "gridcolor": "white",
             "linecolor": "white",
             "minorgridcolor": "white",
             "startlinecolor": "#2a3f5f"
            },
            "type": "carpet"
           }
          ],
          "choropleth": [
           {
            "colorbar": {
             "outlinewidth": 0,
             "ticks": ""
            },
            "type": "choropleth"
           }
          ],
          "contour": [
           {
            "colorbar": {
             "outlinewidth": 0,
             "ticks": ""
            },
            "colorscale": [
             [
              0,
              "#0d0887"
             ],
             [
              0.1111111111111111,
              "#46039f"
             ],
             [
              0.2222222222222222,
              "#7201a8"
             ],
             [
              0.3333333333333333,
              "#9c179e"
             ],
             [
              0.4444444444444444,
              "#bd3786"
             ],
             [
              0.5555555555555556,
              "#d8576b"
             ],
             [
              0.6666666666666666,
              "#ed7953"
             ],
             [
              0.7777777777777778,
              "#fb9f3a"
             ],
             [
              0.8888888888888888,
              "#fdca26"
             ],
             [
              1,
              "#f0f921"
             ]
            ],
            "type": "contour"
           }
          ],
          "contourcarpet": [
           {
            "colorbar": {
             "outlinewidth": 0,
             "ticks": ""
            },
            "type": "contourcarpet"
           }
          ],
          "heatmap": [
           {
            "colorbar": {
             "outlinewidth": 0,
             "ticks": ""
            },
            "colorscale": [
             [
              0,
              "#0d0887"
             ],
             [
              0.1111111111111111,
              "#46039f"
             ],
             [
              0.2222222222222222,
              "#7201a8"
             ],
             [
              0.3333333333333333,
              "#9c179e"
             ],
             [
              0.4444444444444444,
              "#bd3786"
             ],
             [
              0.5555555555555556,
              "#d8576b"
             ],
             [
              0.6666666666666666,
              "#ed7953"
             ],
             [
              0.7777777777777778,
              "#fb9f3a"
             ],
             [
              0.8888888888888888,
              "#fdca26"
             ],
             [
              1,
              "#f0f921"
             ]
            ],
            "type": "heatmap"
           }
          ],
          "heatmapgl": [
           {
            "colorbar": {
             "outlinewidth": 0,
             "ticks": ""
            },
            "colorscale": [
             [
              0,
              "#0d0887"
             ],
             [
              0.1111111111111111,
              "#46039f"
             ],
             [
              0.2222222222222222,
              "#7201a8"
             ],
             [
              0.3333333333333333,
              "#9c179e"
             ],
             [
              0.4444444444444444,
              "#bd3786"
             ],
             [
              0.5555555555555556,
              "#d8576b"
             ],
             [
              0.6666666666666666,
              "#ed7953"
             ],
             [
              0.7777777777777778,
              "#fb9f3a"
             ],
             [
              0.8888888888888888,
              "#fdca26"
             ],
             [
              1,
              "#f0f921"
             ]
            ],
            "type": "heatmapgl"
           }
          ],
          "histogram": [
           {
            "marker": {
             "pattern": {
              "fillmode": "overlay",
              "size": 10,
              "solidity": 0.2
             }
            },
            "type": "histogram"
           }
          ],
          "histogram2d": [
           {
            "colorbar": {
             "outlinewidth": 0,
             "ticks": ""
            },
            "colorscale": [
             [
              0,
              "#0d0887"
             ],
             [
              0.1111111111111111,
              "#46039f"
             ],
             [
              0.2222222222222222,
              "#7201a8"
             ],
             [
              0.3333333333333333,
              "#9c179e"
             ],
             [
              0.4444444444444444,
              "#bd3786"
             ],
             [
              0.5555555555555556,
              "#d8576b"
             ],
             [
              0.6666666666666666,
              "#ed7953"
             ],
             [
              0.7777777777777778,
              "#fb9f3a"
             ],
             [
              0.8888888888888888,
              "#fdca26"
             ],
             [
              1,
              "#f0f921"
             ]
            ],
            "type": "histogram2d"
           }
          ],
          "histogram2dcontour": [
           {
            "colorbar": {
             "outlinewidth": 0,
             "ticks": ""
            },
            "colorscale": [
             [
              0,
              "#0d0887"
             ],
             [
              0.1111111111111111,
              "#46039f"
             ],
             [
              0.2222222222222222,
              "#7201a8"
             ],
             [
              0.3333333333333333,
              "#9c179e"
             ],
             [
              0.4444444444444444,
              "#bd3786"
             ],
             [
              0.5555555555555556,
              "#d8576b"
             ],
             [
              0.6666666666666666,
              "#ed7953"
             ],
             [
              0.7777777777777778,
              "#fb9f3a"
             ],
             [
              0.8888888888888888,
              "#fdca26"
             ],
             [
              1,
              "#f0f921"
             ]
            ],
            "type": "histogram2dcontour"
           }
          ],
          "mesh3d": [
           {
            "colorbar": {
             "outlinewidth": 0,
             "ticks": ""
            },
            "type": "mesh3d"
           }
          ],
          "parcoords": [
           {
            "line": {
             "colorbar": {
              "outlinewidth": 0,
              "ticks": ""
             }
            },
            "type": "parcoords"
           }
          ],
          "pie": [
           {
            "automargin": true,
            "type": "pie"
           }
          ],
          "scatter": [
           {
            "marker": {
             "colorbar": {
              "outlinewidth": 0,
              "ticks": ""
             }
            },
            "type": "scatter"
           }
          ],
          "scatter3d": [
           {
            "line": {
             "colorbar": {
              "outlinewidth": 0,
              "ticks": ""
             }
            },
            "marker": {
             "colorbar": {
              "outlinewidth": 0,
              "ticks": ""
             }
            },
            "type": "scatter3d"
           }
          ],
          "scattercarpet": [
           {
            "marker": {
             "colorbar": {
              "outlinewidth": 0,
              "ticks": ""
             }
            },
            "type": "scattercarpet"
           }
          ],
          "scattergeo": [
           {
            "marker": {
             "colorbar": {
              "outlinewidth": 0,
              "ticks": ""
             }
            },
            "type": "scattergeo"
           }
          ],
          "scattergl": [
           {
            "marker": {
             "colorbar": {
              "outlinewidth": 0,
              "ticks": ""
             }
            },
            "type": "scattergl"
           }
          ],
          "scattermapbox": [
           {
            "marker": {
             "colorbar": {
              "outlinewidth": 0,
              "ticks": ""
             }
            },
            "type": "scattermapbox"
           }
          ],
          "scatterpolar": [
           {
            "marker": {
             "colorbar": {
              "outlinewidth": 0,
              "ticks": ""
             }
            },
            "type": "scatterpolar"
           }
          ],
          "scatterpolargl": [
           {
            "marker": {
             "colorbar": {
              "outlinewidth": 0,
              "ticks": ""
             }
            },
            "type": "scatterpolargl"
           }
          ],
          "scatterternary": [
           {
            "marker": {
             "colorbar": {
              "outlinewidth": 0,
              "ticks": ""
             }
            },
            "type": "scatterternary"
           }
          ],
          "surface": [
           {
            "colorbar": {
             "outlinewidth": 0,
             "ticks": ""
            },
            "colorscale": [
             [
              0,
              "#0d0887"
             ],
             [
              0.1111111111111111,
              "#46039f"
             ],
             [
              0.2222222222222222,
              "#7201a8"
             ],
             [
              0.3333333333333333,
              "#9c179e"
             ],
             [
              0.4444444444444444,
              "#bd3786"
             ],
             [
              0.5555555555555556,
              "#d8576b"
             ],
             [
              0.6666666666666666,
              "#ed7953"
             ],
             [
              0.7777777777777778,
              "#fb9f3a"
             ],
             [
              0.8888888888888888,
              "#fdca26"
             ],
             [
              1,
              "#f0f921"
             ]
            ],
            "type": "surface"
           }
          ],
          "table": [
           {
            "cells": {
             "fill": {
              "color": "#EBF0F8"
             },
             "line": {
              "color": "white"
             }
            },
            "header": {
             "fill": {
              "color": "#C8D4E3"
             },
             "line": {
              "color": "white"
             }
            },
            "type": "table"
           }
          ]
         },
         "layout": {
          "annotationdefaults": {
           "arrowcolor": "#2a3f5f",
           "arrowhead": 0,
           "arrowwidth": 1
          },
          "autotypenumbers": "strict",
          "coloraxis": {
           "colorbar": {
            "outlinewidth": 0,
            "ticks": ""
           }
          },
          "colorscale": {
           "diverging": [
            [
             0,
             "#8e0152"
            ],
            [
             0.1,
             "#c51b7d"
            ],
            [
             0.2,
             "#de77ae"
            ],
            [
             0.3,
             "#f1b6da"
            ],
            [
             0.4,
             "#fde0ef"
            ],
            [
             0.5,
             "#f7f7f7"
            ],
            [
             0.6,
             "#e6f5d0"
            ],
            [
             0.7,
             "#b8e186"
            ],
            [
             0.8,
             "#7fbc41"
            ],
            [
             0.9,
             "#4d9221"
            ],
            [
             1,
             "#276419"
            ]
           ],
           "sequential": [
            [
             0,
             "#0d0887"
            ],
            [
             0.1111111111111111,
             "#46039f"
            ],
            [
             0.2222222222222222,
             "#7201a8"
            ],
            [
             0.3333333333333333,
             "#9c179e"
            ],
            [
             0.4444444444444444,
             "#bd3786"
            ],
            [
             0.5555555555555556,
             "#d8576b"
            ],
            [
             0.6666666666666666,
             "#ed7953"
            ],
            [
             0.7777777777777778,
             "#fb9f3a"
            ],
            [
             0.8888888888888888,
             "#fdca26"
            ],
            [
             1,
             "#f0f921"
            ]
           ],
           "sequentialminus": [
            [
             0,
             "#0d0887"
            ],
            [
             0.1111111111111111,
             "#46039f"
            ],
            [
             0.2222222222222222,
             "#7201a8"
            ],
            [
             0.3333333333333333,
             "#9c179e"
            ],
            [
             0.4444444444444444,
             "#bd3786"
            ],
            [
             0.5555555555555556,
             "#d8576b"
            ],
            [
             0.6666666666666666,
             "#ed7953"
            ],
            [
             0.7777777777777778,
             "#fb9f3a"
            ],
            [
             0.8888888888888888,
             "#fdca26"
            ],
            [
             1,
             "#f0f921"
            ]
           ]
          },
          "colorway": [
           "#636efa",
           "#EF553B",
           "#00cc96",
           "#ab63fa",
           "#FFA15A",
           "#19d3f3",
           "#FF6692",
           "#B6E880",
           "#FF97FF",
           "#FECB52"
          ],
          "font": {
           "color": "#2a3f5f"
          },
          "geo": {
           "bgcolor": "white",
           "lakecolor": "white",
           "landcolor": "#E5ECF6",
           "showlakes": true,
           "showland": true,
           "subunitcolor": "white"
          },
          "hoverlabel": {
           "align": "left"
          },
          "hovermode": "closest",
          "mapbox": {
           "style": "light"
          },
          "paper_bgcolor": "white",
          "plot_bgcolor": "#E5ECF6",
          "polar": {
           "angularaxis": {
            "gridcolor": "white",
            "linecolor": "white",
            "ticks": ""
           },
           "bgcolor": "#E5ECF6",
           "radialaxis": {
            "gridcolor": "white",
            "linecolor": "white",
            "ticks": ""
           }
          },
          "scene": {
           "xaxis": {
            "backgroundcolor": "#E5ECF6",
            "gridcolor": "white",
            "gridwidth": 2,
            "linecolor": "white",
            "showbackground": true,
            "ticks": "",
            "zerolinecolor": "white"
           },
           "yaxis": {
            "backgroundcolor": "#E5ECF6",
            "gridcolor": "white",
            "gridwidth": 2,
            "linecolor": "white",
            "showbackground": true,
            "ticks": "",
            "zerolinecolor": "white"
           },
           "zaxis": {
            "backgroundcolor": "#E5ECF6",
            "gridcolor": "white",
            "gridwidth": 2,
            "linecolor": "white",
            "showbackground": true,
            "ticks": "",
            "zerolinecolor": "white"
           }
          },
          "shapedefaults": {
           "line": {
            "color": "#2a3f5f"
           }
          },
          "ternary": {
           "aaxis": {
            "gridcolor": "white",
            "linecolor": "white",
            "ticks": ""
           },
           "baxis": {
            "gridcolor": "white",
            "linecolor": "white",
            "ticks": ""
           },
           "bgcolor": "#E5ECF6",
           "caxis": {
            "gridcolor": "white",
            "linecolor": "white",
            "ticks": ""
           }
          },
          "title": {
           "x": 0.05
          },
          "xaxis": {
           "automargin": true,
           "gridcolor": "white",
           "linecolor": "white",
           "ticks": "",
           "title": {
            "standoff": 15
           },
           "zerolinecolor": "white",
           "zerolinewidth": 2
          },
          "yaxis": {
           "automargin": true,
           "gridcolor": "white",
           "linecolor": "white",
           "ticks": "",
           "title": {
            "standoff": 15
           },
           "zerolinecolor": "white",
           "zerolinewidth": 2
          }
         }
        },
        "violinmode": "group",
        "xaxis": {
         "anchor": "y",
         "domain": [
          0,
          1
         ],
         "title": {
          "text": "Views_Gained"
         }
        },
        "yaxis": {
         "anchor": "x",
         "domain": [
          0,
          1
         ]
        }
       }
      }
     },
     "metadata": {},
     "output_type": "display_data"
    }
   ],
   "source": [
    "# Violin Plot of Views Gained Data\n",
    "\n",
    "\n",
    "\n",
    "px.violin(\n",
    "    twitch_modified,\n",
    "    x= 'Views_Gained',\n",
    "    box=True,\n",
    "    points='all'\n",
    ")"
   ]
  },
  {
   "cell_type": "code",
   "execution_count": 27,
   "metadata": {},
   "outputs": [
    {
     "data": {
      "text/html": [
       "<div>\n",
       "<style scoped>\n",
       "    .dataframe tbody tr th:only-of-type {\n",
       "        vertical-align: middle;\n",
       "    }\n",
       "\n",
       "    .dataframe tbody tr th {\n",
       "        vertical-align: top;\n",
       "    }\n",
       "\n",
       "    .dataframe thead th {\n",
       "        text-align: right;\n",
       "    }\n",
       "</style>\n",
       "<table border=\"1\" class=\"dataframe\">\n",
       "  <thead>\n",
       "    <tr style=\"text-align: right;\">\n",
       "      <th></th>\n",
       "      <th>Channel</th>\n",
       "      <th>Watch_Time(Hours)</th>\n",
       "      <th>Stream_Time(Hours)</th>\n",
       "      <th>Peak_Viewers</th>\n",
       "      <th>Average_Viewers</th>\n",
       "      <th>Followers</th>\n",
       "      <th>Followers_Gained</th>\n",
       "      <th>Views_Gained</th>\n",
       "      <th>Partnered</th>\n",
       "      <th>Mature</th>\n",
       "      <th>Language</th>\n",
       "    </tr>\n",
       "  </thead>\n",
       "  <tbody>\n",
       "    <tr>\n",
       "      <th>7</th>\n",
       "      <td>Fextralife</td>\n",
       "      <td>15286.423542</td>\n",
       "      <td>2464.75</td>\n",
       "      <td>68795</td>\n",
       "      <td>18985</td>\n",
       "      <td>508816</td>\n",
       "      <td>425468</td>\n",
       "      <td>670137548</td>\n",
       "      <td>True</td>\n",
       "      <td>False</td>\n",
       "      <td>English</td>\n",
       "    </tr>\n",
       "  </tbody>\n",
       "</table>\n",
       "</div>"
      ],
      "text/plain": [
       "      Channel  Watch_Time(Hours)  Stream_Time(Hours)  Peak_Viewers  \\\n",
       "7  Fextralife       15286.423542             2464.75         68795   \n",
       "\n",
       "   Average_Viewers  Followers  Followers_Gained  Views_Gained  Partnered  \\\n",
       "7            18985     508816            425468     670137548       True   \n",
       "\n",
       "   Mature Language  \n",
       "7   False  English  "
      ]
     },
     "execution_count": 27,
     "metadata": {},
     "output_type": "execute_result"
    }
   ],
   "source": [
    "#highest value in the Views_Gained column\n",
    "\n",
    "twitch_modified[twitch_modified['Views_Gained'] == twitch_modified['Views_Gained'].max()]"
   ]
  },
  {
   "cell_type": "markdown",
   "metadata": {},
   "source": [
    "<font size= \"3\">Categorical Data Types</font>"
   ]
  },
  {
   "cell_type": "code",
   "execution_count": 33,
   "metadata": {},
   "outputs": [
    {
     "data": {
      "text/html": [
       "<div>\n",
       "<style scoped>\n",
       "    .dataframe tbody tr th:only-of-type {\n",
       "        vertical-align: middle;\n",
       "    }\n",
       "\n",
       "    .dataframe tbody tr th {\n",
       "        vertical-align: top;\n",
       "    }\n",
       "\n",
       "    .dataframe thead th {\n",
       "        text-align: right;\n",
       "    }\n",
       "</style>\n",
       "<table border=\"1\" class=\"dataframe\">\n",
       "  <thead>\n",
       "    <tr style=\"text-align: right;\">\n",
       "      <th></th>\n",
       "      <th>index</th>\n",
       "      <th>Language</th>\n",
       "      <th>PercentOfTotal</th>\n",
       "      <th>PercentRunningTotal</th>\n",
       "    </tr>\n",
       "  </thead>\n",
       "  <tbody>\n",
       "    <tr>\n",
       "      <th>0</th>\n",
       "      <td>English</td>\n",
       "      <td>485</td>\n",
       "      <td>0.485</td>\n",
       "      <td>0.485</td>\n",
       "    </tr>\n",
       "    <tr>\n",
       "      <th>1</th>\n",
       "      <td>Korean</td>\n",
       "      <td>77</td>\n",
       "      <td>0.077</td>\n",
       "      <td>0.562</td>\n",
       "    </tr>\n",
       "    <tr>\n",
       "      <th>2</th>\n",
       "      <td>Russian</td>\n",
       "      <td>74</td>\n",
       "      <td>0.074</td>\n",
       "      <td>0.636</td>\n",
       "    </tr>\n",
       "    <tr>\n",
       "      <th>3</th>\n",
       "      <td>Spanish</td>\n",
       "      <td>68</td>\n",
       "      <td>0.068</td>\n",
       "      <td>0.704</td>\n",
       "    </tr>\n",
       "    <tr>\n",
       "      <th>4</th>\n",
       "      <td>French</td>\n",
       "      <td>66</td>\n",
       "      <td>0.066</td>\n",
       "      <td>0.770</td>\n",
       "    </tr>\n",
       "    <tr>\n",
       "      <th>5</th>\n",
       "      <td>Portuguese</td>\n",
       "      <td>61</td>\n",
       "      <td>0.061</td>\n",
       "      <td>0.831</td>\n",
       "    </tr>\n",
       "    <tr>\n",
       "      <th>6</th>\n",
       "      <td>German</td>\n",
       "      <td>49</td>\n",
       "      <td>0.049</td>\n",
       "      <td>0.880</td>\n",
       "    </tr>\n",
       "    <tr>\n",
       "      <th>7</th>\n",
       "      <td>Chinese</td>\n",
       "      <td>30</td>\n",
       "      <td>0.030</td>\n",
       "      <td>0.910</td>\n",
       "    </tr>\n",
       "    <tr>\n",
       "      <th>8</th>\n",
       "      <td>Turkish</td>\n",
       "      <td>22</td>\n",
       "      <td>0.022</td>\n",
       "      <td>0.932</td>\n",
       "    </tr>\n",
       "    <tr>\n",
       "      <th>9</th>\n",
       "      <td>Italian</td>\n",
       "      <td>17</td>\n",
       "      <td>0.017</td>\n",
       "      <td>0.949</td>\n",
       "    </tr>\n",
       "    <tr>\n",
       "      <th>10</th>\n",
       "      <td>Polish</td>\n",
       "      <td>12</td>\n",
       "      <td>0.012</td>\n",
       "      <td>0.961</td>\n",
       "    </tr>\n",
       "    <tr>\n",
       "      <th>11</th>\n",
       "      <td>Thai</td>\n",
       "      <td>11</td>\n",
       "      <td>0.011</td>\n",
       "      <td>0.972</td>\n",
       "    </tr>\n",
       "    <tr>\n",
       "      <th>12</th>\n",
       "      <td>Japanese</td>\n",
       "      <td>10</td>\n",
       "      <td>0.010</td>\n",
       "      <td>0.982</td>\n",
       "    </tr>\n",
       "    <tr>\n",
       "      <th>13</th>\n",
       "      <td>Czech</td>\n",
       "      <td>6</td>\n",
       "      <td>0.006</td>\n",
       "      <td>0.988</td>\n",
       "    </tr>\n",
       "    <tr>\n",
       "      <th>14</th>\n",
       "      <td>Arabic</td>\n",
       "      <td>5</td>\n",
       "      <td>0.005</td>\n",
       "      <td>0.993</td>\n",
       "    </tr>\n",
       "    <tr>\n",
       "      <th>15</th>\n",
       "      <td>Hungarian</td>\n",
       "      <td>2</td>\n",
       "      <td>0.002</td>\n",
       "      <td>0.995</td>\n",
       "    </tr>\n",
       "    <tr>\n",
       "      <th>16</th>\n",
       "      <td>Slovak</td>\n",
       "      <td>1</td>\n",
       "      <td>0.001</td>\n",
       "      <td>0.996</td>\n",
       "    </tr>\n",
       "    <tr>\n",
       "      <th>17</th>\n",
       "      <td>Other</td>\n",
       "      <td>1</td>\n",
       "      <td>0.001</td>\n",
       "      <td>0.997</td>\n",
       "    </tr>\n",
       "    <tr>\n",
       "      <th>18</th>\n",
       "      <td>Greek</td>\n",
       "      <td>1</td>\n",
       "      <td>0.001</td>\n",
       "      <td>0.998</td>\n",
       "    </tr>\n",
       "    <tr>\n",
       "      <th>19</th>\n",
       "      <td>Finnish</td>\n",
       "      <td>1</td>\n",
       "      <td>0.001</td>\n",
       "      <td>0.999</td>\n",
       "    </tr>\n",
       "    <tr>\n",
       "      <th>20</th>\n",
       "      <td>Swedish</td>\n",
       "      <td>1</td>\n",
       "      <td>0.001</td>\n",
       "      <td>1.000</td>\n",
       "    </tr>\n",
       "  </tbody>\n",
       "</table>\n",
       "</div>"
      ],
      "text/plain": [
       "         index  Language  PercentOfTotal  PercentRunningTotal\n",
       "0      English       485           0.485                0.485\n",
       "1       Korean        77           0.077                0.562\n",
       "2      Russian        74           0.074                0.636\n",
       "3      Spanish        68           0.068                0.704\n",
       "4       French        66           0.066                0.770\n",
       "5   Portuguese        61           0.061                0.831\n",
       "6       German        49           0.049                0.880\n",
       "7      Chinese        30           0.030                0.910\n",
       "8      Turkish        22           0.022                0.932\n",
       "9      Italian        17           0.017                0.949\n",
       "10      Polish        12           0.012                0.961\n",
       "11        Thai        11           0.011                0.972\n",
       "12    Japanese        10           0.010                0.982\n",
       "13       Czech         6           0.006                0.988\n",
       "14      Arabic         5           0.005                0.993\n",
       "15   Hungarian         2           0.002                0.995\n",
       "16      Slovak         1           0.001                0.996\n",
       "17       Other         1           0.001                0.997\n",
       "18       Greek         1           0.001                0.998\n",
       "19     Finnish         1           0.001                0.999\n",
       "20     Swedish         1           0.001                1.000"
      ]
     },
     "execution_count": 33,
     "metadata": {},
     "output_type": "execute_result"
    }
   ],
   "source": [
    "# Cardinality / Unique Counts of Language category\n",
    "\n",
    "def cardinality_pareto(dataframe, column):\n",
    "    temp = dataframe[column].value_counts().reset_index()\n",
    "    temp['PercentOfTotal'] = temp[column] / temp[column].sum()\n",
    "    temp['PercentRunningTotal'] = temp['PercentOfTotal'].cumsum()\n",
    "    return temp\n",
    "\n",
    "cardinality_pareto(twitch_modified, 'Language')"
   ]
  },
  {
   "cell_type": "code",
   "execution_count": 33,
   "metadata": {},
   "outputs": [
    {
     "data": {
      "text/html": [
       "<div>\n",
       "<style scoped>\n",
       "    .dataframe tbody tr th:only-of-type {\n",
       "        vertical-align: middle;\n",
       "    }\n",
       "\n",
       "    .dataframe tbody tr th {\n",
       "        vertical-align: top;\n",
       "    }\n",
       "\n",
       "    .dataframe thead th {\n",
       "        text-align: right;\n",
       "    }\n",
       "</style>\n",
       "<table border=\"1\" class=\"dataframe\">\n",
       "  <thead>\n",
       "    <tr style=\"text-align: right;\">\n",
       "      <th></th>\n",
       "      <th>index</th>\n",
       "      <th>Mature</th>\n",
       "      <th>PercentOfTotal</th>\n",
       "      <th>PercentRunningTotal</th>\n",
       "    </tr>\n",
       "  </thead>\n",
       "  <tbody>\n",
       "    <tr>\n",
       "      <th>0</th>\n",
       "      <td>False</td>\n",
       "      <td>770</td>\n",
       "      <td>0.77</td>\n",
       "      <td>0.77</td>\n",
       "    </tr>\n",
       "    <tr>\n",
       "      <th>1</th>\n",
       "      <td>True</td>\n",
       "      <td>230</td>\n",
       "      <td>0.23</td>\n",
       "      <td>1.00</td>\n",
       "    </tr>\n",
       "  </tbody>\n",
       "</table>\n",
       "</div>"
      ],
      "text/plain": [
       "   index  Mature  PercentOfTotal  PercentRunningTotal\n",
       "0  False     770            0.77                 0.77\n",
       "1   True     230            0.23                 1.00"
      ]
     },
     "execution_count": 33,
     "metadata": {},
     "output_type": "execute_result"
    }
   ],
   "source": [
    "# Cardinality / Unique Counts of the Mature category\n",
    "\n",
    "def cardinality_pareto2(dataframe, column):\n",
    "    temp = dataframe[column].value_counts().reset_index()\n",
    "    temp['PercentOfTotal'] = temp[column] / temp[column].sum()\n",
    "    temp['PercentRunningTotal'] = temp['PercentOfTotal'].cumsum()\n",
    "    return temp\n",
    "\n",
    "cardinality_pareto2(twitch_modified, 'Mature')"
   ]
  },
  {
   "cell_type": "code",
   "execution_count": 38,
   "metadata": {},
   "outputs": [
    {
     "data": {
      "image/png": "[encoded data removed]",
      "text/plain": [
       "<Figure size 720x432 with 1 Axes>"
      ]
     },
     "metadata": {},
     "output_type": "display_data"
    }
   ],
   "source": [
    "#Pie Chart of Amount of Mature Channels in Sample\n",
    "\n",
    "mature_data = twitch_modified.groupby('Mature').count().loc[:,'Channel']\n",
    "\n",
    "plt.figure(figsize=(10,6))\n",
    "plt.style.use('seaborn')\n",
    "\n",
    "labels = ['Not Mature', 'Mature']\n",
    "slice_colors = ['#E1B4F7','#F4D225']\n",
    "\n",
    "plt.pie(mature_data, labels= labels, colors= slice_colors, wedgeprops={'edgecolor': 'black'})\n",
    "\n",
    "plt.title('Percentage of Mature Streamers')\n",
    "plt.tight_layout()\n",
    "plt.show()"
   ]
  },
  {
   "cell_type": "code",
   "execution_count": 35,
   "metadata": {},
   "outputs": [
    {
     "data": {
      "text/html": [
       "<div>\n",
       "<style scoped>\n",
       "    .dataframe tbody tr th:only-of-type {\n",
       "        vertical-align: middle;\n",
       "    }\n",
       "\n",
       "    .dataframe tbody tr th {\n",
       "        vertical-align: top;\n",
       "    }\n",
       "\n",
       "    .dataframe thead th {\n",
       "        text-align: right;\n",
       "    }\n",
       "</style>\n",
       "<table border=\"1\" class=\"dataframe\">\n",
       "  <thead>\n",
       "    <tr style=\"text-align: right;\">\n",
       "      <th></th>\n",
       "      <th>index</th>\n",
       "      <th>Partnered</th>\n",
       "      <th>PercentOfTotal</th>\n",
       "      <th>PercentRunningTotal</th>\n",
       "    </tr>\n",
       "  </thead>\n",
       "  <tbody>\n",
       "    <tr>\n",
       "      <th>0</th>\n",
       "      <td>True</td>\n",
       "      <td>978</td>\n",
       "      <td>0.978</td>\n",
       "      <td>0.978</td>\n",
       "    </tr>\n",
       "    <tr>\n",
       "      <th>1</th>\n",
       "      <td>False</td>\n",
       "      <td>22</td>\n",
       "      <td>0.022</td>\n",
       "      <td>1.000</td>\n",
       "    </tr>\n",
       "  </tbody>\n",
       "</table>\n",
       "</div>"
      ],
      "text/plain": [
       "   index  Partnered  PercentOfTotal  PercentRunningTotal\n",
       "0   True        978           0.978                0.978\n",
       "1  False         22           0.022                1.000"
      ]
     },
     "execution_count": 35,
     "metadata": {},
     "output_type": "execute_result"
    }
   ],
   "source": [
    "# Cardinality / Unique Counts of Partnered category\n",
    "\n",
    "def cardinality_pareto3(dataframe, column):\n",
    "    temp = dataframe[column].value_counts().reset_index()\n",
    "    temp['PercentOfTotal'] = temp[column] / temp[column].sum()\n",
    "    temp['PercentRunningTotal'] = temp['PercentOfTotal'].cumsum()\n",
    "    return temp\n",
    "\n",
    "cardinality_pareto3(twitch_modified, 'Partnered')"
   ]
  },
  {
   "cell_type": "markdown",
   "metadata": {},
   "source": [
    "<font size= \"6\">Bivariate Analysis</font>"
   ]
  },
  {
   "cell_type": "markdown",
   "metadata": {},
   "source": [
    "<font size= \"3\">Correlation Analysis</font>"
   ]
  },
  {
   "cell_type": "code",
   "execution_count": 61,
   "metadata": {},
   "outputs": [
    {
     "data": {
      "text/html": [
       "<div>\n",
       "<style scoped>\n",
       "    .dataframe tbody tr th:only-of-type {\n",
       "        vertical-align: middle;\n",
       "    }\n",
       "\n",
       "    .dataframe tbody tr th {\n",
       "        vertical-align: top;\n",
       "    }\n",
       "\n",
       "    .dataframe thead th {\n",
       "        text-align: right;\n",
       "    }\n",
       "</style>\n",
       "<table border=\"1\" class=\"dataframe\">\n",
       "  <thead>\n",
       "    <tr style=\"text-align: right;\">\n",
       "      <th>Partnered</th>\n",
       "      <th>False</th>\n",
       "      <th>True</th>\n",
       "    </tr>\n",
       "    <tr>\n",
       "      <th>Mature</th>\n",
       "      <th></th>\n",
       "      <th></th>\n",
       "    </tr>\n",
       "  </thead>\n",
       "  <tbody>\n",
       "    <tr>\n",
       "      <th>False</th>\n",
       "      <td>17</td>\n",
       "      <td>753</td>\n",
       "    </tr>\n",
       "    <tr>\n",
       "      <th>True</th>\n",
       "      <td>5</td>\n",
       "      <td>225</td>\n",
       "    </tr>\n",
       "  </tbody>\n",
       "</table>\n",
       "</div>"
      ],
      "text/plain": [
       "Partnered  False  True\n",
       "Mature                \n",
       "False         17   753\n",
       "True           5   225"
      ]
     },
     "execution_count": 61,
     "metadata": {},
     "output_type": "execute_result"
    }
   ],
   "source": [
    "# Qualitative Analysis\n",
    "# Contingency Table of Mature vs. Partnered\n",
    "\n",
    "data_crosstab = pd.crosstab(twitch_modified['Mature'],\n",
    "                            twitch_modified['Partnered'],\n",
    "                                margins = False)\n",
    "                        \n",
    "data_crosstab"
   ]
  },
  {
   "cell_type": "code",
   "execution_count": 36,
   "metadata": {},
   "outputs": [
    {
     "data": {
      "text/html": [
       "<div>\n",
       "<style scoped>\n",
       "    .dataframe tbody tr th:only-of-type {\n",
       "        vertical-align: middle;\n",
       "    }\n",
       "\n",
       "    .dataframe tbody tr th {\n",
       "        vertical-align: top;\n",
       "    }\n",
       "\n",
       "    .dataframe thead th {\n",
       "        text-align: right;\n",
       "    }\n",
       "</style>\n",
       "<table border=\"1\" class=\"dataframe\">\n",
       "  <thead>\n",
       "    <tr style=\"text-align: right;\">\n",
       "      <th>Partnered</th>\n",
       "      <th>False</th>\n",
       "      <th>True</th>\n",
       "    </tr>\n",
       "    <tr>\n",
       "      <th>Language</th>\n",
       "      <th></th>\n",
       "      <th></th>\n",
       "    </tr>\n",
       "  </thead>\n",
       "  <tbody>\n",
       "    <tr>\n",
       "      <th>Arabic</th>\n",
       "      <td>0</td>\n",
       "      <td>5</td>\n",
       "    </tr>\n",
       "    <tr>\n",
       "      <th>Chinese</th>\n",
       "      <td>0</td>\n",
       "      <td>30</td>\n",
       "    </tr>\n",
       "    <tr>\n",
       "      <th>Czech</th>\n",
       "      <td>0</td>\n",
       "      <td>6</td>\n",
       "    </tr>\n",
       "    <tr>\n",
       "      <th>English</th>\n",
       "      <td>9</td>\n",
       "      <td>476</td>\n",
       "    </tr>\n",
       "    <tr>\n",
       "      <th>Finnish</th>\n",
       "      <td>0</td>\n",
       "      <td>1</td>\n",
       "    </tr>\n",
       "    <tr>\n",
       "      <th>French</th>\n",
       "      <td>1</td>\n",
       "      <td>65</td>\n",
       "    </tr>\n",
       "    <tr>\n",
       "      <th>German</th>\n",
       "      <td>1</td>\n",
       "      <td>48</td>\n",
       "    </tr>\n",
       "    <tr>\n",
       "      <th>Greek</th>\n",
       "      <td>0</td>\n",
       "      <td>1</td>\n",
       "    </tr>\n",
       "    <tr>\n",
       "      <th>Hungarian</th>\n",
       "      <td>0</td>\n",
       "      <td>2</td>\n",
       "    </tr>\n",
       "    <tr>\n",
       "      <th>Italian</th>\n",
       "      <td>0</td>\n",
       "      <td>17</td>\n",
       "    </tr>\n",
       "    <tr>\n",
       "      <th>Japanese</th>\n",
       "      <td>0</td>\n",
       "      <td>10</td>\n",
       "    </tr>\n",
       "    <tr>\n",
       "      <th>Korean</th>\n",
       "      <td>1</td>\n",
       "      <td>76</td>\n",
       "    </tr>\n",
       "    <tr>\n",
       "      <th>Other</th>\n",
       "      <td>1</td>\n",
       "      <td>0</td>\n",
       "    </tr>\n",
       "    <tr>\n",
       "      <th>Polish</th>\n",
       "      <td>0</td>\n",
       "      <td>12</td>\n",
       "    </tr>\n",
       "    <tr>\n",
       "      <th>Portuguese</th>\n",
       "      <td>1</td>\n",
       "      <td>60</td>\n",
       "    </tr>\n",
       "    <tr>\n",
       "      <th>Russian</th>\n",
       "      <td>7</td>\n",
       "      <td>67</td>\n",
       "    </tr>\n",
       "    <tr>\n",
       "      <th>Slovak</th>\n",
       "      <td>0</td>\n",
       "      <td>1</td>\n",
       "    </tr>\n",
       "    <tr>\n",
       "      <th>Spanish</th>\n",
       "      <td>1</td>\n",
       "      <td>67</td>\n",
       "    </tr>\n",
       "    <tr>\n",
       "      <th>Swedish</th>\n",
       "      <td>0</td>\n",
       "      <td>1</td>\n",
       "    </tr>\n",
       "    <tr>\n",
       "      <th>Thai</th>\n",
       "      <td>0</td>\n",
       "      <td>11</td>\n",
       "    </tr>\n",
       "    <tr>\n",
       "      <th>Turkish</th>\n",
       "      <td>0</td>\n",
       "      <td>22</td>\n",
       "    </tr>\n",
       "  </tbody>\n",
       "</table>\n",
       "</div>"
      ],
      "text/plain": [
       "Partnered   False  True\n",
       "Language               \n",
       "Arabic          0     5\n",
       "Chinese         0    30\n",
       "Czech           0     6\n",
       "English         9   476\n",
       "Finnish         0     1\n",
       "French          1    65\n",
       "German          1    48\n",
       "Greek           0     1\n",
       "Hungarian       0     2\n",
       "Italian         0    17\n",
       "Japanese        0    10\n",
       "Korean          1    76\n",
       "Other           1     0\n",
       "Polish          0    12\n",
       "Portuguese      1    60\n",
       "Russian         7    67\n",
       "Slovak          0     1\n",
       "Spanish         1    67\n",
       "Swedish         0     1\n",
       "Thai            0    11\n",
       "Turkish         0    22"
      ]
     },
     "execution_count": 36,
     "metadata": {},
     "output_type": "execute_result"
    }
   ],
   "source": [
    "#Contingency table of Language vs. Partnered\n",
    "\n",
    "data_crosstab2 = pd.crosstab(twitch_modified['Language'],\n",
    "                            twitch_modified['Partnered'],\n",
    "                                margins = False)\n",
    "                        \n",
    "data_crosstab2"
   ]
  },
  {
   "cell_type": "code",
   "execution_count": 37,
   "metadata": {},
   "outputs": [
    {
     "data": {
      "text/html": [
       "<div>\n",
       "<style scoped>\n",
       "    .dataframe tbody tr th:only-of-type {\n",
       "        vertical-align: middle;\n",
       "    }\n",
       "\n",
       "    .dataframe tbody tr th {\n",
       "        vertical-align: top;\n",
       "    }\n",
       "\n",
       "    .dataframe thead th {\n",
       "        text-align: right;\n",
       "    }\n",
       "</style>\n",
       "<table border=\"1\" class=\"dataframe\">\n",
       "  <thead>\n",
       "    <tr style=\"text-align: right;\">\n",
       "      <th>Mature</th>\n",
       "      <th>False</th>\n",
       "      <th>True</th>\n",
       "    </tr>\n",
       "    <tr>\n",
       "      <th>Language</th>\n",
       "      <th></th>\n",
       "      <th></th>\n",
       "    </tr>\n",
       "  </thead>\n",
       "  <tbody>\n",
       "    <tr>\n",
       "      <th>Arabic</th>\n",
       "      <td>5</td>\n",
       "      <td>0</td>\n",
       "    </tr>\n",
       "    <tr>\n",
       "      <th>Chinese</th>\n",
       "      <td>20</td>\n",
       "      <td>10</td>\n",
       "    </tr>\n",
       "    <tr>\n",
       "      <th>Czech</th>\n",
       "      <td>3</td>\n",
       "      <td>3</td>\n",
       "    </tr>\n",
       "    <tr>\n",
       "      <th>English</th>\n",
       "      <td>349</td>\n",
       "      <td>136</td>\n",
       "    </tr>\n",
       "    <tr>\n",
       "      <th>Finnish</th>\n",
       "      <td>0</td>\n",
       "      <td>1</td>\n",
       "    </tr>\n",
       "    <tr>\n",
       "      <th>French</th>\n",
       "      <td>51</td>\n",
       "      <td>15</td>\n",
       "    </tr>\n",
       "    <tr>\n",
       "      <th>German</th>\n",
       "      <td>35</td>\n",
       "      <td>14</td>\n",
       "    </tr>\n",
       "    <tr>\n",
       "      <th>Greek</th>\n",
       "      <td>1</td>\n",
       "      <td>0</td>\n",
       "    </tr>\n",
       "    <tr>\n",
       "      <th>Hungarian</th>\n",
       "      <td>1</td>\n",
       "      <td>1</td>\n",
       "    </tr>\n",
       "    <tr>\n",
       "      <th>Italian</th>\n",
       "      <td>16</td>\n",
       "      <td>1</td>\n",
       "    </tr>\n",
       "    <tr>\n",
       "      <th>Japanese</th>\n",
       "      <td>10</td>\n",
       "      <td>0</td>\n",
       "    </tr>\n",
       "    <tr>\n",
       "      <th>Korean</th>\n",
       "      <td>76</td>\n",
       "      <td>1</td>\n",
       "    </tr>\n",
       "    <tr>\n",
       "      <th>Other</th>\n",
       "      <td>1</td>\n",
       "      <td>0</td>\n",
       "    </tr>\n",
       "    <tr>\n",
       "      <th>Polish</th>\n",
       "      <td>11</td>\n",
       "      <td>1</td>\n",
       "    </tr>\n",
       "    <tr>\n",
       "      <th>Portuguese</th>\n",
       "      <td>44</td>\n",
       "      <td>17</td>\n",
       "    </tr>\n",
       "    <tr>\n",
       "      <th>Russian</th>\n",
       "      <td>65</td>\n",
       "      <td>9</td>\n",
       "    </tr>\n",
       "    <tr>\n",
       "      <th>Slovak</th>\n",
       "      <td>1</td>\n",
       "      <td>0</td>\n",
       "    </tr>\n",
       "    <tr>\n",
       "      <th>Spanish</th>\n",
       "      <td>57</td>\n",
       "      <td>11</td>\n",
       "    </tr>\n",
       "    <tr>\n",
       "      <th>Swedish</th>\n",
       "      <td>0</td>\n",
       "      <td>1</td>\n",
       "    </tr>\n",
       "    <tr>\n",
       "      <th>Thai</th>\n",
       "      <td>8</td>\n",
       "      <td>3</td>\n",
       "    </tr>\n",
       "    <tr>\n",
       "      <th>Turkish</th>\n",
       "      <td>16</td>\n",
       "      <td>6</td>\n",
       "    </tr>\n",
       "  </tbody>\n",
       "</table>\n",
       "</div>"
      ],
      "text/plain": [
       "Mature      False  True\n",
       "Language               \n",
       "Arabic          5     0\n",
       "Chinese        20    10\n",
       "Czech           3     3\n",
       "English       349   136\n",
       "Finnish         0     1\n",
       "French         51    15\n",
       "German         35    14\n",
       "Greek           1     0\n",
       "Hungarian       1     1\n",
       "Italian        16     1\n",
       "Japanese       10     0\n",
       "Korean         76     1\n",
       "Other           1     0\n",
       "Polish         11     1\n",
       "Portuguese     44    17\n",
       "Russian        65     9\n",
       "Slovak          1     0\n",
       "Spanish        57    11\n",
       "Swedish         0     1\n",
       "Thai            8     3\n",
       "Turkish        16     6"
      ]
     },
     "execution_count": 37,
     "metadata": {},
     "output_type": "execute_result"
    }
   ],
   "source": [
    "#Contingency table of Language vs. Matured\n",
    "\n",
    "data_crosstab3 = pd.crosstab(twitch_modified['Language'],\n",
    "                            twitch_modified['Mature'],\n",
    "                                margins = False)\n",
    "                        \n",
    "data_crosstab3"
   ]
  },
  {
   "cell_type": "code",
   "execution_count": 43,
   "metadata": {},
   "outputs": [
    {
     "data": {
      "text/html": [
       "<div>\n",
       "<style scoped>\n",
       "    .dataframe tbody tr th:only-of-type {\n",
       "        vertical-align: middle;\n",
       "    }\n",
       "\n",
       "    .dataframe tbody tr th {\n",
       "        vertical-align: top;\n",
       "    }\n",
       "\n",
       "    .dataframe thead th {\n",
       "        text-align: right;\n",
       "    }\n",
       "</style>\n",
       "<table border=\"1\" class=\"dataframe\">\n",
       "  <thead>\n",
       "    <tr style=\"text-align: right;\">\n",
       "      <th>Partnered</th>\n",
       "      <th>False</th>\n",
       "      <th>True</th>\n",
       "    </tr>\n",
       "    <tr>\n",
       "      <th>Partnered</th>\n",
       "      <th></th>\n",
       "      <th></th>\n",
       "    </tr>\n",
       "  </thead>\n",
       "  <tbody>\n",
       "    <tr>\n",
       "      <th>False</th>\n",
       "      <td>1.0</td>\n",
       "      <td>1.0</td>\n",
       "    </tr>\n",
       "    <tr>\n",
       "      <th>True</th>\n",
       "      <td>1.0</td>\n",
       "      <td>1.0</td>\n",
       "    </tr>\n",
       "  </tbody>\n",
       "</table>\n",
       "</div>"
      ],
      "text/plain": [
       "Partnered  False  True\n",
       "Partnered             \n",
       "False        1.0   1.0\n",
       "True         1.0   1.0"
      ]
     },
     "execution_count": 43,
     "metadata": {},
     "output_type": "execute_result"
    }
   ],
   "source": [
    "# Quantitative Analysis\n",
    "# Correlation Table of Mature vs. Partnered\n",
    "\n",
    "data_crosstab.corr()"
   ]
  },
  {
   "cell_type": "code",
   "execution_count": 48,
   "metadata": {},
   "outputs": [
    {
     "data": {
      "text/plain": [
       "<AxesSubplot:>"
      ]
     },
     "execution_count": 48,
     "metadata": {},
     "output_type": "execute_result"
    },
    {
     "data": {
      "image/png": "[encoded data removed]",
      "text/plain": [
       "<Figure size 1800x1800 with 2 Axes>"
      ]
     },
     "metadata": {
      "needs_background": "light"
     },
     "output_type": "display_data"
    }
   ],
   "source": [
    "#Heat Map\n",
    "\n",
    "corr = pd.get_dummies(twitch_modified[['Language', 'Watch_Time(Hours)']]). corr()\n",
    "\n",
    "mask = np.triu(np.ones_like(corr, dtype=bool))\n",
    "\n",
    "# Set up heat map\n",
    "f, ax = plt.subplots(figsize= (25,25))\n",
    "\n",
    "# Generate a custom divergin colormap\n",
    "cmap = sns.diverging_palette(230, 20, as_cmap=True)\n",
    "\n",
    "#Draw the heatmap with the mask and correct aspect ratio\n",
    "sns.heatmap(corr, mask=mask, cmap=cmap, vmax=0.3, center=0,\n",
    "            square=True, linewidths=0.5, cbar_kws={'shrink': 0.5}, annot=True)"
   ]
  },
  {
   "cell_type": "code",
   "execution_count": 53,
   "metadata": {},
   "outputs": [
    {
     "name": "stdout",
     "output_type": "stream",
     "text": [
      "English vs. Mature | P-value =  0.0 |  English and channel maturity rating ARE independent\n",
      "Portuguese vs. Mature | P-value =  0.44 |  Portuguese and channel maturity rating are NOT independent\n",
      "Spanish vs. Mature | P-value =  0.22 |  Spanish and channel maturity rating are NOT independent\n",
      "German vs. Mature | P-value =  0.44 |  German and channel maturity rating are NOT independent\n",
      "Korean vs. Mature | P-value =  0.0 |  Korean and channel maturity rating ARE independent\n",
      "French vs. Mature | P-value =  1.0 |  Not enough info\n",
      "Russian vs. Mature | P-value =  0.03 |  Russian and channel maturity rating ARE independent\n",
      "Japanese vs. Mature | P-value =  0.17 |  Japanese and channel maturity rating are NOT independent\n",
      "Chinese vs. Mature | P-value =  0.25 |  Chinese and channel maturity rating are NOT independent\n",
      "Czech vs. Mature | P-value =  0.28 |  Czech and channel maturity rating are NOT independent\n",
      "Turkish vs. Mature | P-value =  0.82 |  Turkish and channel maturity rating are NOT independent\n",
      "Italian vs. Mature | P-value =  0.16 |  Italian and channel maturity rating are NOT independent\n",
      "Polish vs. Mature | P-value =  0.38 |  Polish and channel maturity rating are NOT independent\n",
      "Thai vs. Mature | P-value =  1.0 |  Not enough info\n",
      "Arabic vs. Mature | P-value =  0.49 |  Arabic and channel maturity rating are NOT independent\n",
      "Slovak vs. Mature | P-value =  1.0 |  Not enough info\n",
      "Other vs. Mature | P-value =  1.0 |  Not enough info\n",
      "Hungarian vs. Mature | P-value =  0.95 |  Hungarian and channel maturity rating are NOT independent\n",
      "Greek vs. Mature | P-value =  1.0 |  Not enough info\n",
      "Finnish vs. Mature | P-value =  0.52 |  Finnish and channel maturity rating are NOT independent\n",
      "Swedish vs. Mature | P-value =  0.52 |  Swedish and channel maturity rating are NOT independent\n"
     ]
    }
   ],
   "source": [
    "# Chai Square Test for language and maturity rating\n",
    "\n",
    "for i in twitch_modified['Language'].unique():\n",
    "    temp = twitch_modified.copy()\n",
    "    temp['TempLanguage'] = twitch_modified['Language'].apply(\n",
    "        lambda x: i if x == i else f'Not_{1}'\n",
    "    )\n",
    "\n",
    "    temp_crosstab = pd.crosstab(\n",
    "        temp['TempLanguage'], twitch_modified['Mature'], margins=False\n",
    "    )\n",
    "    c, p, dof, expected = chi2_contingency(temp_crosstab)\n",
    "\n",
    "    p = round(p, 2)\n",
    "\n",
    "    if p == 1.0:\n",
    "        output_text = \"Not enough info\"\n",
    "    elif p < 0.05:\n",
    "        output_text = f'{i} and channel maturity rating ARE independent'\n",
    "    else:\n",
    "        output_text = f'{i} and channel maturity rating are NOT independent'\n",
    "    print(i, 'vs. Mature', '| P-value = ', p, \"| \", output_text)"
   ]
  },
  {
   "cell_type": "code",
   "execution_count": 40,
   "metadata": {},
   "outputs": [
    {
     "name": "stdout",
     "output_type": "stream",
     "text": [
      "English vs. Partnered | P-value =  0.61 |  English and partnership are NOT independent\n",
      "Portuguese vs. Partnered | P-value =  1.0 |  Not enough info\n",
      "Spanish vs. Partnered | P-value =  1.0 |  Not enough info\n",
      "German vs. Partnered | P-value =  1.0 |  Not enough info\n",
      "Korean vs. Partnered | P-value =  0.88 |  Korean and partnership are NOT independent\n",
      "French vs. Partnered | P-value =  1.0 |  Not enough info\n",
      "Russian vs. Partnered | P-value =  0.0 |  Russian and partnership ARE independent\n",
      "Japanese vs. Partnered | P-value =  1.0 |  Not enough info\n",
      "Chinese vs. Partnered | P-value =  0.84 |  Chinese and partnership are NOT independent\n",
      "Czech vs. Partnered | P-value =  1.0 |  Not enough info\n",
      "Turkish vs. Partnered | P-value =  1.0 |  Not enough info\n",
      "Italian vs. Partnered | P-value =  1.0 |  Not enough info\n",
      "Polish vs. Partnered | P-value =  1.0 |  Not enough info\n",
      "Thai vs. Partnered | P-value =  1.0 |  Not enough info\n",
      "Arabic vs. Partnered | P-value =  1.0 |  Not enough info\n",
      "Slovak vs. Partnered | P-value =  1.0 |  Not enough info\n",
      "Other vs. Partnered | P-value =  0.0 |  Other and partnership ARE independent\n",
      "Hungarian vs. Partnered | P-value =  1.0 |  Not enough info\n",
      "Greek vs. Partnered | P-value =  1.0 |  Not enough info\n",
      "Finnish vs. Partnered | P-value =  1.0 |  Not enough info\n",
      "Swedish vs. Partnered | P-value =  1.0 |  Not enough info\n"
     ]
    }
   ],
   "source": [
    "# Chai Square Test for Language and Partnered rating\n",
    "\n",
    "for i in twitch_modified['Language'].unique():\n",
    "    temp = twitch_modified.copy()\n",
    "    temp['TempLanguage'] = twitch_modified['Language'].apply(\n",
    "        lambda x: i if x == i else f'Not_{1}'\n",
    "    )\n",
    "\n",
    "    temp_crosstab = pd.crosstab(\n",
    "        temp['TempLanguage'], twitch_modified['Partnered'], margins=False\n",
    "    )\n",
    "    c, p, dof, expected = chi2_contingency(temp_crosstab)\n",
    "\n",
    "    p = round(p, 2)\n",
    "\n",
    "    if p == 1.0:\n",
    "        output_text = \"Not enough info\"\n",
    "    elif p < 0.05:\n",
    "        output_text = f'{i} and partnership ARE independent'\n",
    "    else:\n",
    "        output_text = f'{i} and partnership are NOT independent'\n",
    "    print(i, 'vs. Partnered', '| P-value = ', p, \"| \", output_text)"
   ]
  },
  {
   "cell_type": "code",
   "execution_count": 42,
   "metadata": {},
   "outputs": [
    {
     "name": "stdout",
     "output_type": "stream",
     "text": [
      "True vs. Mature | P-value =  0.0 |  True and channel maturity rating ARE independent\n",
      "False vs. Mature | P-value =  0.0 |  False and channel maturity rating ARE independent\n"
     ]
    }
   ],
   "source": [
    "# Chai Square Test for Partnered and maturity rating\n",
    "\n",
    "for i in twitch_modified['Partnered'].unique():\n",
    "    temp = twitch_modified.copy()\n",
    "    temp['TempPartnered'] = twitch_modified['Mature'].apply(\n",
    "        lambda x: i if x == i else f'Not_{1}'\n",
    "    )\n",
    "\n",
    "    temp_crosstab = pd.crosstab(\n",
    "        temp['TempPartnered'], twitch_modified['Mature'], margins=False\n",
    "    )\n",
    "    c, p, dof, expected = chi2_contingency(temp_crosstab)\n",
    "\n",
    "    p = round(p, 2)\n",
    "\n",
    "    if p == 1.0:\n",
    "        output_text = \"Not enough info\"\n",
    "    elif p < 0.05:\n",
    "        output_text = f'{i} and channel maturity rating ARE independent'\n",
    "    else:\n",
    "        output_text = f'{i} and channel maturity rating are NOT independent'\n",
    "    print(i, 'vs. Mature', '| P-value = ', p, \"| \", output_text)"
   ]
  },
  {
   "cell_type": "code",
   "execution_count": 66,
   "metadata": {},
   "outputs": [],
   "source": [
    "# To filter the data for rows that are not mature and the channel's primary panguage is english\n",
    "\n",
    "filt = (twitch_modified['Mature'] == 0) & (twitch_modified['Language'] == 'English')"
   ]
  },
  {
   "cell_type": "code",
   "execution_count": 67,
   "metadata": {},
   "outputs": [
    {
     "data": {
      "text/plain": [
       "<BarContainer object of 10 artists>"
      ]
     },
     "execution_count": 67,
     "metadata": {},
     "output_type": "execute_result"
    },
    {
     "data": {
      "image/png": "[encoded data removed]",
      "text/plain": [
       "<Figure size 720x432 with 1 Axes>"
      ]
     },
     "metadata": {},
     "output_type": "display_data"
    }
   ],
   "source": [
    "follower_pt = twitch_modified[filt].pivot_table(index='Channel', values='Followers', aggfunc= np.median).sort_values('Followers', ascending=0).head(10)\n",
    "\n",
    "plt.figure(figsize=(10,6))\n",
    "plt.style.use('seaborn-bright')\n",
    "\n",
    "plt.title('Top 10 Channel Follower Count')\n",
    "plt.xlabel('Followers (1,000,000s)')\n",
    "\n",
    "plt.barh(follower_pt.index,follower_pt['Followers'], color= '#18CD21')\n"
   ]
  },
  {
   "cell_type": "code",
   "execution_count": 68,
   "metadata": {},
   "outputs": [
    {
     "data": {
      "text/plain": [
       "<BarContainer object of 10 artists>"
      ]
     },
     "execution_count": 68,
     "metadata": {},
     "output_type": "execute_result"
    },
    {
     "data": {
      "image/png": "[encoded data removed]",
      "text/plain": [
       "<Figure size 720x432 with 1 Axes>"
      ]
     },
     "metadata": {},
     "output_type": "display_data"
    }
   ],
   "source": [
    "Peak_Viewer_pt = twitch_modified[filt].pivot_table(index= 'Channel', values= 'Peak_Viewers', aggfunc=np.median).sort_values('Peak_Viewers', ascending= 0).head(10)\n",
    "\n",
    "plt.figure(figsize=(10,6))\n",
    "plt.style.use('seaborn-bright')\n",
    "\n",
    "plt.title('Top 10 Channel Peak Views')\n",
    "plt.xlabel('Views')\n",
    "\n",
    "plt.barh(Peak_Viewer_pt.index, Peak_Viewer_pt['Peak_Viewers'], color= '#F1BC13')"
   ]
  },
  {
   "cell_type": "code",
   "execution_count": 43,
   "metadata": {},
   "outputs": [
    {
     "data": {
      "text/plain": [
       "<BarContainer object of 10 artists>"
      ]
     },
     "execution_count": 43,
     "metadata": {},
     "output_type": "execute_result"
    },
    {
     "data": {
      "image/png": "[encoded data removed]",
      "text/plain": [
       "<Figure size 720x432 with 1 Axes>"
      ]
     },
     "metadata": {},
     "output_type": "display_data"
    }
   ],
   "source": [
    "Average_Viewer_pt = twitch_modified.pivot_table(index= 'Channel', values= 'Average_Viewers', aggfunc=np.median).sort_values('Average_Viewers', ascending= 0).head(10)\n",
    "\n",
    "plt.figure(figsize=(10,6))\n",
    "plt.title(\"Top 10 Channel Average Viewers\")\n",
    "plt.xlabel('Average Viewers')\n",
    "\n",
    "plt.barh(Average_Viewer_pt.index, Average_Viewer_pt['Average_Viewers'], color= '#13B1F1')"
   ]
  },
  {
   "cell_type": "code",
   "execution_count": 70,
   "metadata": {},
   "outputs": [
    {
     "name": "stderr",
     "output_type": "stream",
     "text": [
      "/var/folders/y_/ysyrdtz17d57_0xk5j1h5yrm0000gn/T/ipykernel_7452/4116979792.py:8: MatplotlibDeprecationWarning:\n",
      "\n",
      "Auto-removal of grids by pcolor() and pcolormesh() is deprecated since 3.5 and will be removed two minor releases later; please call grid(False) first.\n",
      "\n"
     ]
    },
    {
     "data": {
      "image/png": "[encoded data removed]",
      "text/plain": [
       "<Figure size 720x432 with 2 Axes>"
      ]
     },
     "metadata": {},
     "output_type": "display_data"
    }
   ],
   "source": [
    "x = twitch_modified['Followers']\n",
    "y = twitch_modified['Average_Viewers']\n",
    "z = twitch_modified['Peak_Viewers']\n",
    "\n",
    "plt.figure(figsize=(10,6))\n",
    "plt.scatter(x, y, c=z, cmap= 'autumn', edgecolors= 'black', linewidths=1, alpha=0.60)\n",
    "\n",
    "cbar = plt.colorbar()\n",
    "cbar.set_label('Peak_Viewers')\n",
    "\n",
    "plt.title('Followers v Average Views')\n",
    "plt.xlabel('Followers')\n",
    "plt.ylabel('Average')\n",
    "\n",
    "plt.xscale('log')\n",
    "plt.yscale('log')\n",
    "\n",
    "plt.show()\n"
   ]
  },
  {
   "cell_type": "code",
   "execution_count": 77,
   "metadata": {},
   "outputs": [
    {
     "data": {
      "text/html": [
       "<div>\n",
       "<style scoped>\n",
       "    .dataframe tbody tr th:only-of-type {\n",
       "        vertical-align: middle;\n",
       "    }\n",
       "\n",
       "    .dataframe tbody tr th {\n",
       "        vertical-align: top;\n",
       "    }\n",
       "\n",
       "    .dataframe thead th {\n",
       "        text-align: right;\n",
       "    }\n",
       "</style>\n",
       "<table border=\"1\" class=\"dataframe\">\n",
       "  <thead>\n",
       "    <tr style=\"text-align: right;\">\n",
       "      <th></th>\n",
       "      <th></th>\n",
       "      <th></th>\n",
       "      <th>Watch_Time(Hours)</th>\n",
       "      <th>Stream_Time(Hours)</th>\n",
       "      <th>Peak_Viewers</th>\n",
       "      <th>Average_Viewers</th>\n",
       "      <th>Followers</th>\n",
       "      <th>Partnered</th>\n",
       "      <th>Mature</th>\n",
       "    </tr>\n",
       "    <tr>\n",
       "      <th>Channel</th>\n",
       "      <th>Followers_Gained</th>\n",
       "      <th>Views_Gained</th>\n",
       "      <th></th>\n",
       "      <th></th>\n",
       "      <th></th>\n",
       "      <th></th>\n",
       "      <th></th>\n",
       "      <th></th>\n",
       "      <th></th>\n",
       "    </tr>\n",
       "  </thead>\n",
       "  <tbody>\n",
       "    <tr>\n",
       "      <th>10000DAYS</th>\n",
       "      <th>158473</th>\n",
       "      <th>10528149</th>\n",
       "      <td>793.024167</td>\n",
       "      <td>2192.75</td>\n",
       "      <td>11193.0</td>\n",
       "      <td>1255.0</td>\n",
       "      <td>356683.0</td>\n",
       "      <td>1.0</td>\n",
       "      <td>0.0</td>\n",
       "    </tr>\n",
       "    <tr>\n",
       "      <th>1DrakoNz</th>\n",
       "      <th>252999</th>\n",
       "      <th>6950267</th>\n",
       "      <td>1154.982847</td>\n",
       "      <td>1653.00</td>\n",
       "      <td>15242.0</td>\n",
       "      <td>2655.0</td>\n",
       "      <td>373375.0</td>\n",
       "      <td>1.0</td>\n",
       "      <td>1.0</td>\n",
       "    </tr>\n",
       "    <tr>\n",
       "      <th>1PVCS</th>\n",
       "      <th>31807</th>\n",
       "      <th>8056327</th>\n",
       "      <td>726.027500</td>\n",
       "      <td>897.25</td>\n",
       "      <td>23081.0</td>\n",
       "      <td>2256.0</td>\n",
       "      <td>71596.0</td>\n",
       "      <td>1.0</td>\n",
       "      <td>0.0</td>\n",
       "    </tr>\n",
       "    <tr>\n",
       "      <th>39daph</th>\n",
       "      <th>470589</th>\n",
       "      <th>8983449</th>\n",
       "      <td>2356.723958</td>\n",
       "      <td>2258.25</td>\n",
       "      <td>12648.0</td>\n",
       "      <td>3766.0</td>\n",
       "      <td>505362.0</td>\n",
       "      <td>1.0</td>\n",
       "      <td>0.0</td>\n",
       "    </tr>\n",
       "    <tr>\n",
       "      <th>72hrs</th>\n",
       "      <th>315190</th>\n",
       "      <th>12051692</th>\n",
       "      <td>2404.900764</td>\n",
       "      <td>2275.25</td>\n",
       "      <td>30702.0</td>\n",
       "      <td>3756.0</td>\n",
       "      <td>1024814.0</td>\n",
       "      <td>1.0</td>\n",
       "      <td>0.0</td>\n",
       "    </tr>\n",
       "    <tr>\n",
       "      <th>...</th>\n",
       "      <th>...</th>\n",
       "      <th>...</th>\n",
       "      <td>...</td>\n",
       "      <td>...</td>\n",
       "      <td>...</td>\n",
       "      <td>...</td>\n",
       "      <td>...</td>\n",
       "      <td>...</td>\n",
       "      <td>...</td>\n",
       "    </tr>\n",
       "    <tr>\n",
       "      <th>핑맨 (95pingman)</th>\n",
       "      <th>97696</th>\n",
       "      <th>3424139</th>\n",
       "      <td>762.377292</td>\n",
       "      <td>790.50</td>\n",
       "      <td>26738.0</td>\n",
       "      <td>3449.0</td>\n",
       "      <td>195423.0</td>\n",
       "      <td>1.0</td>\n",
       "      <td>0.0</td>\n",
       "    </tr>\n",
       "    <tr>\n",
       "      <th>한동숙 (handongsuk)</th>\n",
       "      <th>73602</th>\n",
       "      <th>30610352</th>\n",
       "      <td>7507.721875</td>\n",
       "      <td>2130.25</td>\n",
       "      <td>44976.0</td>\n",
       "      <td>12869.0</td>\n",
       "      <td>385250.0</td>\n",
       "      <td>1.0</td>\n",
       "      <td>0.0</td>\n",
       "    </tr>\n",
       "    <tr>\n",
       "      <th>햇살살 (hatsalsal)</th>\n",
       "      <th>25730</th>\n",
       "      <th>5576914</th>\n",
       "      <td>723.199097</td>\n",
       "      <td>1984.00</td>\n",
       "      <td>3915.0</td>\n",
       "      <td>1302.0</td>\n",
       "      <td>77861.0</td>\n",
       "      <td>1.0</td>\n",
       "      <td>0.0</td>\n",
       "    </tr>\n",
       "    <tr>\n",
       "      <th>헤징 (hejin0_0)</th>\n",
       "      <th>72192</th>\n",
       "      <th>5800110</th>\n",
       "      <td>591.252153</td>\n",
       "      <td>2097.75</td>\n",
       "      <td>3032.0</td>\n",
       "      <td>1017.0</td>\n",
       "      <td>123451.0</td>\n",
       "      <td>1.0</td>\n",
       "      <td>0.0</td>\n",
       "    </tr>\n",
       "    <tr>\n",
       "      <th>홍방장 (game2eye)</th>\n",
       "      <th>22221</th>\n",
       "      <th>5266599</th>\n",
       "      <td>800.997361</td>\n",
       "      <td>1600.75</td>\n",
       "      <td>5698.0</td>\n",
       "      <td>1669.0</td>\n",
       "      <td>183891.0</td>\n",
       "      <td>1.0</td>\n",
       "      <td>0.0</td>\n",
       "    </tr>\n",
       "  </tbody>\n",
       "</table>\n",
       "<p>1000 rows × 7 columns</p>\n",
       "</div>"
      ],
      "text/plain": [
       "                                                Watch_Time(Hours)  \\\n",
       "Channel          Followers_Gained Views_Gained                      \n",
       "10000DAYS        158473           10528149             793.024167   \n",
       "1DrakoNz         252999           6950267             1154.982847   \n",
       "1PVCS            31807            8056327              726.027500   \n",
       "39daph           470589           8983449             2356.723958   \n",
       "72hrs            315190           12051692            2404.900764   \n",
       "...                                                           ...   \n",
       "핑맨 (95pingman)   97696            3424139              762.377292   \n",
       "한동숙 (handongsuk) 73602            30610352            7507.721875   \n",
       "햇살살 (hatsalsal)  25730            5576914              723.199097   \n",
       "헤징 (hejin0_0)    72192            5800110              591.252153   \n",
       "홍방장 (game2eye)   22221            5266599              800.997361   \n",
       "\n",
       "                                                Stream_Time(Hours)  \\\n",
       "Channel          Followers_Gained Views_Gained                       \n",
       "10000DAYS        158473           10528149                 2192.75   \n",
       "1DrakoNz         252999           6950267                  1653.00   \n",
       "1PVCS            31807            8056327                   897.25   \n",
       "39daph           470589           8983449                  2258.25   \n",
       "72hrs            315190           12051692                 2275.25   \n",
       "...                                                            ...   \n",
       "핑맨 (95pingman)   97696            3424139                   790.50   \n",
       "한동숙 (handongsuk) 73602            30610352                 2130.25   \n",
       "햇살살 (hatsalsal)  25730            5576914                  1984.00   \n",
       "헤징 (hejin0_0)    72192            5800110                  2097.75   \n",
       "홍방장 (game2eye)   22221            5266599                  1600.75   \n",
       "\n",
       "                                                Peak_Viewers  Average_Viewers  \\\n",
       "Channel          Followers_Gained Views_Gained                                  \n",
       "10000DAYS        158473           10528149           11193.0           1255.0   \n",
       "1DrakoNz         252999           6950267            15242.0           2655.0   \n",
       "1PVCS            31807            8056327            23081.0           2256.0   \n",
       "39daph           470589           8983449            12648.0           3766.0   \n",
       "72hrs            315190           12051692           30702.0           3756.0   \n",
       "...                                                      ...              ...   \n",
       "핑맨 (95pingman)   97696            3424139            26738.0           3449.0   \n",
       "한동숙 (handongsuk) 73602            30610352           44976.0          12869.0   \n",
       "햇살살 (hatsalsal)  25730            5576914             3915.0           1302.0   \n",
       "헤징 (hejin0_0)    72192            5800110             3032.0           1017.0   \n",
       "홍방장 (game2eye)   22221            5266599             5698.0           1669.0   \n",
       "\n",
       "                                                Followers  Partnered  Mature  \n",
       "Channel          Followers_Gained Views_Gained                                \n",
       "10000DAYS        158473           10528149       356683.0        1.0     0.0  \n",
       "1DrakoNz         252999           6950267        373375.0        1.0     1.0  \n",
       "1PVCS            31807            8056327         71596.0        1.0     0.0  \n",
       "39daph           470589           8983449        505362.0        1.0     0.0  \n",
       "72hrs            315190           12051692      1024814.0        1.0     0.0  \n",
       "...                                                   ...        ...     ...  \n",
       "핑맨 (95pingman)   97696            3424139        195423.0        1.0     0.0  \n",
       "한동숙 (handongsuk) 73602            30610352       385250.0        1.0     0.0  \n",
       "햇살살 (hatsalsal)  25730            5576914         77861.0        1.0     0.0  \n",
       "헤징 (hejin0_0)    72192            5800110        123451.0        1.0     0.0  \n",
       "홍방장 (game2eye)   22221            5266599        183891.0        1.0     0.0  \n",
       "\n",
       "[1000 rows x 7 columns]"
      ]
     },
     "execution_count": 77,
     "metadata": {},
     "output_type": "execute_result"
    }
   ],
   "source": [
    "twitch_modified.groupby(['Channel','Followers_Gained', 'Views_Gained']).median()"
   ]
  },
  {
   "cell_type": "code",
   "execution_count": 116,
   "metadata": {},
   "outputs": [
    {
     "data": {
      "image/png": "[encoded data removed]",
      "text/plain": [
       "<Figure size 576x396 with 1 Axes>"
      ]
     },
     "metadata": {},
     "output_type": "display_data"
    }
   ],
   "source": [
    "Growth = twitch_modified.loc[:,['Channel','Followers_Gained', 'Views_Gained']].sort_values('Views_Gained', ascending=0).head(10)\n",
    "plotData = pd.DataFrame({'Channel': Growth['Channel'], 'Followers_Gained': Growth['Followers_Gained'], 'Views_Gained': Growth['Views_Gained']})\n",
    "\n",
    "plotData.set_index('Channel')\n",
    "ax = plotData.plot.barh(stacked= True)\n",
    "\n",
    "plt.legend(bbox_to_anchor=(1.05,1), loc= 'upper left')\n",
    "plt.title('Audience Health')\n",
    "plt.xlabel('Audience Number')\n",
    "plt.xscale('log')"
   ]
  },
  {
   "cell_type": "code",
   "execution_count": 88,
   "metadata": {},
   "outputs": [
    {
     "data": {
      "image/png": "[encoded data removed]",
      "text/plain": [
       "<Figure size 720x432 with 1 Axes>"
      ]
     },
     "metadata": {},
     "output_type": "display_data"
    }
   ],
   "source": [
    "x = twitch_modified['Stream_Time(Minutes)']\n",
    "y = twitch_modified['Average_Viewers']\n",
    "\n",
    "plt.figure(figsize=(10,6))\n",
    "plt.scatter(x, y, cmap= 'winter', edgecolors= 'black', linewidths=1, alpha=0.60)\n",
    "\n",
    "plt.title('Stream Time v Average Views')\n",
    "plt.xlabel('Stream Time (Minutes)')\n",
    "plt.ylabel('Viewers')\n",
    "\n",
    "plt.xscale('log')\n",
    "plt.yscale('log')\n",
    "\n",
    "plt.show()"
   ]
  }
 ],
 "metadata": {
  "kernelspec": {
   "display_name": "Python 3.9.12 ('base')",
   "language": "python",
   "name": "python3"
  },
  "language_info": {
   "codemirror_mode": {
    "name": "ipython",
    "version": 3
   },
   "file_extension": ".py",
   "mimetype": "text/x-python",
   "name": "python",
   "nbconvert_exporter": "python",
   "pygments_lexer": "ipython3",
   "version": "3.9.12"
  },
  "orig_nbformat": 4,
  "vscode": {
   "interpreter": {
    "hash": "2f7708d69008ebc959c6125316cac27f4ab26eba14f3f76bcfc4759ea7f82bcf"
   }
  }
 },
 "nbformat": 4,
 "nbformat_minor": 2
}
